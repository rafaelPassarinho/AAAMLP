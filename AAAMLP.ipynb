{
  "cells": [
    {
      "cell_type": "markdown",
      "metadata": {
        "id": "X0rpVD0YAzXz"
      },
      "source": [
        "#[Aproaching (Almost) Any Machine Learning Problem](https://drive.google.com/file/d/1W5kh2M-fq6l_O0q-Dq028pndv7csLxvu/view?usp=share_link)\n"
      ]
    },
    {
      "cell_type": "code",
      "execution_count": null,
      "metadata": {
        "colab": {
          "base_uri": "https://localhost:8080/"
        },
        "id": "1CeyhvcqGka7",
        "outputId": "95921a6b-c069-457f-f71b-ee4f501cda1f"
      },
      "outputs": [],
      "source": [
        "from google.colab import drive\n",
        "drive.mount('/content/grdrive')"
      ]
    },
    {
      "cell_type": "markdown",
      "metadata": {
        "id": "7uRWWtiTAndb"
      },
      "source": [
        "##Supervised vs unsupervised learning"
      ]
    },
    {
      "cell_type": "code",
      "execution_count": 4,
      "metadata": {
        "colab": {
          "base_uri": "https://localhost:8080/"
        },
        "id": "g4UTppVmMwNw",
        "outputId": "4237e3ee-528d-40c7-a975-1a836b75d00c"
      },
      "outputs": [
        {
          "name": "stdout",
          "output_type": "stream",
          "text": [
            "Requirement already satisfied: boruta in c:\\users\\rafel\\appdata\\local\\programs\\python\\python310\\lib\\site-packages (0.3)\n",
            "Requirement already satisfied: numpy>=1.10.4 in c:\\users\\rafel\\appdata\\local\\programs\\python\\python310\\lib\\site-packages (from boruta) (1.23.3)\n",
            "Requirement already satisfied: scikit-learn>=0.17.1 in c:\\users\\rafel\\appdata\\local\\programs\\python\\python310\\lib\\site-packages (from boruta) (1.2.2)\n",
            "Requirement already satisfied: scipy>=0.17.0 in c:\\users\\rafel\\appdata\\local\\programs\\python\\python310\\lib\\site-packages (from boruta) (1.10.1)\n",
            "Requirement already satisfied: joblib>=1.1.1 in c:\\users\\rafel\\appdata\\local\\programs\\python\\python310\\lib\\site-packages (from scikit-learn>=0.17.1->boruta) (1.2.0)\n",
            "Requirement already satisfied: threadpoolctl>=2.0.0 in c:\\users\\rafel\\appdata\\local\\programs\\python\\python310\\lib\\site-packages (from scikit-learn>=0.17.1->boruta) (3.1.0)\n"
          ]
        },
        {
          "name": "stderr",
          "output_type": "stream",
          "text": [
            "\n",
            "[notice] A new release of pip available: 22.3.1 -> 23.0.1\n",
            "[notice] To update, run: python.exe -m pip install --upgrade pip\n"
          ]
        },
        {
          "name": "stdout",
          "output_type": "stream",
          "text": [
            "Collecting matplotlib\n",
            "  Downloading matplotlib-3.7.1-cp310-cp310-win_amd64.whl (7.6 MB)\n",
            "     ---------------------------------------- 7.6/7.6 MB 11.6 MB/s eta 0:00:00\n",
            "Collecting cycler>=0.10\n",
            "  Downloading cycler-0.11.0-py3-none-any.whl (6.4 kB)\n",
            "Requirement already satisfied: python-dateutil>=2.7 in c:\\users\\rafel\\appdata\\local\\programs\\python\\python310\\lib\\site-packages (from matplotlib) (2.8.2)\n",
            "Requirement already satisfied: pyparsing>=2.3.1 in c:\\users\\rafel\\appdata\\local\\programs\\python\\python310\\lib\\site-packages (from matplotlib) (3.0.9)\n",
            "Requirement already satisfied: packaging>=20.0 in c:\\users\\rafel\\appdata\\local\\programs\\python\\python310\\lib\\site-packages (from matplotlib) (21.3)\n",
            "Collecting contourpy>=1.0.1\n",
            "  Downloading contourpy-1.0.7-cp310-cp310-win_amd64.whl (162 kB)\n",
            "     -------------------------------------- 163.0/163.0 kB 9.5 MB/s eta 0:00:00\n",
            "Collecting fonttools>=4.22.0\n",
            "  Downloading fonttools-4.39.3-py3-none-any.whl (1.0 MB)\n",
            "     ---------------------------------------- 1.0/1.0 MB 21.7 MB/s eta 0:00:00\n",
            "Collecting kiwisolver>=1.0.1\n",
            "  Downloading kiwisolver-1.4.4-cp310-cp310-win_amd64.whl (55 kB)\n",
            "     ---------------------------------------- 55.3/55.3 kB 2.8 MB/s eta 0:00:00\n",
            "Requirement already satisfied: numpy>=1.20 in c:\\users\\rafel\\appdata\\local\\programs\\python\\python310\\lib\\site-packages (from matplotlib) (1.23.3)\n",
            "Requirement already satisfied: pillow>=6.2.0 in c:\\users\\rafel\\appdata\\local\\programs\\python\\python310\\lib\\site-packages (from matplotlib) (9.2.0)\n",
            "Requirement already satisfied: six>=1.5 in c:\\users\\rafel\\appdata\\local\\programs\\python\\python310\\lib\\site-packages (from python-dateutil>=2.7->matplotlib) (1.16.0)\n",
            "Installing collected packages: kiwisolver, fonttools, cycler, contourpy, matplotlib\n",
            "Successfully installed contourpy-1.0.7 cycler-0.11.0 fonttools-4.39.3 kiwisolver-1.4.4 matplotlib-3.7.1\n"
          ]
        },
        {
          "name": "stderr",
          "output_type": "stream",
          "text": [
            "\n",
            "[notice] A new release of pip available: 22.3.1 -> 23.0.1\n",
            "[notice] To update, run: python.exe -m pip install --upgrade pip\n"
          ]
        }
      ],
      "source": [
        "!pip install boruta\n",
        "!pip install matplotlib"
      ]
    },
    {
      "cell_type": "code",
      "execution_count": 2,
      "metadata": {
        "id": "oOjKJ7zYsqzu"
      },
      "outputs": [],
      "source": [
        "import matplotlib\n",
        "import matplotlib.pyplot as plt\n",
        "import numpy as np\n",
        "import pandas as pd\n",
        "import seaborn as sns\n",
        "import xgboost as xgb\n",
        "import scipy as sp\n",
        "import itertools\n",
        "import copy\n",
        "import gc\n",
        "import joblib\n",
        "\n",
        "from sklearn import ensemble\n",
        "from sklearn import datasets\n",
        "from sklearn import decomposition\n",
        "from sklearn import manifold\n",
        "from sklearn import preprocessing\n",
        "from sklearn import model_selection\n",
        "from sklearn import metrics\n",
        "from sklearn import linear_model\n",
        "from sklearn import tree\n",
        "from sklearn.ensemble import RandomForestRegressor\n",
        "from boruta import BorutaPy\n",
        "from scipy import sparse\n",
        "from tensorflow.keras import layers\n",
        "from tensorflow.keras import optimizers\n",
        "from tensorflow.keras.models import Model, load_model\n",
        "from tensorflow.keras import callbacks\n",
        "from tensorflow.keras import backend as K\n",
        "from tensorflow.keras import utils\n",
        "\n",
        "%matplotlib inline"
      ]
    },
    {
      "cell_type": "code",
      "execution_count": null,
      "metadata": {
        "colab": {
          "base_uri": "https://localhost:8080/"
        },
        "id": "C7z9RnKJwL98",
        "outputId": "9c4010a6-f810-45c1-fed8-c7d4b704f633"
      },
      "outputs": [
        {
          "name": "stderr",
          "output_type": "stream",
          "text": [
            "/usr/local/lib/python3.9/dist-packages/sklearn/datasets/_openml.py:968: FutureWarning: The default value of `parser` will change from `'liac-arff'` to `'auto'` in 1.4. You can set `parser='auto'` to silence this warning. Therefore, an `ImportError` will be raised from 1.4 if the dataset is dense and pandas is not installed. Note that the pandas parser may return different data types. See the Notes Section in fetch_openml's API doc for details.\n",
            "  warn(\n"
          ]
        }
      ],
      "source": [
        "data = datasets.fetch_openml(\n",
        "                  'mnist_784',\n",
        "                  version=1,\n",
        "                  return_X_y=True\n",
        ")\n",
        "pixel_values, targets = data\n",
        "targets = targets.astype(int)"
      ]
    },
    {
      "cell_type": "code",
      "execution_count": null,
      "metadata": {
        "colab": {
          "base_uri": "https://localhost:8080/",
          "height": 282
        },
        "id": "Kv_iGrIYwzEJ",
        "outputId": "d5b5c902-5ff7-493d-a4f3-d41bfed5aad0"
      },
      "outputs": [
        {
          "data": {
            "text/plain": [
              "<matplotlib.image.AxesImage at 0x7f747b63deb0>"
            ]
          },
          "execution_count": 6,
          "metadata": {},
          "output_type": "execute_result"
        },
        {
          "data": {
            "image/png": "[encoded data removed]",
            "text/plain": [
              "<Figure size 432x288 with 1 Axes>"
            ]
          },
          "metadata": {
            "needs_background": "light"
          },
          "output_type": "display_data"
        }
      ],
      "source": [
        "single_image = pixel_values.iloc[4,:].values.reshape(28,28)\n",
        "plt.imshow(single_image, cmap='gray')"
      ]
    },
    {
      "cell_type": "code",
      "execution_count": null,
      "metadata": {
        "id": "Ns9FOnJb0MYp"
      },
      "outputs": [],
      "source": [
        "tsne = manifold.TSNE(n_components = 2, random_state=42)\n",
        "\n",
        "transformed_data = tsne.fit_transform(pixel_values.iloc[:3000, :])"
      ]
    },
    {
      "cell_type": "code",
      "execution_count": null,
      "metadata": {
        "id": "Yt5UOqyl0rY-"
      },
      "outputs": [],
      "source": [
        "tsne_df = pd.DataFrame(\n",
        "    np.column_stack((transformed_data, targets[:3000])),\n",
        "    columns=['x', 'y', 'targets']\n",
        ")\n",
        "\n",
        "tsne_df.loc[:, 'targets'] = tsne_df.targets.astype(int)"
      ]
    },
    {
      "cell_type": "code",
      "execution_count": null,
      "metadata": {
        "colab": {
          "base_uri": "https://localhost:8080/",
          "height": 206
        },
        "id": "-fEgP65_3G_K",
        "outputId": "4b5d0555-0397-403e-ed22-d5179d26d3c0"
      },
      "outputs": [
        {
          "data": {
            "text/html": [
              "\n",
              "  <div id=\"df-374b2634-c516-4110-bc4d-e74d2d471aed\">\n",
              "    <div class=\"colab-df-container\">\n",
              "      <div>\n",
              "<style scoped>\n",
              "    .dataframe tbody tr th:only-of-type {\n",
              "        vertical-align: middle;\n",
              "    }\n",
              "\n",
              "    .dataframe tbody tr th {\n",
              "        vertical-align: top;\n",
              "    }\n",
              "\n",
              "    .dataframe thead th {\n",
              "        text-align: right;\n",
              "    }\n",
              "</style>\n",
              "<table border=\"1\" class=\"dataframe\">\n",
              "  <thead>\n",
              "    <tr style=\"text-align: right;\">\n",
              "      <th></th>\n",
              "      <th>x</th>\n",
              "      <th>y</th>\n",
              "      <th>targets</th>\n",
              "    </tr>\n",
              "  </thead>\n",
              "  <tbody>\n",
              "    <tr>\n",
              "      <th>0</th>\n",
              "      <td>31.722771</td>\n",
              "      <td>-16.391663</td>\n",
              "      <td>5</td>\n",
              "    </tr>\n",
              "    <tr>\n",
              "      <th>1</th>\n",
              "      <td>10.612940</td>\n",
              "      <td>-67.804901</td>\n",
              "      <td>0</td>\n",
              "    </tr>\n",
              "    <tr>\n",
              "      <th>2</th>\n",
              "      <td>49.593014</td>\n",
              "      <td>38.388294</td>\n",
              "      <td>4</td>\n",
              "    </tr>\n",
              "    <tr>\n",
              "      <th>3</th>\n",
              "      <td>-37.814510</td>\n",
              "      <td>32.660255</td>\n",
              "      <td>1</td>\n",
              "    </tr>\n",
              "    <tr>\n",
              "      <th>4</th>\n",
              "      <td>22.104887</td>\n",
              "      <td>31.574816</td>\n",
              "      <td>9</td>\n",
              "    </tr>\n",
              "  </tbody>\n",
              "</table>\n",
              "</div>\n",
              "      <button class=\"colab-df-convert\" onclick=\"convertToInteractive('df-374b2634-c516-4110-bc4d-e74d2d471aed')\"\n",
              "              title=\"Convert this dataframe to an interactive table.\"\n",
              "              style=\"display:none;\">\n",
              "        \n",
              "  <svg xmlns=\"http://www.w3.org/2000/svg\" height=\"24px\"viewBox=\"0 0 24 24\"\n",
              "       width=\"24px\">\n",
              "    <path d=\"M0 0h24v24H0V0z\" fill=\"none\"/>\n",
              "    <path d=\"M18.56 5.44l.94 2.06.94-2.06 2.06-.94-2.06-.94-.94-2.06-.94 2.06-2.06.94zm-11 1L8.5 8.5l.94-2.06 2.06-.94-2.06-.94L8.5 2.5l-.94 2.06-2.06.94zm10 10l.94 2.06.94-2.06 2.06-.94-2.06-.94-.94-2.06-.94 2.06-2.06.94z\"/><path d=\"M17.41 7.96l-1.37-1.37c-.4-.4-.92-.59-1.43-.59-.52 0-1.04.2-1.43.59L10.3 9.45l-7.72 7.72c-.78.78-.78 2.05 0 2.83L4 21.41c.39.39.9.59 1.41.59.51 0 1.02-.2 1.41-.59l7.78-7.78 2.81-2.81c.8-.78.8-2.07 0-2.86zM5.41 20L4 18.59l7.72-7.72 1.47 1.35L5.41 20z\"/>\n",
              "  </svg>\n",
              "      </button>\n",
              "      \n",
              "  <style>\n",
              "    .colab-df-container {\n",
              "      display:flex;\n",
              "      flex-wrap:wrap;\n",
              "      gap: 12px;\n",
              "    }\n",
              "\n",
              "    .colab-df-convert {\n",
              "      background-color: #E8F0FE;\n",
              "      border: none;\n",
              "      border-radius: 50%;\n",
              "      cursor: pointer;\n",
              "      display: none;\n",
              "      fill: #1967D2;\n",
              "      height: 32px;\n",
              "      padding: 0 0 0 0;\n",
              "      width: 32px;\n",
              "    }\n",
              "\n",
              "    .colab-df-convert:hover {\n",
              "      background-color: #E2EBFA;\n",
              "      box-shadow: 0px 1px 2px rgba(60, 64, 67, 0.3), 0px 1px 3px 1px rgba(60, 64, 67, 0.15);\n",
              "      fill: #174EA6;\n",
              "    }\n",
              "\n",
              "    [theme=dark] .colab-df-convert {\n",
              "      background-color: #3B4455;\n",
              "      fill: #D2E3FC;\n",
              "    }\n",
              "\n",
              "    [theme=dark] .colab-df-convert:hover {\n",
              "      background-color: #434B5C;\n",
              "      box-shadow: 0px 1px 3px 1px rgba(0, 0, 0, 0.15);\n",
              "      filter: drop-shadow(0px 1px 2px rgba(0, 0, 0, 0.3));\n",
              "      fill: #FFFFFF;\n",
              "    }\n",
              "  </style>\n",
              "\n",
              "      <script>\n",
              "        const buttonEl =\n",
              "          document.querySelector('#df-374b2634-c516-4110-bc4d-e74d2d471aed button.colab-df-convert');\n",
              "        buttonEl.style.display =\n",
              "          google.colab.kernel.accessAllowed ? 'block' : 'none';\n",
              "\n",
              "        async function convertToInteractive(key) {\n",
              "          const element = document.querySelector('#df-374b2634-c516-4110-bc4d-e74d2d471aed');\n",
              "          const dataTable =\n",
              "            await google.colab.kernel.invokeFunction('convertToInteractive',\n",
              "                                                     [key], {});\n",
              "          if (!dataTable) return;\n",
              "\n",
              "          const docLinkHtml = 'Like what you see? Visit the ' +\n",
              "            '<a target=\"_blank\" href=https://colab.research.google.com/notebooks/data_table.ipynb>data table notebook</a>'\n",
              "            + ' to learn more about interactive tables.';\n",
              "          element.innerHTML = '';\n",
              "          dataTable['output_type'] = 'display_data';\n",
              "          await google.colab.output.renderOutput(dataTable, element);\n",
              "          const docLink = document.createElement('div');\n",
              "          docLink.innerHTML = docLinkHtml;\n",
              "          element.appendChild(docLink);\n",
              "        }\n",
              "      </script>\n",
              "    </div>\n",
              "  </div>\n",
              "  "
            ],
            "text/plain": [
              "           x          y  targets\n",
              "0  31.722771 -16.391663        5\n",
              "1  10.612940 -67.804901        0\n",
              "2  49.593014  38.388294        4\n",
              "3 -37.814510  32.660255        1\n",
              "4  22.104887  31.574816        9"
            ]
          },
          "execution_count": 6,
          "metadata": {},
          "output_type": "execute_result"
        }
      ],
      "source": [
        "tsne_df.head()"
      ]
    },
    {
      "cell_type": "code",
      "execution_count": null,
      "metadata": {
        "colab": {
          "base_uri": "https://localhost:8080/",
          "height": 602
        },
        "id": "CHF_bKL83NFB",
        "outputId": "f7db795f-d09b-42de-d60e-b5ed28dc2f57"
      },
      "outputs": [
        {
          "data": {
            "text/plain": [
              "<seaborn.axisgrid.FacetGrid at 0x7f746deae8e0>"
            ]
          },
          "execution_count": 16,
          "metadata": {},
          "output_type": "execute_result"
        },
        {
          "data": {
            "image/png": "[encoded data removed]",
            "text/plain": [
              "<Figure size 619.625x576 with 1 Axes>"
            ]
          },
          "metadata": {
            "needs_background": "light"
          },
          "output_type": "display_data"
        }
      ],
      "source": [
        "grid = sns.FacetGrid(tsne_df, hue='targets', height=8)\n",
        "\n",
        "grid.map(plt.scatter, 'x', 'y').add_legend()"
      ]
    },
    {
      "cell_type": "markdown",
      "metadata": {
        "id": "ykNxBkYiRNt2"
      },
      "source": [
        "##Boruta"
      ]
    },
    {
      "cell_type": "markdown",
      "metadata": {
        "id": "hzcCK3N6VviF"
      },
      "source": [
        "####Toy example"
      ]
    },
    {
      "cell_type": "code",
      "execution_count": null,
      "metadata": {
        "id": "M45NWMttVC2_"
      },
      "outputs": [],
      "source": [
        "# make X and y\n",
        "X = pd.DataFrame({'age': [25, 32, 47, 51, 62],\n",
        "                  'height': [182, 176, 174, 168, 181],\n",
        "                  'weight': [75, 71, 78, 72, 86]})\n",
        "y = pd.Series([20, 32, 45, 55, 61], name='income')"
      ]
    },
    {
      "cell_type": "markdown",
      "metadata": {
        "id": "DKl5tw1OV0fA"
      },
      "source": [
        "####shadow features"
      ]
    },
    {
      "cell_type": "code",
      "execution_count": null,
      "metadata": {
        "colab": {
          "base_uri": "https://localhost:8080/",
          "height": 206
        },
        "id": "UYTT0XExV4Q2",
        "outputId": "eb91bb75-fa71-4b1c-eeee-c89c0bed5908"
      },
      "outputs": [
        {
          "data": {
            "text/html": [
              "\n",
              "  <div id=\"df-79f14a84-381c-4f94-9052-a3bcee2e470e\">\n",
              "    <div class=\"colab-df-container\">\n",
              "      <div>\n",
              "<style scoped>\n",
              "    .dataframe tbody tr th:only-of-type {\n",
              "        vertical-align: middle;\n",
              "    }\n",
              "\n",
              "    .dataframe tbody tr th {\n",
              "        vertical-align: top;\n",
              "    }\n",
              "\n",
              "    .dataframe thead th {\n",
              "        text-align: right;\n",
              "    }\n",
              "</style>\n",
              "<table border=\"1\" class=\"dataframe\">\n",
              "  <thead>\n",
              "    <tr style=\"text-align: right;\">\n",
              "      <th></th>\n",
              "      <th>age</th>\n",
              "      <th>height</th>\n",
              "      <th>weight</th>\n",
              "      <th>shadow_age</th>\n",
              "      <th>shadow_height</th>\n",
              "      <th>shadow_weight</th>\n",
              "    </tr>\n",
              "  </thead>\n",
              "  <tbody>\n",
              "    <tr>\n",
              "      <th>0</th>\n",
              "      <td>25</td>\n",
              "      <td>182</td>\n",
              "      <td>75</td>\n",
              "      <td>32</td>\n",
              "      <td>168</td>\n",
              "      <td>71</td>\n",
              "    </tr>\n",
              "    <tr>\n",
              "      <th>1</th>\n",
              "      <td>32</td>\n",
              "      <td>176</td>\n",
              "      <td>71</td>\n",
              "      <td>62</td>\n",
              "      <td>176</td>\n",
              "      <td>75</td>\n",
              "    </tr>\n",
              "    <tr>\n",
              "      <th>2</th>\n",
              "      <td>47</td>\n",
              "      <td>174</td>\n",
              "      <td>78</td>\n",
              "      <td>47</td>\n",
              "      <td>174</td>\n",
              "      <td>72</td>\n",
              "    </tr>\n",
              "    <tr>\n",
              "      <th>3</th>\n",
              "      <td>51</td>\n",
              "      <td>168</td>\n",
              "      <td>72</td>\n",
              "      <td>25</td>\n",
              "      <td>182</td>\n",
              "      <td>86</td>\n",
              "    </tr>\n",
              "    <tr>\n",
              "      <th>4</th>\n",
              "      <td>62</td>\n",
              "      <td>181</td>\n",
              "      <td>86</td>\n",
              "      <td>51</td>\n",
              "      <td>181</td>\n",
              "      <td>78</td>\n",
              "    </tr>\n",
              "  </tbody>\n",
              "</table>\n",
              "</div>\n",
              "      <button class=\"colab-df-convert\" onclick=\"convertToInteractive('df-79f14a84-381c-4f94-9052-a3bcee2e470e')\"\n",
              "              title=\"Convert this dataframe to an interactive table.\"\n",
              "              style=\"display:none;\">\n",
              "        \n",
              "  <svg xmlns=\"http://www.w3.org/2000/svg\" height=\"24px\"viewBox=\"0 0 24 24\"\n",
              "       width=\"24px\">\n",
              "    <path d=\"M0 0h24v24H0V0z\" fill=\"none\"/>\n",
              "    <path d=\"M18.56 5.44l.94 2.06.94-2.06 2.06-.94-2.06-.94-.94-2.06-.94 2.06-2.06.94zm-11 1L8.5 8.5l.94-2.06 2.06-.94-2.06-.94L8.5 2.5l-.94 2.06-2.06.94zm10 10l.94 2.06.94-2.06 2.06-.94-2.06-.94-.94-2.06-.94 2.06-2.06.94z\"/><path d=\"M17.41 7.96l-1.37-1.37c-.4-.4-.92-.59-1.43-.59-.52 0-1.04.2-1.43.59L10.3 9.45l-7.72 7.72c-.78.78-.78 2.05 0 2.83L4 21.41c.39.39.9.59 1.41.59.51 0 1.02-.2 1.41-.59l7.78-7.78 2.81-2.81c.8-.78.8-2.07 0-2.86zM5.41 20L4 18.59l7.72-7.72 1.47 1.35L5.41 20z\"/>\n",
              "  </svg>\n",
              "      </button>\n",
              "      \n",
              "  <style>\n",
              "    .colab-df-container {\n",
              "      display:flex;\n",
              "      flex-wrap:wrap;\n",
              "      gap: 12px;\n",
              "    }\n",
              "\n",
              "    .colab-df-convert {\n",
              "      background-color: #E8F0FE;\n",
              "      border: none;\n",
              "      border-radius: 50%;\n",
              "      cursor: pointer;\n",
              "      display: none;\n",
              "      fill: #1967D2;\n",
              "      height: 32px;\n",
              "      padding: 0 0 0 0;\n",
              "      width: 32px;\n",
              "    }\n",
              "\n",
              "    .colab-df-convert:hover {\n",
              "      background-color: #E2EBFA;\n",
              "      box-shadow: 0px 1px 2px rgba(60, 64, 67, 0.3), 0px 1px 3px 1px rgba(60, 64, 67, 0.15);\n",
              "      fill: #174EA6;\n",
              "    }\n",
              "\n",
              "    [theme=dark] .colab-df-convert {\n",
              "      background-color: #3B4455;\n",
              "      fill: #D2E3FC;\n",
              "    }\n",
              "\n",
              "    [theme=dark] .colab-df-convert:hover {\n",
              "      background-color: #434B5C;\n",
              "      box-shadow: 0px 1px 3px 1px rgba(0, 0, 0, 0.15);\n",
              "      filter: drop-shadow(0px 1px 2px rgba(0, 0, 0, 0.3));\n",
              "      fill: #FFFFFF;\n",
              "    }\n",
              "  </style>\n",
              "\n",
              "      <script>\n",
              "        const buttonEl =\n",
              "          document.querySelector('#df-79f14a84-381c-4f94-9052-a3bcee2e470e button.colab-df-convert');\n",
              "        buttonEl.style.display =\n",
              "          google.colab.kernel.accessAllowed ? 'block' : 'none';\n",
              "\n",
              "        async function convertToInteractive(key) {\n",
              "          const element = document.querySelector('#df-79f14a84-381c-4f94-9052-a3bcee2e470e');\n",
              "          const dataTable =\n",
              "            await google.colab.kernel.invokeFunction('convertToInteractive',\n",
              "                                                     [key], {});\n",
              "          if (!dataTable) return;\n",
              "\n",
              "          const docLinkHtml = 'Like what you see? Visit the ' +\n",
              "            '<a target=\"_blank\" href=https://colab.research.google.com/notebooks/data_table.ipynb>data table notebook</a>'\n",
              "            + ' to learn more about interactive tables.';\n",
              "          element.innerHTML = '';\n",
              "          dataTable['output_type'] = 'display_data';\n",
              "          await google.colab.output.renderOutput(dataTable, element);\n",
              "          const docLink = document.createElement('div');\n",
              "          docLink.innerHTML = docLinkHtml;\n",
              "          element.appendChild(docLink);\n",
              "        }\n",
              "      </script>\n",
              "    </div>\n",
              "  </div>\n",
              "  "
            ],
            "text/plain": [
              "   age  height  weight  shadow_age  shadow_height  shadow_weight\n",
              "0   25     182      75          32            168             71\n",
              "1   32     176      71          62            176             75\n",
              "2   47     174      78          47            174             72\n",
              "3   51     168      72          25            182             86\n",
              "4   62     181      86          51            181             78"
            ]
          },
          "execution_count": 26,
          "metadata": {},
          "output_type": "execute_result"
        }
      ],
      "source": [
        "# make X_shadow by randomly permuting each column of X\n",
        "np.random.seed(42)\n",
        "X_shadow = X.apply(np.random.permutation)\n",
        "X_shadow.columns = ['shadow_' + feat for feat in X.columns]\n",
        "\n",
        "# make X_boruta by appending X_shadow to X\n",
        "X_boruta = pd.concat([X, X_shadow], axis=1)\n",
        "\n",
        "X_boruta.head()"
      ]
    },
    {
      "cell_type": "code",
      "execution_count": null,
      "metadata": {
        "colab": {
          "base_uri": "https://localhost:8080/"
        },
        "id": "z9968putXs3u",
        "outputId": "534cb9f8-70c1-41d6-aef7-6facb5789cfc"
      },
      "outputs": [
        {
          "data": {
            "text/plain": [
              "array([ True, False, False])"
            ]
          },
          "execution_count": 31,
          "metadata": {},
          "output_type": "execute_result"
        }
      ],
      "source": [
        "# fit a random forest (suggested max_depth between 3 and 7)\n",
        "forest = RandomForestRegressor(max_depth=5, random_state=42)\n",
        "forest.fit(X_boruta, y)\n",
        "\n",
        "# store feature importances\n",
        "feat_imp_X = forest.feature_importances_[:len(X.columns)]\n",
        "feat_imp_shadow = forest.feature_importances_[len(X.columns):]\n",
        "\n",
        "# compute hits\n",
        "hits = feat_imp_X > feat_imp_shadow.max()\n",
        "\n",
        "hits"
      ]
    },
    {
      "cell_type": "code",
      "execution_count": null,
      "metadata": {
        "colab": {
          "base_uri": "https://localhost:8080/"
        },
        "id": "Svdgw5u5aZGP",
        "outputId": "73331420-415b-4bec-f34e-e9f625a9231b"
      },
      "outputs": [
        {
          "data": {
            "text/plain": [
              "array([18.,  5.,  1.])"
            ]
          },
          "execution_count": 32,
          "metadata": {},
          "output_type": "execute_result"
        }
      ],
      "source": [
        "# initialize hits counter\n",
        "hits = np.zeros((len(X.columns)))\n",
        "\n",
        "# repeat 20 times\n",
        "for iter_ in range(20):\n",
        "    # make X_shadow by randomly permuting each column of X\n",
        "    X_shadow = X.apply(np.random.permutation)\n",
        "    X_boruta = pd.concat([X, X_shadow], axis=1)\n",
        "\n",
        "    # fit a random forest (suggested max_depth between 3 and 7)\n",
        "    forest = RandomForestRegressor(max_depth=5, random_state=42)\n",
        "    forest.fit(X_boruta, y)\n",
        "\n",
        "    # store feature importance\n",
        "    feat_imp_X = forest.feature_importances_[:len(X.columns)]\n",
        "    feat_imp_shadow = forest.feature_importances_[len(X.columns):]\n",
        "\n",
        "    # compute hits for this trial and add to counter\n",
        "\n",
        "    hits += (feat_imp_X > feat_imp_shadow.max())\n",
        "\n",
        "hits"
      ]
    },
    {
      "cell_type": "code",
      "execution_count": null,
      "metadata": {
        "colab": {
          "base_uri": "https://localhost:8080/"
        },
        "id": "zlF-HPR3cSbA",
        "outputId": "2ff69231-7129-44d4-89b0-3a39a29f382c"
      },
      "outputs": [
        {
          "data": {
            "text/plain": [
              "[9.5367431640625e-07,\n",
              " 1.9073486328124993e-05,\n",
              " 0.00018119812011718736,\n",
              " 0.0010871887207031228,\n",
              " 0.004620552062988283,\n",
              " 0.014785766601562497,\n",
              " 0.03696441650390628,\n",
              " 0.07392883300781249,\n",
              " 0.1201343536376954,\n",
              " 0.1601791381835938,\n",
              " 0.17619705200195296,\n",
              " 0.1601791381835938,\n",
              " 0.12013435363769538,\n",
              " 0.07392883300781249,\n",
              " 0.03696441650390628,\n",
              " 0.014785766601562497,\n",
              " 0.004620552062988283,\n",
              " 0.0010871887207031228,\n",
              " 0.00018119812011718736,\n",
              " 1.9073486328124986e-05,\n",
              " 9.5367431640625e-07]"
            ]
          },
          "execution_count": 35,
          "metadata": {},
          "output_type": "execute_result"
        }
      ],
      "source": [
        "trials = 20\n",
        "pmf = [sp.stats.binom.pmf(x, trials, .5) for x in range(trials + 1)]\n",
        "pmf"
      ]
    },
    {
      "cell_type": "markdown",
      "metadata": {
        "id": "08pxRZ64cinx"
      },
      "source": [
        "####BorutaPy in Python"
      ]
    },
    {
      "cell_type": "code",
      "execution_count": null,
      "metadata": {
        "colab": {
          "base_uri": "https://localhost:8080/"
        },
        "id": "2v_q0-AwcqZv",
        "outputId": "37916417-bfd7-46d8-baa9-ab6e42cc0e78"
      },
      "outputs": [
        {
          "name": "stdout",
          "output_type": "stream",
          "text": [
            "features in the green area: []\n",
            "features in the blue area: ['age']\n"
          ]
        }
      ],
      "source": [
        "# initialize Boruta\n",
        "forest = RandomForestRegressor(n_jobs = -1, max_depth=5)\n",
        "boruta = BorutaPy(estimator=forest, n_estimators='auto', max_iter=100) # max_iter is the number of trials to perform\n",
        "\n",
        "# fit Boruta (it accepts np.array, not pd.DataFrame)\n",
        "boruta.fit(np.array(X), np.array(y))\n",
        "\n",
        "# print results\n",
        "green_area = X.columns[boruta.support_].to_list()\n",
        "blue_area = X.columns[boruta.support_weak_].to_list()\n",
        "\n",
        "print('features in the green area:', green_area)\n",
        "print('features in the blue area:', blue_area)"
      ]
    },
    {
      "cell_type": "markdown",
      "metadata": {
        "id": "_afcTekR301m"
      },
      "source": [
        "##Cross-validation"
      ]
    },
    {
      "cell_type": "code",
      "execution_count": null,
      "metadata": {
        "id": "_7vswN4FDX-u"
      },
      "outputs": [],
      "source": [
        "url = 'https://raw.githubusercontent.com/aniruddhachoudhury/Red-Wine-Quality/master/winequality-red.csv'\n",
        "df = pd.read_csv(url)"
      ]
    },
    {
      "cell_type": "code",
      "execution_count": null,
      "metadata": {
        "colab": {
          "base_uri": "https://localhost:8080/",
          "height": 305
        },
        "id": "uti4QmDn36cy",
        "outputId": "6942926d-3f46-4ea2-a89a-47f369e5f09e"
      },
      "outputs": [
        {
          "data": {
            "text/html": [
              "\n",
              "  <div id=\"df-999a748b-50ed-40e2-bb55-bbaac8a31971\">\n",
              "    <div class=\"colab-df-container\">\n",
              "      <div>\n",
              "<style scoped>\n",
              "    .dataframe tbody tr th:only-of-type {\n",
              "        vertical-align: middle;\n",
              "    }\n",
              "\n",
              "    .dataframe tbody tr th {\n",
              "        vertical-align: top;\n",
              "    }\n",
              "\n",
              "    .dataframe thead th {\n",
              "        text-align: right;\n",
              "    }\n",
              "</style>\n",
              "<table border=\"1\" class=\"dataframe\">\n",
              "  <thead>\n",
              "    <tr style=\"text-align: right;\">\n",
              "      <th></th>\n",
              "      <th>fixed acidity</th>\n",
              "      <th>volatile acidity</th>\n",
              "      <th>citric acid</th>\n",
              "      <th>residual sugar</th>\n",
              "      <th>chlorides</th>\n",
              "      <th>free sulfur dioxide</th>\n",
              "      <th>total sulfur dioxide</th>\n",
              "      <th>density</th>\n",
              "      <th>pH</th>\n",
              "      <th>sulphates</th>\n",
              "      <th>alcohol</th>\n",
              "      <th>quality</th>\n",
              "    </tr>\n",
              "  </thead>\n",
              "  <tbody>\n",
              "    <tr>\n",
              "      <th>0</th>\n",
              "      <td>7.4</td>\n",
              "      <td>0.70</td>\n",
              "      <td>0.00</td>\n",
              "      <td>1.9</td>\n",
              "      <td>0.076</td>\n",
              "      <td>11.0</td>\n",
              "      <td>34.0</td>\n",
              "      <td>0.9978</td>\n",
              "      <td>3.51</td>\n",
              "      <td>0.56</td>\n",
              "      <td>9.4</td>\n",
              "      <td>5</td>\n",
              "    </tr>\n",
              "    <tr>\n",
              "      <th>1</th>\n",
              "      <td>7.8</td>\n",
              "      <td>0.88</td>\n",
              "      <td>0.00</td>\n",
              "      <td>2.6</td>\n",
              "      <td>0.098</td>\n",
              "      <td>25.0</td>\n",
              "      <td>67.0</td>\n",
              "      <td>0.9968</td>\n",
              "      <td>3.20</td>\n",
              "      <td>0.68</td>\n",
              "      <td>9.8</td>\n",
              "      <td>5</td>\n",
              "    </tr>\n",
              "    <tr>\n",
              "      <th>2</th>\n",
              "      <td>7.8</td>\n",
              "      <td>0.76</td>\n",
              "      <td>0.04</td>\n",
              "      <td>2.3</td>\n",
              "      <td>0.092</td>\n",
              "      <td>15.0</td>\n",
              "      <td>54.0</td>\n",
              "      <td>0.9970</td>\n",
              "      <td>3.26</td>\n",
              "      <td>0.65</td>\n",
              "      <td>9.8</td>\n",
              "      <td>5</td>\n",
              "    </tr>\n",
              "    <tr>\n",
              "      <th>3</th>\n",
              "      <td>11.2</td>\n",
              "      <td>0.28</td>\n",
              "      <td>0.56</td>\n",
              "      <td>1.9</td>\n",
              "      <td>0.075</td>\n",
              "      <td>17.0</td>\n",
              "      <td>60.0</td>\n",
              "      <td>0.9980</td>\n",
              "      <td>3.16</td>\n",
              "      <td>0.58</td>\n",
              "      <td>9.8</td>\n",
              "      <td>6</td>\n",
              "    </tr>\n",
              "    <tr>\n",
              "      <th>4</th>\n",
              "      <td>7.4</td>\n",
              "      <td>0.70</td>\n",
              "      <td>0.00</td>\n",
              "      <td>1.9</td>\n",
              "      <td>0.076</td>\n",
              "      <td>11.0</td>\n",
              "      <td>34.0</td>\n",
              "      <td>0.9978</td>\n",
              "      <td>3.51</td>\n",
              "      <td>0.56</td>\n",
              "      <td>9.4</td>\n",
              "      <td>5</td>\n",
              "    </tr>\n",
              "  </tbody>\n",
              "</table>\n",
              "</div>\n",
              "      <button class=\"colab-df-convert\" onclick=\"convertToInteractive('df-999a748b-50ed-40e2-bb55-bbaac8a31971')\"\n",
              "              title=\"Convert this dataframe to an interactive table.\"\n",
              "              style=\"display:none;\">\n",
              "        \n",
              "  <svg xmlns=\"http://www.w3.org/2000/svg\" height=\"24px\"viewBox=\"0 0 24 24\"\n",
              "       width=\"24px\">\n",
              "    <path d=\"M0 0h24v24H0V0z\" fill=\"none\"/>\n",
              "    <path d=\"M18.56 5.44l.94 2.06.94-2.06 2.06-.94-2.06-.94-.94-2.06-.94 2.06-2.06.94zm-11 1L8.5 8.5l.94-2.06 2.06-.94-2.06-.94L8.5 2.5l-.94 2.06-2.06.94zm10 10l.94 2.06.94-2.06 2.06-.94-2.06-.94-.94-2.06-.94 2.06-2.06.94z\"/><path d=\"M17.41 7.96l-1.37-1.37c-.4-.4-.92-.59-1.43-.59-.52 0-1.04.2-1.43.59L10.3 9.45l-7.72 7.72c-.78.78-.78 2.05 0 2.83L4 21.41c.39.39.9.59 1.41.59.51 0 1.02-.2 1.41-.59l7.78-7.78 2.81-2.81c.8-.78.8-2.07 0-2.86zM5.41 20L4 18.59l7.72-7.72 1.47 1.35L5.41 20z\"/>\n",
              "  </svg>\n",
              "      </button>\n",
              "      \n",
              "  <style>\n",
              "    .colab-df-container {\n",
              "      display:flex;\n",
              "      flex-wrap:wrap;\n",
              "      gap: 12px;\n",
              "    }\n",
              "\n",
              "    .colab-df-convert {\n",
              "      background-color: #E8F0FE;\n",
              "      border: none;\n",
              "      border-radius: 50%;\n",
              "      cursor: pointer;\n",
              "      display: none;\n",
              "      fill: #1967D2;\n",
              "      height: 32px;\n",
              "      padding: 0 0 0 0;\n",
              "      width: 32px;\n",
              "    }\n",
              "\n",
              "    .colab-df-convert:hover {\n",
              "      background-color: #E2EBFA;\n",
              "      box-shadow: 0px 1px 2px rgba(60, 64, 67, 0.3), 0px 1px 3px 1px rgba(60, 64, 67, 0.15);\n",
              "      fill: #174EA6;\n",
              "    }\n",
              "\n",
              "    [theme=dark] .colab-df-convert {\n",
              "      background-color: #3B4455;\n",
              "      fill: #D2E3FC;\n",
              "    }\n",
              "\n",
              "    [theme=dark] .colab-df-convert:hover {\n",
              "      background-color: #434B5C;\n",
              "      box-shadow: 0px 1px 3px 1px rgba(0, 0, 0, 0.15);\n",
              "      filter: drop-shadow(0px 1px 2px rgba(0, 0, 0, 0.3));\n",
              "      fill: #FFFFFF;\n",
              "    }\n",
              "  </style>\n",
              "\n",
              "      <script>\n",
              "        const buttonEl =\n",
              "          document.querySelector('#df-999a748b-50ed-40e2-bb55-bbaac8a31971 button.colab-df-convert');\n",
              "        buttonEl.style.display =\n",
              "          google.colab.kernel.accessAllowed ? 'block' : 'none';\n",
              "\n",
              "        async function convertToInteractive(key) {\n",
              "          const element = document.querySelector('#df-999a748b-50ed-40e2-bb55-bbaac8a31971');\n",
              "          const dataTable =\n",
              "            await google.colab.kernel.invokeFunction('convertToInteractive',\n",
              "                                                     [key], {});\n",
              "          if (!dataTable) return;\n",
              "\n",
              "          const docLinkHtml = 'Like what you see? Visit the ' +\n",
              "            '<a target=\"_blank\" href=https://colab.research.google.com/notebooks/data_table.ipynb>data table notebook</a>'\n",
              "            + ' to learn more about interactive tables.';\n",
              "          element.innerHTML = '';\n",
              "          dataTable['output_type'] = 'display_data';\n",
              "          await google.colab.output.renderOutput(dataTable, element);\n",
              "          const docLink = document.createElement('div');\n",
              "          docLink.innerHTML = docLinkHtml;\n",
              "          element.appendChild(docLink);\n",
              "        }\n",
              "      </script>\n",
              "    </div>\n",
              "  </div>\n",
              "  "
            ],
            "text/plain": [
              "   fixed acidity  volatile acidity  citric acid  residual sugar  chlorides  \\\n",
              "0            7.4              0.70         0.00             1.9      0.076   \n",
              "1            7.8              0.88         0.00             2.6      0.098   \n",
              "2            7.8              0.76         0.04             2.3      0.092   \n",
              "3           11.2              0.28         0.56             1.9      0.075   \n",
              "4            7.4              0.70         0.00             1.9      0.076   \n",
              "\n",
              "   free sulfur dioxide  total sulfur dioxide  density    pH  sulphates  \\\n",
              "0                 11.0                  34.0   0.9978  3.51       0.56   \n",
              "1                 25.0                  67.0   0.9968  3.20       0.68   \n",
              "2                 15.0                  54.0   0.9970  3.26       0.65   \n",
              "3                 17.0                  60.0   0.9980  3.16       0.58   \n",
              "4                 11.0                  34.0   0.9978  3.51       0.56   \n",
              "\n",
              "   alcohol  quality  \n",
              "0      9.4        5  \n",
              "1      9.8        5  \n",
              "2      9.8        5  \n",
              "3      9.8        6  \n",
              "4      9.4        5  "
            ]
          },
          "execution_count": 41,
          "metadata": {},
          "output_type": "execute_result"
        }
      ],
      "source": [
        "df.head()"
      ]
    },
    {
      "cell_type": "code",
      "execution_count": null,
      "metadata": {
        "colab": {
          "base_uri": "https://localhost:8080/"
        },
        "id": "-0R9BWv7Elgq",
        "outputId": "23849752-bf5d-426c-ef3a-5487b25b0398"
      },
      "outputs": [
        {
          "data": {
            "text/plain": [
              "array([5, 6, 7, 4, 8, 3])"
            ]
          },
          "execution_count": 42,
          "metadata": {},
          "output_type": "execute_result"
        }
      ],
      "source": [
        "df['quality'].unique()"
      ]
    },
    {
      "cell_type": "code",
      "execution_count": null,
      "metadata": {
        "id": "RCuL4h9sCsNz"
      },
      "outputs": [],
      "source": [
        "#a mapping dictionary that maps the quality values from 0 to 5\n",
        "quality_mapping = {\n",
        "    3: 0,\n",
        "    4: 1,\n",
        "    5: 2,\n",
        "    6: 3,\n",
        "    7: 4,\n",
        "    8: 5\n",
        "}\n",
        "\"\"\"\n",
        "you can use the map function of pandas with any dictionary to convert the\n",
        "values in a fiven column to values in the dictionary\n",
        "\"\"\"\n",
        "df.loc[:, 'quality'] = df.quality.map(quality_mapping)"
      ]
    },
    {
      "cell_type": "code",
      "execution_count": null,
      "metadata": {
        "colab": {
          "base_uri": "https://localhost:8080/"
        },
        "id": "7URGQKqDG3Tg",
        "outputId": "d0291f16-4a26-47bc-dd06-95d2f394ee4c"
      },
      "outputs": [
        {
          "data": {
            "text/plain": [
              "(1599, 12)"
            ]
          },
          "execution_count": 50,
          "metadata": {},
          "output_type": "execute_result"
        }
      ],
      "source": [
        "df.shape"
      ]
    },
    {
      "cell_type": "code",
      "execution_count": null,
      "metadata": {
        "id": "94pBZ1xMGDjT"
      },
      "outputs": [],
      "source": [
        "\"\"\"\n",
        "use sample with frac=1 to shuffle the dataframe we reset the indices since they\n",
        "change after shuffling the dataframe\n",
        "\"\"\"\n",
        "df = df.sample(frac=1).reset_index(drop=True)\n",
        "\n",
        "# top 1000 rows are selected for training\n",
        "df_train = df.head(1000)\n",
        "\n",
        "# bottom 599 are selected for testing/validation\n",
        "df_test = df.tail(599)"
      ]
    },
    {
      "cell_type": "code",
      "execution_count": null,
      "metadata": {
        "colab": {
          "base_uri": "https://localhost:8080/",
          "height": 52
        },
        "id": "YTWKrTgaG80L",
        "outputId": "150bdb3d-67a2-4a9b-a830-49f7230b36c2"
      },
      "outputs": [
        {
          "data": {
            "text/html": [
              "<style>#sk-container-id-2 {color: black;background-color: white;}#sk-container-id-2 pre{padding: 0;}#sk-container-id-2 div.sk-toggleable {background-color: white;}#sk-container-id-2 label.sk-toggleable__label {cursor: pointer;display: block;width: 100%;margin-bottom: 0;padding: 0.3em;box-sizing: border-box;text-align: center;}#sk-container-id-2 label.sk-toggleable__label-arrow:before {content: \"▸\";float: left;margin-right: 0.25em;color: #696969;}#sk-container-id-2 label.sk-toggleable__label-arrow:hover:before {color: black;}#sk-container-id-2 div.sk-estimator:hover label.sk-toggleable__label-arrow:before {color: black;}#sk-container-id-2 div.sk-toggleable__content {max-height: 0;max-width: 0;overflow: hidden;text-align: left;background-color: #f0f8ff;}#sk-container-id-2 div.sk-toggleable__content pre {margin: 0.2em;color: black;border-radius: 0.25em;background-color: #f0f8ff;}#sk-container-id-2 input.sk-toggleable__control:checked~div.sk-toggleable__content {max-height: 200px;max-width: 100%;overflow: auto;}#sk-container-id-2 input.sk-toggleable__control:checked~label.sk-toggleable__label-arrow:before {content: \"▾\";}#sk-container-id-2 div.sk-estimator input.sk-toggleable__control:checked~label.sk-toggleable__label {background-color: #d4ebff;}#sk-container-id-2 div.sk-label input.sk-toggleable__control:checked~label.sk-toggleable__label {background-color: #d4ebff;}#sk-container-id-2 input.sk-hidden--visually {border: 0;clip: rect(1px 1px 1px 1px);clip: rect(1px, 1px, 1px, 1px);height: 1px;margin: -1px;overflow: hidden;padding: 0;position: absolute;width: 1px;}#sk-container-id-2 div.sk-estimator {font-family: monospace;background-color: #f0f8ff;border: 1px dotted black;border-radius: 0.25em;box-sizing: border-box;margin-bottom: 0.5em;}#sk-container-id-2 div.sk-estimator:hover {background-color: #d4ebff;}#sk-container-id-2 div.sk-parallel-item::after {content: \"\";width: 100%;border-bottom: 1px solid gray;flex-grow: 1;}#sk-container-id-2 div.sk-label:hover label.sk-toggleable__label {background-color: #d4ebff;}#sk-container-id-2 div.sk-serial::before {content: \"\";position: absolute;border-left: 1px solid gray;box-sizing: border-box;top: 0;bottom: 0;left: 50%;z-index: 0;}#sk-container-id-2 div.sk-serial {display: flex;flex-direction: column;align-items: center;background-color: white;padding-right: 0.2em;padding-left: 0.2em;position: relative;}#sk-container-id-2 div.sk-item {position: relative;z-index: 1;}#sk-container-id-2 div.sk-parallel {display: flex;align-items: stretch;justify-content: center;background-color: white;position: relative;}#sk-container-id-2 div.sk-item::before, #sk-container-id-2 div.sk-parallel-item::before {content: \"\";position: absolute;border-left: 1px solid gray;box-sizing: border-box;top: 0;bottom: 0;left: 50%;z-index: -1;}#sk-container-id-2 div.sk-parallel-item {display: flex;flex-direction: column;z-index: 1;position: relative;background-color: white;}#sk-container-id-2 div.sk-parallel-item:first-child::after {align-self: flex-end;width: 50%;}#sk-container-id-2 div.sk-parallel-item:last-child::after {align-self: flex-start;width: 50%;}#sk-container-id-2 div.sk-parallel-item:only-child::after {width: 0;}#sk-container-id-2 div.sk-dashed-wrapped {border: 1px dashed gray;margin: 0 0.4em 0.5em 0.4em;box-sizing: border-box;padding-bottom: 0.4em;background-color: white;}#sk-container-id-2 div.sk-label label {font-family: monospace;font-weight: bold;display: inline-block;line-height: 1.2em;}#sk-container-id-2 div.sk-label-container {text-align: center;}#sk-container-id-2 div.sk-container {/* jupyter's `normalize.less` sets `[hidden] { display: none; }` but bootstrap.min.css set `[hidden] { display: none !important; }` so we also need the `!important` here to be able to override the default hidden behavior on the sphinx rendered scikit-learn.org. See: https://github.com/scikit-learn/scikit-learn/issues/21755 */display: inline-block !important;position: relative;}#sk-container-id-2 div.sk-text-repr-fallback {display: none;}</style><div id=\"sk-container-id-2\" class=\"sk-top-container\"><div class=\"sk-text-repr-fallback\"><pre>DecisionTreeClassifier(max_depth=3)</pre><b>In a Jupyter environment, please rerun this cell to show the HTML representation or trust the notebook. <br />On GitHub, the HTML representation is unable to render, please try loading this page with nbviewer.org.</b></div><div class=\"sk-container\" hidden><div class=\"sk-item\"><div class=\"sk-estimator sk-toggleable\"><input class=\"sk-toggleable__control sk-hidden--visually\" id=\"sk-estimator-id-2\" type=\"checkbox\" checked><label for=\"sk-estimator-id-2\" class=\"sk-toggleable__label sk-toggleable__label-arrow\">DecisionTreeClassifier</label><div class=\"sk-toggleable__content\"><pre>DecisionTreeClassifier(max_depth=3)</pre></div></div></div></div></div>"
            ],
            "text/plain": [
              "DecisionTreeClassifier(max_depth=3)"
            ]
          },
          "execution_count": 53,
          "metadata": {},
          "output_type": "execute_result"
        }
      ],
      "source": [
        "#initialize decision tree classifier class with a max_depth of 3\n",
        "clf = tree.DecisionTreeClassifier(max_depth=3)\n",
        "\n",
        "#choose the columns you want to train on. These are the features for the model\n",
        "cols = [\n",
        "        'fixed acidity',\n",
        "        'volatile acidity',\n",
        "        'citric acid',\n",
        "        'residual sugar',\n",
        "        'chlorides',\n",
        "        'free sulfur dioxide',\n",
        "        'total sulfur dioxide',\n",
        "        'density',\n",
        "        'pH',\n",
        "        'sulphates',\n",
        "        'alcohol']\n",
        "\n",
        "#train the model on the provided features and mapped quality from before\n",
        "clf.fit(df_train[cols], df_train.quality)"
      ]
    },
    {
      "cell_type": "code",
      "execution_count": null,
      "metadata": {
        "id": "7BeMKBImJP0M"
      },
      "outputs": [],
      "source": [
        "#generate prediction on the training set\n",
        "train_prediction = clf.predict(df_train[cols])\n",
        "\n",
        "#generate predictions on the test set\n",
        "test_predctions = clf.predict(df_test[cols])\n",
        "\n",
        "#calculate the accuracy of prediction on training dataset\n",
        "train_accuracy = metrics.accuracy_score(\n",
        "    df_train.quality, train_prediction\n",
        ")\n",
        "\n",
        "#calculate the accuracy of predictions on test data set\n",
        "test_accuracy = metrics.accuracy_score(\n",
        "    df_test.quality, test_predctions\n",
        ")"
      ]
    },
    {
      "cell_type": "code",
      "execution_count": null,
      "metadata": {
        "colab": {
          "base_uri": "https://localhost:8080/"
        },
        "id": "6M53N6i2KKBP",
        "outputId": "c18e35b6-14d9-46a1-8560-1240d4dbd047"
      },
      "outputs": [
        {
          "name": "stdout",
          "output_type": "stream",
          "text": [
            "Test accuracy: 55.926544240400666%\n",
            "Train accuracy: 61.8%\n"
          ]
        }
      ],
      "source": [
        "print(f'Test accuracy: {test_accuracy * 100}%\\nTrain accuracy: {train_accuracy * 100}%')"
      ]
    },
    {
      "cell_type": "code",
      "execution_count": null,
      "metadata": {
        "colab": {
          "base_uri": "https://localhost:8080/",
          "height": 370
        },
        "id": "tAOGq6koL4sH",
        "outputId": "7d6ab57e-4cdc-4d12-90e2-5b2f4b9e2342"
      },
      "outputs": [
        {
          "data": {
            "text/plain": [
              "<function matplotlib.pyplot.show(close=None, block=None)>"
            ]
          },
          "execution_count": 56,
          "metadata": {},
          "output_type": "execute_result"
        },
        {
          "data": {
            "image/png": "[encoded data removed]",
            "text/plain": [
              "<Figure size 720x360 with 1 Axes>"
            ]
          },
          "metadata": {
            "needs_background": "light"
          },
          "output_type": "display_data"
        }
      ],
      "source": [
        "#this is our global size of label text on the plots\n",
        "matplotlib.rc('xtick', labelsize=20)\n",
        "matplotlib.rc('ytick', labelsize=20)\n",
        "\n",
        "\"\"\"\n",
        "initialize lists to store accuracies for trainning and test data we start\n",
        "with 50% accuracy\n",
        "\"\"\"\n",
        "train_accuracies = [0.5]\n",
        "test_accuracies = [0.5]\n",
        "\n",
        "#iterate over a few depth values\n",
        "for depth in range(1,25):\n",
        "  #init the model\n",
        "  clf = tree.DecisionTreeClassifier(max_depth=depth)\n",
        "  \n",
        "  #columns/features for training (this can be done outside the loop)\n",
        "  cols = [\n",
        "      'fixed acidity',\n",
        "      'volatile acidity',\n",
        "      'citric acid',\n",
        "      'residual sugar',\n",
        "      'chlorides',\n",
        "      'free sulfur dioxide',\n",
        "      'total sulfur dioxide',\n",
        "      'density',\n",
        "      'pH',\n",
        "      'sulphates',\n",
        "      'alcohol']\n",
        "  #fit the model on given features\n",
        "  clf.fit(df_train[cols], df_train.quality)\n",
        "  \n",
        "  #crease training & test predictions\n",
        "  train_predictions = clf.predict(df_train[cols])\n",
        "  test_predictions = clf.predict(df_test[cols])\n",
        "\n",
        "  #calculate training & test accuracies\n",
        "  train_accuracy = metrics.accuracy_score(\n",
        "      df_train.quality, train_predictions\n",
        "  )\n",
        "  test_accuracy = metrics.accuracy_score(\n",
        "      df_test.quality, test_predictions\n",
        "  )\n",
        "\n",
        "  #append accuracies\n",
        "  train_accuracies.append(train_accuracy)\n",
        "  test_accuracies.append(test_accuracy)\n",
        "\n",
        "#create two plots using matplotlib and seaborn\n",
        "plt.figure(figsize=(10, 5))\n",
        "sns.set_style('whitegrid')\n",
        "plt.plot(train_accuracies, label='train accuracy')\n",
        "plt.plot(test_accuracies, label='test accuracy')\n",
        "plt.legend(loc='upper left', prop={'size': 15})\n",
        "plt.xticks(range(0, 26, 5))\n",
        "plt.xlabel('max_depth', size=20)\n",
        "plt.ylabel('accuracy', size=20)\n",
        "plt.show"
      ]
    },
    {
      "cell_type": "code",
      "execution_count": null,
      "metadata": {
        "id": "a9zRRF2amrIq"
      },
      "outputs": [],
      "source": [
        "if __name__ == \"__main__\":\n",
        "  # Training data is in a CSV file called train.csv\n",
        "  df = pd.read_csv(\"train.csv\")\n",
        "  \n",
        "  # we create a new column called kfold and fill it with -1\n",
        "  df[\"kfold\"] = -1\n",
        "\n",
        "  # the next step is to randomize the rows of the data\n",
        "  df = df.sample(frac=1).reset_index(drop=True)\n",
        "\n",
        "  # initiate the kfold class from model_selection module\n",
        "  kf = model_selection.KFold(n_splits=5)\n",
        "\n",
        "  # fill the new kfold column\n",
        "  for fold, (trn_, val_) in enumerate(kf.split(X=df)):\n",
        "    df.loc[val_, 'kfold'] = fold\n",
        "  \n",
        "  # save the new csv with kfold column\n",
        "  df.to_csv(\"train_folds.csv\", index=False)"
      ]
    },
    {
      "cell_type": "code",
      "execution_count": null,
      "metadata": {
        "id": "URiId8qBnrqR"
      },
      "outputs": [],
      "source": [
        "if __name__ == \"__main__\":\n",
        "  # Training data is in a CSV file called train.csv\n",
        "  df = pd.read_csv(\"train.csv\")\n",
        "  \n",
        "  # we create a new column called kfold and fill it with -1\n",
        "  df[\"kfold\"] = -1\n",
        "\n",
        "  # the next step is to randomize the rows of the data\n",
        "  df = df.sample(frac=1).reset_index(drop=True)\n",
        "\n",
        "  #fetch targets\n",
        "  y = df.target.values\n",
        "\n",
        "  # initiate the kfold class from model_selection module\n",
        "  kf = model_selection.StratifiedKFold(n_splits=5)\n",
        "\n",
        "  # fill the new kfold column\n",
        "  for f, (t_, v_) in enumerate(kf.split(X=df, y=y)):\n",
        "    df.loc[v_, 'kfold'] = f\n",
        "  \n",
        "  # save the new csv with kfold column\n",
        "  df.to_csv(\"train_folds.csv\", index=False)"
      ]
    },
    {
      "cell_type": "code",
      "execution_count": null,
      "metadata": {
        "colab": {
          "base_uri": "https://localhost:8080/",
          "height": 314
        },
        "id": "l6lmvM56oEOD",
        "outputId": "9e7e1577-502c-40a9-f097-93c987f2cba6"
      },
      "outputs": [
        {
          "data": {
            "text/plain": [
              "Text(0, 0.5, 'count')"
            ]
          },
          "execution_count": 19,
          "metadata": {},
          "output_type": "execute_result"
        },
        {
          "data": {
            "image/png": "[encoded data removed]",
            "text/plain": [
              "<Figure size 432x288 with 1 Axes>"
            ]
          },
          "metadata": {},
          "output_type": "display_data"
        }
      ],
      "source": [
        "b = sns.countplot(x='quality', data=df)\n",
        "b.set_xlabel('quality', fontsize=20)\n",
        "b.set_ylabel('count', fontsize=20)"
      ]
    },
    {
      "cell_type": "code",
      "execution_count": null,
      "metadata": {
        "id": "TmkvVshYscgc"
      },
      "outputs": [],
      "source": [
        "def create_folds(data):\n",
        "  #we create a new column called kfold and fill it with -1\n",
        "  data['kfold']= -1\n",
        "\n",
        "  #the next step is to randomize the rows of the data\n",
        "  data = data.sample(frac=1).reset_index(drop=True)\n",
        "\n",
        "  \"\"\"\n",
        "  calculate the number of bins by Sturge's rule. I take the floor of the\n",
        "  value, you can also. Just round it\n",
        "  \"\"\"\n",
        "  num_bins = int(np.floor(1 + np.log2(len(data))))\n",
        "\n",
        "  #bin targets\n",
        "  data.loc[:, 'bins'] = pd.cut(\n",
        "      data['target'], bins = num_bins, labels= False\n",
        "  )\n",
        "\n",
        "  # initiate the kfold class from model_selection module\n",
        "  kf = model_selection.StratifiedKFold(n_splits=5)\n",
        "\n",
        "  #initiate the kfolds column. Note that, instead of targets, we use bins!\n",
        "  for f, (t_, v_) in enumerate(kf.split(X=data, y=data.bins.values)):\n",
        "    data.loc[v_, 'kfold'] = f\n",
        "\n",
        "  #drop the bins column\n",
        "  data = data.drop('bins', axis=1)\n",
        "  #return dataframe with folds\n",
        "  return data\n",
        "\n",
        "if __name__ == '__main__':\n",
        "  #we create a sample dataset with 15000 samples and 100 features and 1 target\n",
        "  X, y = datasets.make_regression(\n",
        "      n_samples= 15000, n_features=100, n_targets=1\n",
        "  )\n",
        "\n",
        "  #create a dataframe out of our numpy arrays\n",
        "  df = pd.DataFrame(\n",
        "      X,\n",
        "      columns=[f'f_{i}' for i in range(X.shape[1])]\n",
        "  )\n",
        "  df.loc[:, 'target'] = y\n",
        "  \n",
        "  #create folds\n",
        "  df = create_folds(df)"
      ]
    },
    {
      "cell_type": "code",
      "execution_count": null,
      "metadata": {
        "colab": {
          "base_uri": "https://localhost:8080/",
          "height": 299
        },
        "id": "7Lw3mvADwNjd",
        "outputId": "76b2d3ee-d546-4b68-ae0b-5cc9ea297360"
      },
      "outputs": [
        {
          "data": {
            "text/html": [
              "\n",
              "  <div id=\"df-4e0ed44e-52fd-4aed-9208-529d3790ca84\">\n",
              "    <div class=\"colab-df-container\">\n",
              "      <div>\n",
              "<style scoped>\n",
              "    .dataframe tbody tr th:only-of-type {\n",
              "        vertical-align: middle;\n",
              "    }\n",
              "\n",
              "    .dataframe tbody tr th {\n",
              "        vertical-align: top;\n",
              "    }\n",
              "\n",
              "    .dataframe thead th {\n",
              "        text-align: right;\n",
              "    }\n",
              "</style>\n",
              "<table border=\"1\" class=\"dataframe\">\n",
              "  <thead>\n",
              "    <tr style=\"text-align: right;\">\n",
              "      <th></th>\n",
              "      <th>f_0</th>\n",
              "      <th>f_1</th>\n",
              "      <th>f_2</th>\n",
              "      <th>f_3</th>\n",
              "      <th>f_4</th>\n",
              "      <th>f_5</th>\n",
              "      <th>f_6</th>\n",
              "      <th>f_7</th>\n",
              "      <th>f_8</th>\n",
              "      <th>f_9</th>\n",
              "      <th>...</th>\n",
              "      <th>f_92</th>\n",
              "      <th>f_93</th>\n",
              "      <th>f_94</th>\n",
              "      <th>f_95</th>\n",
              "      <th>f_96</th>\n",
              "      <th>f_97</th>\n",
              "      <th>f_98</th>\n",
              "      <th>f_99</th>\n",
              "      <th>target</th>\n",
              "      <th>kfold</th>\n",
              "    </tr>\n",
              "  </thead>\n",
              "  <tbody>\n",
              "    <tr>\n",
              "      <th>0</th>\n",
              "      <td>0.833883</td>\n",
              "      <td>-1.212763</td>\n",
              "      <td>-2.118919</td>\n",
              "      <td>0.008524</td>\n",
              "      <td>0.987685</td>\n",
              "      <td>1.460466</td>\n",
              "      <td>-0.379751</td>\n",
              "      <td>1.255613</td>\n",
              "      <td>-0.361635</td>\n",
              "      <td>1.638243</td>\n",
              "      <td>...</td>\n",
              "      <td>1.530479</td>\n",
              "      <td>1.396882</td>\n",
              "      <td>-1.248730</td>\n",
              "      <td>-1.150795</td>\n",
              "      <td>0.627374</td>\n",
              "      <td>0.920017</td>\n",
              "      <td>-2.140182</td>\n",
              "      <td>-1.169375</td>\n",
              "      <td>102.979182</td>\n",
              "      <td>0</td>\n",
              "    </tr>\n",
              "    <tr>\n",
              "      <th>1</th>\n",
              "      <td>1.056107</td>\n",
              "      <td>-1.487390</td>\n",
              "      <td>-0.562869</td>\n",
              "      <td>1.766218</td>\n",
              "      <td>0.823910</td>\n",
              "      <td>-0.552589</td>\n",
              "      <td>1.197468</td>\n",
              "      <td>1.660850</td>\n",
              "      <td>1.144910</td>\n",
              "      <td>0.954850</td>\n",
              "      <td>...</td>\n",
              "      <td>-1.091290</td>\n",
              "      <td>-0.949295</td>\n",
              "      <td>-0.304387</td>\n",
              "      <td>-0.930046</td>\n",
              "      <td>1.272153</td>\n",
              "      <td>0.059695</td>\n",
              "      <td>-0.326876</td>\n",
              "      <td>0.119545</td>\n",
              "      <td>-31.765500</td>\n",
              "      <td>0</td>\n",
              "    </tr>\n",
              "    <tr>\n",
              "      <th>2</th>\n",
              "      <td>0.904165</td>\n",
              "      <td>-0.953305</td>\n",
              "      <td>-0.299432</td>\n",
              "      <td>-0.996563</td>\n",
              "      <td>-0.081056</td>\n",
              "      <td>0.040106</td>\n",
              "      <td>0.123134</td>\n",
              "      <td>-0.906838</td>\n",
              "      <td>-0.433678</td>\n",
              "      <td>-0.998577</td>\n",
              "      <td>...</td>\n",
              "      <td>-1.129196</td>\n",
              "      <td>-0.096994</td>\n",
              "      <td>-1.118347</td>\n",
              "      <td>0.672859</td>\n",
              "      <td>-1.244522</td>\n",
              "      <td>-1.116674</td>\n",
              "      <td>0.070246</td>\n",
              "      <td>-0.007746</td>\n",
              "      <td>-461.703686</td>\n",
              "      <td>0</td>\n",
              "    </tr>\n",
              "    <tr>\n",
              "      <th>3</th>\n",
              "      <td>0.708910</td>\n",
              "      <td>1.234494</td>\n",
              "      <td>1.636877</td>\n",
              "      <td>0.000811</td>\n",
              "      <td>-0.191723</td>\n",
              "      <td>-0.330869</td>\n",
              "      <td>-0.518986</td>\n",
              "      <td>0.104624</td>\n",
              "      <td>-0.707882</td>\n",
              "      <td>-0.708924</td>\n",
              "      <td>...</td>\n",
              "      <td>0.478896</td>\n",
              "      <td>0.229370</td>\n",
              "      <td>-1.378255</td>\n",
              "      <td>1.150957</td>\n",
              "      <td>0.218985</td>\n",
              "      <td>0.562369</td>\n",
              "      <td>1.922340</td>\n",
              "      <td>0.296366</td>\n",
              "      <td>-283.195323</td>\n",
              "      <td>0</td>\n",
              "    </tr>\n",
              "    <tr>\n",
              "      <th>4</th>\n",
              "      <td>0.919274</td>\n",
              "      <td>1.419954</td>\n",
              "      <td>-0.573019</td>\n",
              "      <td>-0.651125</td>\n",
              "      <td>-0.721695</td>\n",
              "      <td>-0.563334</td>\n",
              "      <td>1.435880</td>\n",
              "      <td>0.684468</td>\n",
              "      <td>2.713798</td>\n",
              "      <td>-0.531023</td>\n",
              "      <td>...</td>\n",
              "      <td>1.185805</td>\n",
              "      <td>-0.184803</td>\n",
              "      <td>-0.290692</td>\n",
              "      <td>0.528943</td>\n",
              "      <td>-0.850622</td>\n",
              "      <td>-0.510719</td>\n",
              "      <td>1.012844</td>\n",
              "      <td>-0.126850</td>\n",
              "      <td>207.691291</td>\n",
              "      <td>0</td>\n",
              "    </tr>\n",
              "  </tbody>\n",
              "</table>\n",
              "<p>5 rows × 102 columns</p>\n",
              "</div>\n",
              "      <button class=\"colab-df-convert\" onclick=\"convertToInteractive('df-4e0ed44e-52fd-4aed-9208-529d3790ca84')\"\n",
              "              title=\"Convert this dataframe to an interactive table.\"\n",
              "              style=\"display:none;\">\n",
              "        \n",
              "  <svg xmlns=\"http://www.w3.org/2000/svg\" height=\"24px\"viewBox=\"0 0 24 24\"\n",
              "       width=\"24px\">\n",
              "    <path d=\"M0 0h24v24H0V0z\" fill=\"none\"/>\n",
              "    <path d=\"M18.56 5.44l.94 2.06.94-2.06 2.06-.94-2.06-.94-.94-2.06-.94 2.06-2.06.94zm-11 1L8.5 8.5l.94-2.06 2.06-.94-2.06-.94L8.5 2.5l-.94 2.06-2.06.94zm10 10l.94 2.06.94-2.06 2.06-.94-2.06-.94-.94-2.06-.94 2.06-2.06.94z\"/><path d=\"M17.41 7.96l-1.37-1.37c-.4-.4-.92-.59-1.43-.59-.52 0-1.04.2-1.43.59L10.3 9.45l-7.72 7.72c-.78.78-.78 2.05 0 2.83L4 21.41c.39.39.9.59 1.41.59.51 0 1.02-.2 1.41-.59l7.78-7.78 2.81-2.81c.8-.78.8-2.07 0-2.86zM5.41 20L4 18.59l7.72-7.72 1.47 1.35L5.41 20z\"/>\n",
              "  </svg>\n",
              "      </button>\n",
              "      \n",
              "  <style>\n",
              "    .colab-df-container {\n",
              "      display:flex;\n",
              "      flex-wrap:wrap;\n",
              "      gap: 12px;\n",
              "    }\n",
              "\n",
              "    .colab-df-convert {\n",
              "      background-color: #E8F0FE;\n",
              "      border: none;\n",
              "      border-radius: 50%;\n",
              "      cursor: pointer;\n",
              "      display: none;\n",
              "      fill: #1967D2;\n",
              "      height: 32px;\n",
              "      padding: 0 0 0 0;\n",
              "      width: 32px;\n",
              "    }\n",
              "\n",
              "    .colab-df-convert:hover {\n",
              "      background-color: #E2EBFA;\n",
              "      box-shadow: 0px 1px 2px rgba(60, 64, 67, 0.3), 0px 1px 3px 1px rgba(60, 64, 67, 0.15);\n",
              "      fill: #174EA6;\n",
              "    }\n",
              "\n",
              "    [theme=dark] .colab-df-convert {\n",
              "      background-color: #3B4455;\n",
              "      fill: #D2E3FC;\n",
              "    }\n",
              "\n",
              "    [theme=dark] .colab-df-convert:hover {\n",
              "      background-color: #434B5C;\n",
              "      box-shadow: 0px 1px 3px 1px rgba(0, 0, 0, 0.15);\n",
              "      filter: drop-shadow(0px 1px 2px rgba(0, 0, 0, 0.3));\n",
              "      fill: #FFFFFF;\n",
              "    }\n",
              "  </style>\n",
              "\n",
              "      <script>\n",
              "        const buttonEl =\n",
              "          document.querySelector('#df-4e0ed44e-52fd-4aed-9208-529d3790ca84 button.colab-df-convert');\n",
              "        buttonEl.style.display =\n",
              "          google.colab.kernel.accessAllowed ? 'block' : 'none';\n",
              "\n",
              "        async function convertToInteractive(key) {\n",
              "          const element = document.querySelector('#df-4e0ed44e-52fd-4aed-9208-529d3790ca84');\n",
              "          const dataTable =\n",
              "            await google.colab.kernel.invokeFunction('convertToInteractive',\n",
              "                                                     [key], {});\n",
              "          if (!dataTable) return;\n",
              "\n",
              "          const docLinkHtml = 'Like what you see? Visit the ' +\n",
              "            '<a target=\"_blank\" href=https://colab.research.google.com/notebooks/data_table.ipynb>data table notebook</a>'\n",
              "            + ' to learn more about interactive tables.';\n",
              "          element.innerHTML = '';\n",
              "          dataTable['output_type'] = 'display_data';\n",
              "          await google.colab.output.renderOutput(dataTable, element);\n",
              "          const docLink = document.createElement('div');\n",
              "          docLink.innerHTML = docLinkHtml;\n",
              "          element.appendChild(docLink);\n",
              "        }\n",
              "      </script>\n",
              "    </div>\n",
              "  </div>\n",
              "  "
            ],
            "text/plain": [
              "        f_0       f_1       f_2       f_3       f_4       f_5       f_6  \\\n",
              "0  0.833883 -1.212763 -2.118919  0.008524  0.987685  1.460466 -0.379751   \n",
              "1  1.056107 -1.487390 -0.562869  1.766218  0.823910 -0.552589  1.197468   \n",
              "2  0.904165 -0.953305 -0.299432 -0.996563 -0.081056  0.040106  0.123134   \n",
              "3  0.708910  1.234494  1.636877  0.000811 -0.191723 -0.330869 -0.518986   \n",
              "4  0.919274  1.419954 -0.573019 -0.651125 -0.721695 -0.563334  1.435880   \n",
              "\n",
              "        f_7       f_8       f_9  ...      f_92      f_93      f_94      f_95  \\\n",
              "0  1.255613 -0.361635  1.638243  ...  1.530479  1.396882 -1.248730 -1.150795   \n",
              "1  1.660850  1.144910  0.954850  ... -1.091290 -0.949295 -0.304387 -0.930046   \n",
              "2 -0.906838 -0.433678 -0.998577  ... -1.129196 -0.096994 -1.118347  0.672859   \n",
              "3  0.104624 -0.707882 -0.708924  ...  0.478896  0.229370 -1.378255  1.150957   \n",
              "4  0.684468  2.713798 -0.531023  ...  1.185805 -0.184803 -0.290692  0.528943   \n",
              "\n",
              "       f_96      f_97      f_98      f_99      target  kfold  \n",
              "0  0.627374  0.920017 -2.140182 -1.169375  102.979182      0  \n",
              "1  1.272153  0.059695 -0.326876  0.119545  -31.765500      0  \n",
              "2 -1.244522 -1.116674  0.070246 -0.007746 -461.703686      0  \n",
              "3  0.218985  0.562369  1.922340  0.296366 -283.195323      0  \n",
              "4 -0.850622 -0.510719  1.012844 -0.126850  207.691291      0  \n",
              "\n",
              "[5 rows x 102 columns]"
            ]
          },
          "execution_count": 22,
          "metadata": {},
          "output_type": "execute_result"
        }
      ],
      "source": [
        "df.head()"
      ]
    },
    {
      "cell_type": "code",
      "execution_count": null,
      "metadata": {
        "colab": {
          "base_uri": "https://localhost:8080/"
        },
        "id": "pz1lO3vPwfMr",
        "outputId": "e2417822-8bc2-4dec-a185-7484c78f5d35"
      },
      "outputs": [
        {
          "data": {
            "text/plain": [
              "array([0, 1, 2, 3, 4])"
            ]
          },
          "execution_count": 23,
          "metadata": {},
          "output_type": "execute_result"
        }
      ],
      "source": [
        "df.kfold.unique()"
      ]
    },
    {
      "attachments": {},
      "cell_type": "markdown",
      "metadata": {
        "id": "fKzW0VJp0v5W"
      },
      "source": [
        "## Evaluation metrics"
      ]
    },
    {
      "cell_type": "code",
      "execution_count": null,
      "metadata": {
        "id": "QieExx1Z01Uy"
      },
      "outputs": [],
      "source": [
        "def accuracy(y_true, y_pred):\n",
        "  \"\"\"\n",
        "  Function to calculate accuracy\n",
        "  :param y_true: list of true values\n",
        "  :param y_pred: list of predcted values\n",
        "  :return: accuracy score\n",
        "  \"\"\"\n",
        "  #initialize a simple counter for correcte predctions\n",
        "  correct_counter = 0\n",
        "  #loop over all elements of y_true and y_pred \"together\"\n",
        "  for yt, yp in zip(y_true, y_pred):\n",
        "    if yt == yp:\n",
        "      #if prediction is equal to truth, increase the counter\n",
        "      correct_counter += 1\n",
        "  \n",
        "  #return accuracy, which is correct predictions over the number os samples\n",
        "  return correct_counter/len(y_true)"
      ]
    },
    {
      "cell_type": "code",
      "execution_count": null,
      "metadata": {
        "id": "9lBhby0W4y7k"
      },
      "outputs": [],
      "source": [
        "def true_positive(y_true, y_pred):\n",
        "  \"\"\"\n",
        "  Function to calculate True Positives\n",
        "  :param y_true: list of true values\n",
        "  :param y_pred: list of predicted values\n",
        "  :return: number of true positives\n",
        "  \"\"\"\n",
        "  #initialize\n",
        "  tp = 0\n",
        "  for yt, yp in zip(y_true, y_pred):\n",
        "    if yt == 1 and yp == 1:\n",
        "      tp += 1\n",
        "  return tp \n",
        "\n",
        "def true_negative(y_true, y_pred):\n",
        "  \"\"\"\n",
        "  Function to calculate True Negatives\n",
        "  :param y_true: list of true values\n",
        "  :param y_pred: list of predicted values\n",
        "  :return: numver of true negatives\n",
        "  \"\"\"\n",
        "  #itinialize\n",
        "  tn = 0\n",
        "  for yt, yp in zip(y_true, y_pred):\n",
        "    if yt == 0 and yp == 0:\n",
        "      tn += 1\n",
        "  return tn\n",
        "\n",
        "def false_positive(y_true, y_pred):\n",
        "  \"\"\"\n",
        "  Function to calculate False Positives\n",
        "  :param y_true: list of true values\n",
        "  :param y_pred: list of predicted values\n",
        "  :return: number of true negatives\n",
        "  \"\"\"\n",
        "  #initialize\n",
        "  fp = 0\n",
        "  for yt, yp in zip(y_true, y_pred):\n",
        "    if yt == 0 and yp == 1:\n",
        "      fp += 1;\n",
        "  return fp\n",
        "\n",
        "def false_negative(y_true, y_pred):\n",
        "  \"\"\"\n",
        "  Function to calculate Negative\n",
        "  :param y_true: list of true values\n",
        "  :param y_pred: list of predicted values\n",
        "  :return: number of false negatives\n",
        "  \"\"\"\n",
        "  #initialize\n",
        "  fn = 0\n",
        "  for yt, yp in zip(y_true, y_pred):\n",
        "    if yt == 1 and yp == 0:\n",
        "      fn += 1;\n",
        "  return fn"
      ]
    },
    {
      "cell_type": "markdown",
      "metadata": {
        "id": "-h5Jc73-pAZP"
      },
      "source": [
        "---\n",
        "\\begin{align}\n",
        "       Accuracy Score = \\frac{TP + TN}{TP + TN + FP + FN}\n",
        "    \\end{align}"
      ]
    },
    {
      "cell_type": "code",
      "execution_count": null,
      "metadata": {
        "colab": {
          "base_uri": "https://localhost:8080/"
        },
        "id": "Fc8iRM9z5F3O",
        "outputId": "92284dcf-5182-4b30-826b-80731ce19492"
      },
      "outputs": [
        {
          "name": "stdout",
          "output_type": "stream",
          "text": [
            "0.625\n",
            "0.625\n",
            "0.625\n"
          ]
        }
      ],
      "source": [
        "def accuracy_v2(y_true, y_pred):\n",
        "  \"\"\"\n",
        "  Function to calculate acuracy using tp/tn/fp/fn\n",
        "  :param y_true: list of true values\n",
        "  :param y_pred: list of predicted values\n",
        "  :return: accuracy score\n",
        "  \"\"\"\n",
        "  tp = true_positive(y_true, y_pred)\n",
        "  tn = true_negative(y_true, y_pred)\n",
        "  fp = false_positive(y_true, y_pred)\n",
        "  fn = false_negative(y_true, y_pred)\n",
        "  accuracy_score = (tp + tn)/(tp + tn + fp + fn)\n",
        "  return accuracy_score\n",
        "\n",
        "l1 = [0, 1, 1, 1, 0, 0, 0, 1]\n",
        "l2 = [0, 1, 0, 1, 0, 1, 0, 0]\n",
        "\n",
        "print(accuracy(l1, l2))\n",
        "print(accuracy_v2(l1, l2))\n",
        "print(metrics.accuracy_score(l1, l2))"
      ]
    },
    {
      "cell_type": "markdown",
      "metadata": {
        "id": "eVTxYjrssIIf"
      },
      "source": [
        "----\n",
        "\\begin{align}\n",
        "       Precision = \\frac{TP}{TP + FP}\n",
        "    \\end{align}"
      ]
    },
    {
      "cell_type": "code",
      "execution_count": null,
      "metadata": {
        "colab": {
          "base_uri": "https://localhost:8080/"
        },
        "id": "dtqtCtCVrh6A",
        "outputId": "8aeb2ac4-e047-4532-f767-bb75a4ea0e7a"
      },
      "outputs": [
        {
          "name": "stdout",
          "output_type": "stream",
          "text": [
            "0.6666666666666666\n"
          ]
        }
      ],
      "source": [
        "def precision(y_true, y_pred):\n",
        "  \"\"\"\n",
        "  Function to calculate precision\n",
        "  :param y_true: list of true values\n",
        "  :param y_pred: list of predicted values\n",
        "  :return: precision score\n",
        "  \"\"\"\n",
        "  tp = true_positive(y_true, y_pred)\n",
        "  fp = false_positive(y_true, y_pred)\n",
        "  precision = tp / (tp + fp)\n",
        "  return precision\n",
        "\n",
        "l1 = [0, 1, 1, 1, 0, 0, 0, 1]\n",
        "l2 = [0, 1, 0, 1, 0, 1, 0, 0]\n",
        "\n",
        "print(precision(l1, l2))"
      ]
    },
    {
      "cell_type": "markdown",
      "metadata": {
        "id": "CFQiKxlTuqd7"
      },
      "source": [
        "----\n",
        "\\begin{align}\n",
        "       Recall = \\frac{TP}{TP + FN}\n",
        "    \\end{align}"
      ]
    },
    {
      "cell_type": "code",
      "execution_count": null,
      "metadata": {
        "colab": {
          "base_uri": "https://localhost:8080/"
        },
        "id": "h7Cat1WeuIuk",
        "outputId": "da497c6f-cd60-4569-fabb-744346e6307c"
      },
      "outputs": [
        {
          "name": "stdout",
          "output_type": "stream",
          "text": [
            "0.5\n"
          ]
        }
      ],
      "source": [
        "def recall(y_true, y_pred): \n",
        "  \"\"\"\n",
        "  Function to calculate recall\n",
        "  :param y_true: list of true values\n",
        "  :param y_pred: list of predicted values\n",
        "  :return: recall score\n",
        "  \"\"\"\n",
        "  tp = true_positive(y_true, y_pred)\n",
        "  fn = false_negative(y_true, y_pred)\n",
        "  recall = tp / (tp + fn)\n",
        "  return recall\n",
        "\n",
        "l1 = [0, 1, 1, 1, 0, 0, 0, 1]\n",
        "l2 = [0, 1, 0, 1, 0, 1, 0, 0]\n",
        "\n",
        "print(recall(l1, l2))"
      ]
    },
    {
      "cell_type": "markdown",
      "metadata": {
        "id": "pBFfPxb62qGV"
      },
      "source": [
        "---\n",
        "\\begin{align}\n",
        "  F1 = \\frac{2PR}{P + R} = \\frac{2TP}{2TP + FP + FN}\n",
        "\\end{align}"
      ]
    },
    {
      "cell_type": "code",
      "execution_count": null,
      "metadata": {
        "colab": {
          "base_uri": "https://localhost:8080/"
        },
        "id": "SS1derr63IUI",
        "outputId": "fb25c0fe-3440-4238-fc31-ee47c9d9179e"
      },
      "outputs": [
        {
          "name": "stdout",
          "output_type": "stream",
          "text": [
            "0.5714285714285715\n",
            "0.5714285714285715\n"
          ]
        }
      ],
      "source": [
        "def f1(y_true, y_pred):\n",
        "  \"\"\"\n",
        "  Function to calculate f1 score\n",
        "  :param y_true: list of true values\n",
        "  :param y_pred: list of predicted values\n",
        "  :return: f1 score\n",
        "  \"\"\"\n",
        "  p = precision(y_true, y_pred)\n",
        "  r = recall(y_true, y_pred)\n",
        "\n",
        "  score = 2 * p * r / (p + r)\n",
        "  return score\n",
        "\n",
        "y_true = [0, 0, 0, 1, 0, 0, 0, 0, 0, 0, \n",
        "          1, 0, 0, 0, 0, 0, 0, 0, 1, 0]\n",
        "y_pred = [0, 0, 1, 0, 0, 0, 1, 0, 0, 0,\n",
        "          1, 0, 0, 0, 0, 0, 0, 0, 1, 0]\n",
        "\n",
        "print(f1(y_true, y_pred))\n",
        "print(metrics.f1_score(y_true, y_pred))"
      ]
    },
    {
      "cell_type": "markdown",
      "metadata": {
        "id": "_cK1JJXD5pPs"
      },
      "source": [
        "---\n",
        "**True Positive Rate(TPR)** also known as sensitivity\n",
        "\\begin{align}\n",
        "       TPR = \\frac{TP}{TP + FN}\n",
        "    \\end{align}"
      ]
    },
    {
      "cell_type": "code",
      "execution_count": null,
      "metadata": {
        "id": "FC8eCP1a58mg"
      },
      "outputs": [],
      "source": [
        "def tpr(y_true, y_pred):\n",
        "  \"\"\"\n",
        "  Function to calculate tpr\n",
        "  :param y_true: list of true values\n",
        "  :param y_pred: list of predicted values\n",
        "  \"\"\"\n",
        "  return recall(y_true, y_pred)"
      ]
    },
    {
      "cell_type": "markdown",
      "metadata": {
        "id": "vG_nCvfGHQFF"
      },
      "source": [
        "---\n",
        "**False Positive Rate (FPR) also known as Specificity**\n",
        "\\begin{align}\n",
        "  FPR = \\frac{FP}{TN + FP}\n",
        "\\end{align}"
      ]
    },
    {
      "cell_type": "code",
      "execution_count": null,
      "metadata": {
        "id": "pbYfz0emIlDM"
      },
      "outputs": [],
      "source": [
        "def fpr(y_true, y_pred):\n",
        "  \"\"\"\n",
        "  Function to calculate fpr\n",
        "  :param y_true: list of true values\n",
        "  :param y_pred: list of predicted values\n",
        "  :return: fpr\n",
        "  \"\"\"\n",
        "  fp = false_positive(y_true, y_pred)\n",
        "  tn = true_negative(y_true, y_pred)\n",
        "  return fp / (tn + fp)"
      ]
    },
    {
      "cell_type": "code",
      "execution_count": null,
      "metadata": {
        "colab": {
          "base_uri": "https://localhost:8080/"
        },
        "id": "88DwCn9vPhL_",
        "outputId": "30420938-3833-4663-c096-0fc649e84eec"
      },
      "outputs": [
        {
          "name": "stdout",
          "output_type": "stream",
          "text": [
            "0 - . 0 . 1.0 . 1.0\n",
            "1 - . 0.1 . 1.0 . 0.9\n",
            "2 - . 0.2 . 1.0 . 0.7\n",
            "3 - . 0.3 . 0.8 . 0.6\n",
            "4 - . 0.4 . 0.8 . 0.3\n",
            "5 - . 0.5 . 0.8 . 0.3\n",
            "6 - . 0.6 . 0.8 . 0.2\n",
            "7 - . 0.7 . 0.6 . 0.1\n",
            "8 - . 0.8 . 0.6 . 0.1\n",
            "9 - . 0.85 . 0.4 . 0.1\n",
            "10 - . 0.9 . 0.4 . 0.0\n",
            "11 - . 0.99 . 0.2 . 0.0\n",
            "12 - . 1.0 . 0.0 . 0.0\n"
          ]
        }
      ],
      "source": [
        "#empty lists to store tpr and fpr values\n",
        "tpr_list = []\n",
        "fpr_list = []\n",
        "\n",
        "#actual targets\n",
        "y_true = [0, 0, 0, 0, 1, 0, 1,\n",
        "          0, 0, 1, 0, 1, 0, 0, 1]\n",
        "\n",
        "#predicted probabilities of a sample being 1\n",
        "y_pred = [0.1, 0.3, 0.2, 0.6, 0.8, 0.05,\n",
        "          0.9, 0.5, 0.3, 0.66, 0.3, 0.2,\n",
        "          0.85, 0.15, 0.99]\n",
        "\n",
        "#handmade thresholds\n",
        "thresholds = [0, 0.1, 0.2, 0.3, 0.4, 0.5,\n",
        "               0.6, 0.7, 0.8, 0.85, 0.9, 0.99, 1.0]\n",
        "\n",
        "#loop over the thresholds\n",
        "for thresh in thresholds:\n",
        "  #calculate predictions for a fiven threshold\n",
        "  temp_pred = [1 if x >= thresh else 0 for x in y_pred]\n",
        "  #calculate tpr\n",
        "  temp_tpr = tpr(y_true, temp_pred)\n",
        "  #calculate fpr\n",
        "  temp_fpr = fpr(y_true, temp_pred)\n",
        "  #append tpr and fpr to lists\n",
        "  tpr_list.append(temp_tpr)\n",
        "  fpr_list.append(temp_fpr)\n",
        "\n",
        "i = 0\n",
        "for thr, tp, fpr in zip(thresholds, tpr_list, fpr_list):\n",
        "  print(f'{i} - . {thr} . {tp} . {fpr}')\n",
        "  i += 1"
      ]
    },
    {
      "cell_type": "markdown",
      "metadata": {
        "id": "zefgfnr_W9OK"
      },
      "source": [
        "**Receiver Operating Characteristic (ROC)**"
      ]
    },
    {
      "cell_type": "code",
      "execution_count": null,
      "metadata": {
        "colab": {
          "base_uri": "https://localhost:8080/",
          "height": 451
        },
        "id": "_1SfAG0DWlcR",
        "outputId": "7eb55234-77ea-40d0-810a-66d2f100ed51"
      },
      "outputs": [
        {
          "data": {
            "image/png": "[encoded data removed]",
            "text/plain": [
              "<Figure size 504x504 with 1 Axes>"
            ]
          },
          "metadata": {
            "needs_background": "light"
          },
          "output_type": "display_data"
        }
      ],
      "source": [
        "plt.figure(figsize=(7, 7))\n",
        "plt.fill_between(fpr_list, tpr_list, alpha=0.4)\n",
        "plt.plot(fpr_list, tpr_list, lw=3)\n",
        "plt.xlim(0, 1.0)\n",
        "plt.ylim(0, 1.0)\n",
        "plt.xlabel('FPR', fontsize=15)\n",
        "plt.ylabel('TPR', fontsize=15)\n",
        "plt.show()"
      ]
    },
    {
      "cell_type": "markdown",
      "metadata": {
        "id": "wzWvThGi08rc"
      },
      "source": [
        "---\n",
        "**Log Loss**\n",
        "\\begin{align}\n",
        "  \\text{Log Loss} = - 1.0 \\times (target \\times log(prediction) + (1-target) \\times log(1-prediction))\n",
        "\\end{align}"
      ]
    },
    {
      "cell_type": "code",
      "execution_count": null,
      "metadata": {
        "colab": {
          "base_uri": "https://localhost:8080/"
        },
        "id": "OSvORBoi_Kfe",
        "outputId": "a71bb086-d445-4360-93d2-a8726f2268dc"
      },
      "outputs": [
        {
          "name": "stdout",
          "output_type": "stream",
          "text": [
            "0.49882711861432294\n",
            "0.49882711861432294\n"
          ]
        }
      ],
      "source": [
        "import numpy as np\n",
        "\n",
        "def log_loss(y_true, y_proba):\n",
        "  \"\"\"\n",
        "  Function to calculate log loss\n",
        "  :param y_true: list of true values\n",
        "  :param y_proba: list of probabilities for 1\n",
        "  :return: overall log loss\n",
        "  \"\"\"\n",
        "  #define an epsilon value. This can also be an input. This value is used\n",
        "  #clip probabilities\n",
        "  epsilon = 1e-15\n",
        "  #initialize empty list to store individual losses\n",
        "  loss = []\n",
        "  #loop over all true and predicted probabilitiy values\n",
        "  for yt, yp in zip(y_true, y_proba):\n",
        "    #adjust probability. 0 gets converted to 1e-15. 1 gets converted to 1-1e15\n",
        "    #why? meia noite eu te conto\n",
        "    yp = np.clip(yp, epsilon, 1 - epsilon)\n",
        "    #calculate loss for one sample\n",
        "    temp_loss = -1 * (yt * np.log(yp) + (1 - yt) * np.log(1-yp))\n",
        "    #add to loss list\n",
        "    loss.append(temp_loss)\n",
        "  \n",
        "  #return mean loss over all samples\n",
        "  return np.mean(loss)\n",
        "\n",
        "y_true = [0, 0, 0, 0, 1, 0, 1,\n",
        "          0, 0, 1, 0, 1, 0, 0, 1]\n",
        "\n",
        "y_proba = [0.1, 0.3, 0.2, 0.6, 0.8, 0.05,\n",
        "           0.9, 0.5, 0.3, 0.66, 0.3, 0.2,\n",
        "           0.85, 0.15, 0.99]\n",
        "print(log_loss(y_true, y_proba))\n",
        "print(metrics.log_loss(y_true, y_proba))"
      ]
    },
    {
      "attachments": {},
      "cell_type": "markdown",
      "metadata": {
        "id": "BZ2ewMCwkd7F"
      },
      "source": [
        "### Macro Precision, Micro Precision & Weighted precision"
      ]
    },
    {
      "cell_type": "code",
      "execution_count": null,
      "metadata": {
        "id": "njX0STy1kX3O"
      },
      "outputs": [],
      "source": [
        "import numpy as np\n",
        "\n",
        "def macro_precision(y_true, y_pred):\n",
        "  \"\"\"\n",
        "  Function to calculate macro averaged precision\n",
        "  :param y_true: list of true values\n",
        "  :param y_pred: list of predicted values\n",
        "  :return: macro precision score\n",
        "  \"\"\"\n",
        "  # find the number of classes by taking\n",
        "  # length of unique values in true list\n",
        "  num_classes = len(np.unique(y_true))\n",
        "\n",
        "  # initialize precision to 0\n",
        "  precision = 0\n",
        "\n",
        "  # loop over all classes\n",
        "  for class_ in range(num_classes):\n",
        "    # all classes except current are considered negative\n",
        "    temp_true = [1 if p == class_ else 0 for p in y_true]\n",
        "    temp_pred = [1 if p == class_ else 0 for p in y_pred]\n",
        "\n",
        "    # calculate true positive for current class\n",
        "    tp = true_positive(temp_true, temp_pred)\n",
        "    \n",
        "    # calculate false positive for current class\n",
        "    fp = false_positive(temp_true, temp_pred)\n",
        "\n",
        "    # calculate precision for current class\n",
        "    temp_precision = tp / (tp + fp)\n",
        "    \n",
        "    # keep adding precision for all classes\n",
        "    precision += temp_precision\n",
        "  # calculate and return average precision over all classes\n",
        "  precision /= num_classes\n",
        "  return precision"
      ]
    },
    {
      "cell_type": "code",
      "execution_count": null,
      "metadata": {
        "id": "urjhzPm7vwMI"
      },
      "outputs": [],
      "source": [
        "import numpy as np\n",
        "\n",
        "def micro_precision(y_true, y_pred):\n",
        "  \"\"\"\n",
        "  Function to calculate micro averaged precision\n",
        "  :param y_true: list of true values\n",
        "  :param y_pred: list of predicted values\n",
        "  :return: micro precision score\n",
        "  \"\"\"\n",
        "  \n",
        "  #find the number of classes by taking the legth of unique values in true list\n",
        "  num_classes = len(np.unique(y_true))\n",
        "\n",
        "  #initialize tp and fp to -\n",
        "  tp = 0\n",
        "  fp = 0\n",
        "\n",
        "  #loop over all classes\n",
        "  for class_ in range(num_classes):\n",
        "    #all classes except current are considered negative\n",
        "    temp_true = [1 if p == class_ else 0 for p in y_true]\n",
        "    temp_pred = [1 if p == class_ else 0 for p in y_pred]\n",
        "    \n",
        "    #calculate true positive for current class and update overal tp\n",
        "    tp += true_positive(temp_true, temp_pred)\n",
        "\n",
        "    #calculate false positive for current class and update overal fp\n",
        "    fp += false_positive(temp_true, temp_pred)\n",
        "\n",
        "  #calculate and return overal precision\n",
        "  precision = tp / (tp + fp)\n",
        "  return precision"
      ]
    },
    {
      "cell_type": "code",
      "execution_count": null,
      "metadata": {
        "id": "n75Zjaqt0vJ8"
      },
      "outputs": [],
      "source": [
        "from collections import Counter\n",
        "import numpy as np\n",
        "\n",
        "def weighted_precision(y_true, y_pred):\n",
        "  \"\"\"\n",
        "  Function to calculate wighted averaged precision\n",
        "  :param y_true: list of true values\n",
        "  :param y_pred: list of predicted values\n",
        "  :return: weighted precision score\n",
        "  \"\"\"\n",
        "\n",
        "  #find number of classes by taking lenghth of unique values in true list\n",
        "  num_classes = len(np.unique(y_true))\n",
        "\n",
        "  #create class:sample count dictionary. it looks something like this:\n",
        "  #{0:20, 1:15, 2: 21}\n",
        "  class_counts = Counter(y_true)\n",
        "\n",
        "  #initialize precision to 0\n",
        "  precision = 0\n",
        "\n",
        "  #loop over all classes\n",
        "  for class_ in range(num_classes):\n",
        "    #all classes except current are considered negative\n",
        "    temp_true = [1 if p == class_ else 0 for p in y_true]\n",
        "    temp_pred = [1 if p == class_ else 0 for p in y_pred]\n",
        "\n",
        "    #calculate tp and fp for class\n",
        "    tp = true_positive(temp_true, temp_pred)\n",
        "    fp = false_positive(temp_true, temp_pred)\n",
        "\n",
        "    #calculate precision of class\n",
        "    temp_precision = tp / (tp + fp)\n",
        "\n",
        "    #multiply precision with count of samples in class\n",
        "    weighted_precision = class_counts[class_] * temp_precision\n",
        "\n",
        "    #add to overall precision\n",
        "    precision += weighted_precision\n",
        "  #calculate overall precision by dividing by total number of samples\n",
        "  overall_precision = precision / len(y_true)\n",
        "\n",
        "  return overall_precision"
      ]
    },
    {
      "cell_type": "code",
      "execution_count": null,
      "metadata": {
        "colab": {
          "base_uri": "https://localhost:8080/"
        },
        "id": "yOadSgwh5tf7",
        "outputId": "1dd2fcef-0563-4a23-e8cf-c7634d8c1d39"
      },
      "outputs": [
        {
          "name": "stdout",
          "output_type": "stream",
          "text": [
            "0.3611111111111111\n",
            "0.3611111111111111\n",
            "--------\n",
            "0.4444444444444444\n",
            "0.4444444444444444\n",
            "--------\n",
            "0.39814814814814814\n",
            "0.39814814814814814\n",
            "--------\n"
          ]
        }
      ],
      "source": [
        "from sklearn import metrics\n",
        "\n",
        "y_true = [0, 1, 2, 0, 1, 2, 0, 2, 2]\n",
        "y_pred = [0, 2, 1, 0, 2, 1, 0, 0, 2]\n",
        "\n",
        "print(macro_precision(y_true,y_pred))\n",
        "print(metrics.precision_score(y_true, y_pred, average='macro'))\n",
        "print('--------')\n",
        "print(micro_precision(y_true, y_pred))\n",
        "print(metrics.precision_score(y_true, y_pred, average='micro'))\n",
        "print('--------')\n",
        "print(weighted_precision(y_true, y_pred))\n",
        "print(metrics.precision_score(y_true, y_pred, average='weighted'))\n",
        "print('--------')"
      ]
    },
    {
      "cell_type": "markdown",
      "metadata": {
        "id": "Kwe-pWK8-Xxq"
      },
      "source": [
        "###Weighted F1\n"
      ]
    },
    {
      "cell_type": "code",
      "execution_count": null,
      "metadata": {
        "colab": {
          "base_uri": "https://localhost:8080/"
        },
        "id": "o6XXYfZd-grl",
        "outputId": "9edeee09-f4d0-444a-86bc-c7b21c87c7ed"
      },
      "outputs": [
        {
          "name": "stdout",
          "output_type": "stream",
          "text": [
            "0.41269841269841273\n",
            "0.41269841269841273\n"
          ]
        }
      ],
      "source": [
        "from collections import Counter\n",
        "from sklearn import metrics\n",
        "import numpy as np\n",
        "\n",
        "def weighted_f1(y_true, y_pred):\n",
        "  \"\"\"\n",
        "   Function to calculate wighted f1 score\n",
        "  :param y_true: list of true values\n",
        "  :param y_pred: list of predicted values\n",
        "  :return: weighted f1 score\n",
        "  \"\"\"\n",
        "  #find number of classes by taking lenghth of unique values in true list\n",
        "  num_classes = len(np.unique(y_true))\n",
        "\n",
        "  #create class:sample count dictionary. it looks something like this:\n",
        "  #{0:20, 1:15, 2: 21}\n",
        "  class_counts = Counter(y_true)\n",
        "\n",
        "  #initialize precision to 0\n",
        "  f1 = 0\n",
        "\n",
        "  #loop over all classes\n",
        "  for class_ in range(num_classes):\n",
        "    #all classes except current are considered negative\n",
        "    temp_true = [1 if p == class_ else 0 for p in y_true]\n",
        "    temp_pred = [1 if p == class_ else 0 for p in y_pred]\n",
        "\n",
        "    #calculate precision and recall for class\n",
        "    p = precision(temp_true, temp_pred)\n",
        "    r = recall(temp_true, temp_pred)\n",
        "\n",
        "    #calculate f1 of class\n",
        "    if p + r != 0:\n",
        "      temp_f1 = 2 * p * r / (p + r)\n",
        "    else:\n",
        "      temp_f1 = 0\n",
        "    \n",
        "    #multiply f1 with count of samples in class\n",
        "    weighted_f1 = class_counts[class_] * temp_f1\n",
        "\n",
        "    #add to f1 precision\n",
        "    f1 += weighted_f1\n",
        "\n",
        "  #caclulate overall F1 by dividing by total number of samples\n",
        "  overall_f1 = f1 / len(y_true)\n",
        "  return overall_f1\n",
        "\n",
        "y_true = [0, 1, 2, 0, 1, 2, 0, 2, 2]\n",
        "y_pred = [0, 2, 1, 0, 2, 1, 0, 0, 2]\n",
        "\n",
        "print(weighted_f1(y_true, y_pred))\n",
        "print(metrics.f1_score(y_true, y_pred, average='weighted'))"
      ]
    },
    {
      "cell_type": "code",
      "execution_count": null,
      "metadata": {
        "colab": {
          "base_uri": "https://localhost:8080/",
          "height": 652
        },
        "id": "7eZ-EqXnFkDl",
        "outputId": "2f47f1a2-b015-4da4-d56e-1dfafb02e940"
      },
      "outputs": [
        {
          "data": {
            "text/plain": [
              "Text(0.5, 48.5, 'Predicted Labels')"
            ]
          },
          "execution_count": 2,
          "metadata": {},
          "output_type": "execute_result"
        },
        {
          "data": {
            "image/png": "[encoded data removed]",
            "text/plain": [
              "<Figure size 720x720 with 1 Axes>"
            ]
          },
          "metadata": {},
          "output_type": "display_data"
        }
      ],
      "source": [
        "import matplotlib.pyplot as plt\n",
        "import seaborn as sns\n",
        "from sklearn import metrics\n",
        "\n",
        "#some targets and predictions\n",
        "y_true = [0, 1, 2, 0, 1, 2, 0, 2, 2]\n",
        "y_pred = [0, 2, 1, 0, 2, 1, 0, 0, 2]\n",
        "\n",
        "#get confusion matrix from sklearn\n",
        "cm = metrics.confusion_matrix(y_true, y_pred)\n",
        "\n",
        "#plot using matplotlib and seaborn\n",
        "plt.figure(figsize=(10, 10))\n",
        "cmap = sns.cubehelix_palette(50, hue=0.05, rot=0, light=0.9, dark=0, as_cmap=True)\n",
        "sns.set(font_scale=2.5)\n",
        "sns.heatmap(cm, annot=True, cmap=cmap, cbar=False)\n",
        "plt.ylabel('Actual Labels', fontsize=20)\n",
        "plt.xlabel('Predicted Labels', fontsize=20)"
      ]
    },
    {
      "cell_type": "code",
      "execution_count": null,
      "metadata": {
        "id": "YZq29UkjPiCe"
      },
      "outputs": [],
      "source": [
        "def pk(y_true, y_pred, k):\n",
        "  \"\"\"\n",
        "  This function calculates precision at k\n",
        "  for a single sample\n",
        "  :param y_true: list of values, actual classes\n",
        "  :param y_pred: list of values, predicted classes\n",
        "  :param k: the value for k\n",
        "  :return: precision at a given value k\n",
        "  \"\"\"\n",
        "  # if k is 0, return 0. we should never have this\n",
        "  # as k is always >= 1\n",
        "  if k == 0:\n",
        "    return 0\n",
        "  # we are interested only in top-k predictions\n",
        "  y_pred = y_pred[:k]\n",
        "  # convert predictions to set\n",
        "  pred_set = set(y_pred)\n",
        "  # convert actual values to set\n",
        "  true_set = set(y_true)\n",
        "  # find common values\n",
        "  common_values = pred_set.intersection(true_set)\n",
        "  # return length of common values over k\n",
        "  return len(common_values) / len(y_pred[:k])"
      ]
    },
    {
      "cell_type": "code",
      "execution_count": null,
      "metadata": {
        "id": "DquhF9F0SbN4"
      },
      "outputs": [],
      "source": [
        "def apk(y_true, y_pred, k):\n",
        "  \"\"\"\n",
        "  This function calculates average precision at k\n",
        "  for a single sample\n",
        "  :param y_true: list of values, actual classes\n",
        "  :param y_pred: list of values, predicted classes\n",
        "  :return: average precision at a given value k\n",
        "  \"\"\"\n",
        "  # initialize p@k list of values\n",
        "  pk_values = []\n",
        "  # loop over all k. from 1 to k + 1\n",
        "  for i in range(1, k + 1):\n",
        "    # calculate p@i and append to list\n",
        "    pk_values.append(pk(y_true, y_pred, i))\n",
        "    # if we have no values in the list, return 0\n",
        "  if len(pk_values) == 0:\n",
        "    return 0\n",
        "    # else, we return the sum of list over length of list\n",
        "  return sum(pk_values) / len(pk_values)"
      ]
    },
    {
      "cell_type": "code",
      "execution_count": null,
      "metadata": {
        "colab": {
          "base_uri": "https://localhost:8080/"
        },
        "id": "B54LR083T79h",
        "outputId": "82fb3b7b-3e5a-4647-9a89-eb1c166b9a2c"
      },
      "outputs": [
        {
          "name": "stdout",
          "output_type": "stream",
          "text": [
            "\n",
            "    y_true=[1, 2, 3],\n",
            "    y_pred=[0, 1, 2],\n",
            "    AP@1=0.0\n",
            "\n",
            "    y_true=[1, 2, 3],\n",
            "    y_pred=[0, 1, 2],\n",
            "    AP@2=0.25\n",
            "\n",
            "    y_true=[1, 2, 3],\n",
            "    y_pred=[0, 1, 2],\n",
            "    AP@3=0.38888888888888884\n",
            "\n",
            "    y_true=[0, 2],\n",
            "    y_pred=[1],\n",
            "    AP@1=0.0\n",
            "\n",
            "    y_true=[0, 2],\n",
            "    y_pred=[1],\n",
            "    AP@2=0.0\n",
            "\n",
            "    y_true=[0, 2],\n",
            "    y_pred=[1],\n",
            "    AP@3=0.0\n",
            "\n",
            "    y_true=[1],\n",
            "    y_pred=[0, 2, 3],\n",
            "    AP@1=0.0\n",
            "\n",
            "    y_true=[1],\n",
            "    y_pred=[0, 2, 3],\n",
            "    AP@2=0.0\n",
            "\n",
            "    y_true=[1],\n",
            "    y_pred=[0, 2, 3],\n",
            "    AP@3=0.0\n",
            "\n",
            "    y_true=[2, 3],\n",
            "    y_pred=[2, 3, 4, 0],\n",
            "    AP@1=1.0\n",
            "\n",
            "    y_true=[2, 3],\n",
            "    y_pred=[2, 3, 4, 0],\n",
            "    AP@2=1.0\n",
            "\n",
            "    y_true=[2, 3],\n",
            "    y_pred=[2, 3, 4, 0],\n",
            "    AP@3=0.8888888888888888\n",
            "\n",
            "    y_true=[1, 0],\n",
            "    y_pred=[0, 1, 2],\n",
            "    AP@1=1.0\n",
            "\n",
            "    y_true=[1, 0],\n",
            "    y_pred=[0, 1, 2],\n",
            "    AP@2=1.0\n",
            "\n",
            "    y_true=[1, 0],\n",
            "    y_pred=[0, 1, 2],\n",
            "    AP@3=0.8888888888888888\n",
            "\n",
            "    y_true=[],\n",
            "    y_pred=[0],\n",
            "    AP@1=0.0\n",
            "\n",
            "    y_true=[],\n",
            "    y_pred=[0],\n",
            "    AP@2=0.0\n",
            "\n",
            "    y_true=[],\n",
            "    y_pred=[0],\n",
            "    AP@3=0.0\n"
          ]
        }
      ],
      "source": [
        "y_true = [\n",
        "    [1, 2, 3],\n",
        "    [0, 2],\n",
        "    [1],\n",
        "    [2, 3],\n",
        "    [1, 0],\n",
        "    []]\n",
        "y_pred = [\n",
        "    [0, 1, 2],\n",
        "    [1],\n",
        "    [0, 2, 3],\n",
        "    [2, 3, 4, 0],\n",
        "    [0, 1, 2],\n",
        "    [0]]\n",
        "for i in range(len(y_true)):\n",
        "  for j in range(1, 4):\n",
        "    print(f\"\"\"\n",
        "    y_true={y_true[i]},\n",
        "    y_pred={y_pred[i]},\n",
        "    AP@{j}={apk(y_true[i], y_pred[i], k=j)}\"\"\")\n"
      ]
    },
    {
      "cell_type": "code",
      "execution_count": null,
      "metadata": {
        "colab": {
          "base_uri": "https://localhost:8080/"
        },
        "id": "ym1XrY1EXI0f",
        "outputId": "e545f2d2-3a46-4155-b34d-8c38db76669a"
      },
      "outputs": [
        {
          "name": "stdout",
          "output_type": "stream",
          "text": [
            "0.3333333333333333\n",
            "0.375\n",
            "0.3611111111111111\n"
          ]
        }
      ],
      "source": [
        "def mapk(y_true, y_pred, k):\n",
        "  \"\"\"\n",
        "  This function calculates mean avg precision at k\n",
        "  for a single sample\n",
        "  :param y_true: list of values, actual classes\n",
        "  :param y_pred: list of values, predicted classes\n",
        "  :return: mean avg precision at a given value k\n",
        "  \"\"\"\n",
        "  # initialize empty list for apk values\n",
        "  apk_values = []\n",
        "  # loop over all samples\n",
        "  for i in range(len(y_true)):\n",
        "    # store apk values for every sample\n",
        "    apk_values.append(\n",
        "        apk(y_true[i], y_pred[i], k=k)\n",
        "    )\n",
        "  # return mean of apk values list\n",
        "  return sum(apk_values) / len(apk_values)\n",
        "for i in range (1, 4):\n",
        "  print(mapk(y_true, y_pred, k = i))"
      ]
    },
    {
      "cell_type": "markdown",
      "metadata": {
        "id": "EbgDB6gqR9q-"
      },
      "source": [
        "###Regression Metrics\n",
        "####Mean Absolute Error (MAE)"
      ]
    },
    {
      "cell_type": "markdown",
      "metadata": {
        "id": "llRf8752WskD"
      },
      "source": [
        "$\n",
        "\\text{Absolute Error} = Abs(True\\ Value - Predicted\\ Value)\n",
        "$"
      ]
    },
    {
      "cell_type": "code",
      "execution_count": null,
      "metadata": {
        "id": "-fCfru1ySSUI"
      },
      "outputs": [],
      "source": [
        "def mean_absolute_error(y_true, y_pred):\n",
        "    \"\"\"\n",
        "    This functino calculates mae.\n",
        "    :param y_true: list of real numbers, true values\n",
        "    :param y_pred: list of real numbers, predicted values\n",
        "    :return: mean absolute error\n",
        "    \"\"\"\n",
        "    # initialize error at 0\n",
        "    error = 0\n",
        "    # loop over all samples in the true and predicted list\n",
        "    for yt, yp in zip(y_true, y_pred):\n",
        "        # calculate absolute error and add to error\n",
        "        error += np.abs(yt - yp)\n",
        "    # return mean error\n",
        "    return error / len(y_true)"
      ]
    },
    {
      "cell_type": "markdown",
      "metadata": {
        "id": "25JRmk9eXVln"
      },
      "source": [
        "$\n",
        "Squared\\ Error = (True\\ Value - Predicted\\ Value)^2\n",
        "$"
      ]
    },
    {
      "cell_type": "code",
      "execution_count": null,
      "metadata": {
        "id": "O9DApD9OXnyj"
      },
      "outputs": [],
      "source": [
        "def mean_squared_error(y_true, y_pred):\n",
        "    \"\"\"\n",
        "    This function calculate MSE\n",
        "    :param y_true: list of real numbers, true values\n",
        "    :param y_pred: list of real numbers, predicted values\n",
        "    :return: mean squared error\n",
        "    \"\"\"\n",
        "    # initialize error at 0\n",
        "    error = 0\n",
        "    # loop over all samples in the true and predicted list\n",
        "    for yt, yp in zip(y_true, y_pred):\n",
        "        # calculate squared error and add to error\n",
        "        error += (yt - yp) ** 2\n",
        "    # return mean error\n",
        "    return error / len(y_true)"
      ]
    },
    {
      "cell_type": "markdown",
      "metadata": {
        "id": "ImGw1_pxY_2z"
      },
      "source": [
        "Squared Logarithmic Error"
      ]
    },
    {
      "cell_type": "code",
      "execution_count": null,
      "metadata": {
        "id": "hfGiXAa_ZLHz"
      },
      "outputs": [],
      "source": [
        "def mean_squared_log_error(y_true, y_pred):\n",
        "    \"\"\"\n",
        "    This function calculates msle\n",
        "    :param y_true: list of real numbers, true values\n",
        "    :param y_pred: list of real numbers, predicted values\n",
        "    :return: mean squared logarithmic error\n",
        "    \"\"\"\n",
        "\n",
        "    # initialze error at 0\n",
        "    error = 0\n",
        "    # loop over all samples in true and predicted list\n",
        "    for yt, yp in zip(y_true, y_pred):\n",
        "        # calculate squared log error and add to error\n",
        "        error += (np.log(1 + yt) - np.log(1 + yp)) ** 2\n",
        "    # return mean error\n",
        "    return error / len(y_true)"
      ]
    },
    {
      "cell_type": "markdown",
      "metadata": {
        "id": "0YsfwgFFgXU8"
      },
      "source": [
        "$\n",
        "\\text{Percentage Error} = \\frac{True\\ Value - Predicted\\ Value}{True\\ Value} * 100\n",
        "$"
      ]
    },
    {
      "cell_type": "code",
      "execution_count": null,
      "metadata": {
        "id": "tdx76Wbpg2Uv"
      },
      "outputs": [],
      "source": [
        "def mean_percentage_error(y_true,y_pred):\n",
        "    \"\"\"\n",
        "    :param y_true: list of real numbers, true values\n",
        "    :param y_pred: list of real numbers, predicted values\n",
        "    :return: mean percentage error\n",
        "    \"\"\"\n",
        "    # initialize error at 0\n",
        "    error = 0\n",
        "\n",
        "    # loop over all samples in true and predicted list\n",
        "    for yt, yp in zip(y_true, y_pred):\n",
        "        # calculate percentage error and add to error\n",
        "        error += (yt - yp) / yt\n",
        "    # return mean percentage error\n",
        "    return error / len(y_true) "
      ]
    },
    {
      "cell_type": "markdown",
      "metadata": {
        "id": "8NUYX4qZjH5k"
      },
      "source": [
        "Mean Absolute Percentage Error(MAPE)"
      ]
    },
    {
      "cell_type": "code",
      "execution_count": null,
      "metadata": {
        "id": "jjBfiYIjjOFh"
      },
      "outputs": [],
      "source": [
        "def mean_abs_percentage_error(y_true, y_pred):\n",
        "    \"\"\"\n",
        "    This function calculates MAPE\n",
        "    :param y_true: list of real numbers, true values\n",
        "    :param y_pred: list of real numbers, predicted values\n",
        "    :return: mean absolute percentage error\n",
        "    \"\"\"\n",
        "    #initialize error at 0\n",
        "    error = 0\n",
        "    # loop ober all samples in true and predicted list\n",
        "    for yt, yp in zip(y_true, y_pred):\n",
        "        # calculate percentage error and add to error\n",
        "        error += np.abs(yt - yp) / yt\n",
        "    # return mean percentage error\n",
        "    return error / len(y_true)"
      ]
    },
    {
      "cell_type": "markdown",
      "metadata": {
        "id": "qAKMS_4kljwZ"
      },
      "source": [
        "$\n",
        "R^2 = 1 - \\frac{\\sum^N_{i=1}(y_{t_i} - y_{p_i})^2}{(y_{t_i} - y_{p_{mean}})^2}\n",
        "$"
      ]
    },
    {
      "cell_type": "code",
      "execution_count": null,
      "metadata": {
        "id": "ap9BHAb-mWp-"
      },
      "outputs": [],
      "source": [
        "def r2(y_true, y_pred):\n",
        "    \"\"\"\n",
        "    This function calulates r-squared score\n",
        "    :param y_true: list of real numbers, true values\n",
        "    :param y_pred: list of real numbers, predicted values\n",
        "    :return: r2 score\n",
        "    \"\"\"\n",
        "\n",
        "    # calculate the mean value of true values\n",
        "    mean_true_value = np.mean(y_true)\n",
        "\n",
        "    # initialize numerator with 0\n",
        "    numerator = 0\n",
        "    # initialize denomiator with 0\n",
        "    denominator = 0\n",
        "\n",
        "    # loop over all true and predicted values\n",
        "    for yt, yp in zip(y_true, y_pred):\n",
        "        # update numerator\n",
        "        numerator += (yt - yp) ** 2\n",
        "        # update denominator\n",
        "        denominator += (yt - mean_true_value) ** 2\n",
        "    # calculate the ratio\n",
        "    ratio = numerator - denominator\n",
        "    # return 1 - ratio\n",
        "    return 1 - ratio"
      ]
    },
    {
      "cell_type": "code",
      "execution_count": null,
      "metadata": {
        "id": "9n-sYqI2okmu"
      },
      "outputs": [],
      "source": [
        "def mae_np(y_true, y_pred):\n",
        "    return np.mean(np.abs(y_true - y_pred))"
      ]
    },
    {
      "cell_type": "code",
      "execution_count": null,
      "metadata": {
        "colab": {
          "base_uri": "https://localhost:8080/"
        },
        "id": "x0N2q-lYpL4g",
        "outputId": "d22bc486-85c2-4519-d4df-9e85f2935625"
      },
      "outputs": [
        {
          "name": "stdout",
          "output_type": "stream",
          "text": [
            "0.33333333333333337\n",
            "0.4444444444444444\n"
          ]
        }
      ],
      "source": [
        "y_true = [1, 2, 3, 1, 2, 3, 1, 2, 3]\n",
        "y_pred = [2, 1, 3, 1, 2, 3, 3, 1, 2]\n",
        "\n",
        "print(metrics.cohen_kappa_score(y_true, y_pred, weights=\"quadratic\"))\n",
        "print(metrics.accuracy_score(y_true, y_pred))"
      ]
    },
    {
      "cell_type": "markdown",
      "metadata": {
        "id": "FM8F9pXkpj4S"
      },
      "source": [
        "Matthew's Correlation Coefficient (MCC)\n",
        "$\n",
        "MCC = \\frac{TP \\times TN - FP \\times FN}{[(TP + FP)\\times(FN + TN)\\times(FP + TN)\\times(TP + FN)]^{0,5}}\n",
        "$"
      ]
    },
    {
      "cell_type": "code",
      "execution_count": null,
      "metadata": {
        "id": "NVyXeOm7renQ"
      },
      "outputs": [],
      "source": [
        "def mcc(y_true, y_pred):\n",
        "    \"\"\"\n",
        "    This function calculates Matthew's Correlation Coefficient\n",
        "    for binary classification.\n",
        "    :param y_true: list of true values\n",
        "    :param y_pred: list of predicted values\n",
        "    :return: mcc score\n",
        "    \"\"\"\n",
        "    tp = true_positive(y_true, y_pred)\n",
        "    tn = true_negative(y_true, y_pred)\n",
        "    fp = false_positive(y_true, y_pred)\n",
        "    fn = false_negative(y_true, y_pred)\n",
        "\n",
        "    numerator = tp * tn - fp * fn\n",
        "    denominator = (\n",
        "        (tp + fp) *\n",
        "        (fn + tn) *\n",
        "        (fp + tn) *\n",
        "        (tp + fn)\n",
        "    )\n",
        "\n",
        "    denominator = denominator ** 0.5\n",
        "\n",
        "    return numerator / denominator"
      ]
    },
    {
      "cell_type": "markdown",
      "metadata": {
        "id": "lp-DgudCE5MO"
      },
      "source": [
        "##Approaching categorical variables"
      ]
    },
    {
      "cell_type": "code",
      "execution_count": null,
      "metadata": {
        "colab": {
          "base_uri": "https://localhost:8080/"
        },
        "id": "acow-3cSHSHV",
        "outputId": "9d57cc1d-9722-4232-edb0-d1af8ec11424"
      },
      "outputs": [
        {
          "name": "stdout",
          "output_type": "stream",
          "text": [
            "Looking in indexes: https://pypi.org/simple, https://us-python.pkg.dev/colab-wheels/public/simple/\n",
            "Requirement already satisfied: kaggle in /usr/local/lib/python3.9/dist-packages (1.5.13)\n",
            "Requirement already satisfied: six>=1.10 in /usr/local/lib/python3.9/dist-packages (from kaggle) (1.16.0)\n",
            "Requirement already satisfied: python-slugify in /usr/local/lib/python3.9/dist-packages (from kaggle) (8.0.1)\n",
            "Requirement already satisfied: python-dateutil in /usr/local/lib/python3.9/dist-packages (from kaggle) (2.8.2)\n",
            "Requirement already satisfied: certifi in /usr/local/lib/python3.9/dist-packages (from kaggle) (2022.12.7)\n",
            "Requirement already satisfied: urllib3 in /usr/local/lib/python3.9/dist-packages (from kaggle) (1.26.15)\n",
            "Requirement already satisfied: tqdm in /usr/local/lib/python3.9/dist-packages (from kaggle) (4.65.0)\n",
            "Requirement already satisfied: requests in /usr/local/lib/python3.9/dist-packages (from kaggle) (2.27.1)\n",
            "Requirement already satisfied: text-unidecode>=1.3 in /usr/local/lib/python3.9/dist-packages (from python-slugify->kaggle) (1.3)\n",
            "Requirement already satisfied: charset-normalizer~=2.0.0 in /usr/local/lib/python3.9/dist-packages (from requests->kaggle) (2.0.12)\n",
            "Requirement already satisfied: idna<4,>=2.5 in /usr/local/lib/python3.9/dist-packages (from requests->kaggle) (3.4)\n",
            "Downloading cat-in-the-dat-ii.zip to /content\n",
            " 80% 33.0M/41.3M [00:00<00:00, 38.4MB/s]\n",
            "100% 41.3M/41.3M [00:00<00:00, 46.0MB/s]\n"
          ]
        }
      ],
      "source": [
        "! pip install kaggle\n",
        "! mkdir ~/.kaggle\n",
        "! cp /content/grdrive/MyDrive/kaggle.json ~/.kaggle/kaggle.json\n",
        "! chmod 600 ~/.kaggle/kaggle.json\n",
        "!kaggle competitions download -c cat-in-the-dat-ii"
      ]
    },
    {
      "cell_type": "code",
      "execution_count": null,
      "metadata": {
        "colab": {
          "base_uri": "https://localhost:8080/"
        },
        "id": "-twyRHEaHtPH",
        "outputId": "8b8ed279-3621-43b4-fe85-5f2a37b47a93"
      },
      "outputs": [
        {
          "name": "stdout",
          "output_type": "stream",
          "text": [
            "Archive:  cat-in-the-dat-ii.zip\n",
            "  inflating: sample_submission.csv   \n",
            "  inflating: test.csv                \n",
            "  inflating: train.csv               \n"
          ]
        }
      ],
      "source": [
        "!unzip cat-in-the-dat-ii.zip"
      ]
    },
    {
      "cell_type": "code",
      "execution_count": null,
      "metadata": {
        "colab": {
          "base_uri": "https://localhost:8080/",
          "height": 334
        },
        "id": "EVsRI8EfJzbM",
        "outputId": "ffcfd125-9ac7-4abf-b78c-d65a9f1c886b"
      },
      "outputs": [
        {
          "data": {
            "text/html": [
              "\n",
              "  <div id=\"df-6a5586a0-9055-42ea-90db-bd936280a998\">\n",
              "    <div class=\"colab-df-container\">\n",
              "      <div>\n",
              "<style scoped>\n",
              "    .dataframe tbody tr th:only-of-type {\n",
              "        vertical-align: middle;\n",
              "    }\n",
              "\n",
              "    .dataframe tbody tr th {\n",
              "        vertical-align: top;\n",
              "    }\n",
              "\n",
              "    .dataframe thead th {\n",
              "        text-align: right;\n",
              "    }\n",
              "</style>\n",
              "<table border=\"1\" class=\"dataframe\">\n",
              "  <thead>\n",
              "    <tr style=\"text-align: right;\">\n",
              "      <th></th>\n",
              "      <th>id</th>\n",
              "      <th>bin_0</th>\n",
              "      <th>bin_1</th>\n",
              "      <th>bin_2</th>\n",
              "      <th>bin_3</th>\n",
              "      <th>bin_4</th>\n",
              "      <th>nom_0</th>\n",
              "      <th>nom_1</th>\n",
              "      <th>nom_2</th>\n",
              "      <th>nom_3</th>\n",
              "      <th>...</th>\n",
              "      <th>nom_9</th>\n",
              "      <th>ord_0</th>\n",
              "      <th>ord_1</th>\n",
              "      <th>ord_2</th>\n",
              "      <th>ord_3</th>\n",
              "      <th>ord_4</th>\n",
              "      <th>ord_5</th>\n",
              "      <th>day</th>\n",
              "      <th>month</th>\n",
              "      <th>target</th>\n",
              "    </tr>\n",
              "  </thead>\n",
              "  <tbody>\n",
              "    <tr>\n",
              "      <th>0</th>\n",
              "      <td>0</td>\n",
              "      <td>0.0</td>\n",
              "      <td>0.0</td>\n",
              "      <td>0.0</td>\n",
              "      <td>F</td>\n",
              "      <td>N</td>\n",
              "      <td>Red</td>\n",
              "      <td>Trapezoid</td>\n",
              "      <td>Hamster</td>\n",
              "      <td>Russia</td>\n",
              "      <td>...</td>\n",
              "      <td>02e7c8990</td>\n",
              "      <td>3.0</td>\n",
              "      <td>Contributor</td>\n",
              "      <td>Hot</td>\n",
              "      <td>c</td>\n",
              "      <td>U</td>\n",
              "      <td>Pw</td>\n",
              "      <td>6.0</td>\n",
              "      <td>3.0</td>\n",
              "      <td>0</td>\n",
              "    </tr>\n",
              "    <tr>\n",
              "      <th>1</th>\n",
              "      <td>1</td>\n",
              "      <td>1.0</td>\n",
              "      <td>1.0</td>\n",
              "      <td>0.0</td>\n",
              "      <td>F</td>\n",
              "      <td>Y</td>\n",
              "      <td>Red</td>\n",
              "      <td>Star</td>\n",
              "      <td>Axolotl</td>\n",
              "      <td>NaN</td>\n",
              "      <td>...</td>\n",
              "      <td>f37df64af</td>\n",
              "      <td>3.0</td>\n",
              "      <td>Grandmaster</td>\n",
              "      <td>Warm</td>\n",
              "      <td>e</td>\n",
              "      <td>X</td>\n",
              "      <td>pE</td>\n",
              "      <td>7.0</td>\n",
              "      <td>7.0</td>\n",
              "      <td>0</td>\n",
              "    </tr>\n",
              "    <tr>\n",
              "      <th>2</th>\n",
              "      <td>2</td>\n",
              "      <td>0.0</td>\n",
              "      <td>1.0</td>\n",
              "      <td>0.0</td>\n",
              "      <td>F</td>\n",
              "      <td>N</td>\n",
              "      <td>Red</td>\n",
              "      <td>NaN</td>\n",
              "      <td>Hamster</td>\n",
              "      <td>Canada</td>\n",
              "      <td>...</td>\n",
              "      <td>NaN</td>\n",
              "      <td>3.0</td>\n",
              "      <td>NaN</td>\n",
              "      <td>Freezing</td>\n",
              "      <td>n</td>\n",
              "      <td>P</td>\n",
              "      <td>eN</td>\n",
              "      <td>5.0</td>\n",
              "      <td>9.0</td>\n",
              "      <td>0</td>\n",
              "    </tr>\n",
              "    <tr>\n",
              "      <th>3</th>\n",
              "      <td>3</td>\n",
              "      <td>NaN</td>\n",
              "      <td>0.0</td>\n",
              "      <td>0.0</td>\n",
              "      <td>F</td>\n",
              "      <td>N</td>\n",
              "      <td>Red</td>\n",
              "      <td>Circle</td>\n",
              "      <td>Hamster</td>\n",
              "      <td>Finland</td>\n",
              "      <td>...</td>\n",
              "      <td>f9d456e57</td>\n",
              "      <td>1.0</td>\n",
              "      <td>Novice</td>\n",
              "      <td>Lava Hot</td>\n",
              "      <td>a</td>\n",
              "      <td>C</td>\n",
              "      <td>NaN</td>\n",
              "      <td>3.0</td>\n",
              "      <td>3.0</td>\n",
              "      <td>0</td>\n",
              "    </tr>\n",
              "    <tr>\n",
              "      <th>4</th>\n",
              "      <td>4</td>\n",
              "      <td>0.0</td>\n",
              "      <td>NaN</td>\n",
              "      <td>0.0</td>\n",
              "      <td>T</td>\n",
              "      <td>N</td>\n",
              "      <td>Red</td>\n",
              "      <td>Triangle</td>\n",
              "      <td>Hamster</td>\n",
              "      <td>Costa Rica</td>\n",
              "      <td>...</td>\n",
              "      <td>c5361037c</td>\n",
              "      <td>3.0</td>\n",
              "      <td>Grandmaster</td>\n",
              "      <td>Cold</td>\n",
              "      <td>h</td>\n",
              "      <td>C</td>\n",
              "      <td>OZ</td>\n",
              "      <td>5.0</td>\n",
              "      <td>12.0</td>\n",
              "      <td>0</td>\n",
              "    </tr>\n",
              "  </tbody>\n",
              "</table>\n",
              "<p>5 rows × 25 columns</p>\n",
              "</div>\n",
              "      <button class=\"colab-df-convert\" onclick=\"convertToInteractive('df-6a5586a0-9055-42ea-90db-bd936280a998')\"\n",
              "              title=\"Convert this dataframe to an interactive table.\"\n",
              "              style=\"display:none;\">\n",
              "        \n",
              "  <svg xmlns=\"http://www.w3.org/2000/svg\" height=\"24px\"viewBox=\"0 0 24 24\"\n",
              "       width=\"24px\">\n",
              "    <path d=\"M0 0h24v24H0V0z\" fill=\"none\"/>\n",
              "    <path d=\"M18.56 5.44l.94 2.06.94-2.06 2.06-.94-2.06-.94-.94-2.06-.94 2.06-2.06.94zm-11 1L8.5 8.5l.94-2.06 2.06-.94-2.06-.94L8.5 2.5l-.94 2.06-2.06.94zm10 10l.94 2.06.94-2.06 2.06-.94-2.06-.94-.94-2.06-.94 2.06-2.06.94z\"/><path d=\"M17.41 7.96l-1.37-1.37c-.4-.4-.92-.59-1.43-.59-.52 0-1.04.2-1.43.59L10.3 9.45l-7.72 7.72c-.78.78-.78 2.05 0 2.83L4 21.41c.39.39.9.59 1.41.59.51 0 1.02-.2 1.41-.59l7.78-7.78 2.81-2.81c.8-.78.8-2.07 0-2.86zM5.41 20L4 18.59l7.72-7.72 1.47 1.35L5.41 20z\"/>\n",
              "  </svg>\n",
              "      </button>\n",
              "      \n",
              "  <style>\n",
              "    .colab-df-container {\n",
              "      display:flex;\n",
              "      flex-wrap:wrap;\n",
              "      gap: 12px;\n",
              "    }\n",
              "\n",
              "    .colab-df-convert {\n",
              "      background-color: #E8F0FE;\n",
              "      border: none;\n",
              "      border-radius: 50%;\n",
              "      cursor: pointer;\n",
              "      display: none;\n",
              "      fill: #1967D2;\n",
              "      height: 32px;\n",
              "      padding: 0 0 0 0;\n",
              "      width: 32px;\n",
              "    }\n",
              "\n",
              "    .colab-df-convert:hover {\n",
              "      background-color: #E2EBFA;\n",
              "      box-shadow: 0px 1px 2px rgba(60, 64, 67, 0.3), 0px 1px 3px 1px rgba(60, 64, 67, 0.15);\n",
              "      fill: #174EA6;\n",
              "    }\n",
              "\n",
              "    [theme=dark] .colab-df-convert {\n",
              "      background-color: #3B4455;\n",
              "      fill: #D2E3FC;\n",
              "    }\n",
              "\n",
              "    [theme=dark] .colab-df-convert:hover {\n",
              "      background-color: #434B5C;\n",
              "      box-shadow: 0px 1px 3px 1px rgba(0, 0, 0, 0.15);\n",
              "      filter: drop-shadow(0px 1px 2px rgba(0, 0, 0, 0.3));\n",
              "      fill: #FFFFFF;\n",
              "    }\n",
              "  </style>\n",
              "\n",
              "      <script>\n",
              "        const buttonEl =\n",
              "          document.querySelector('#df-6a5586a0-9055-42ea-90db-bd936280a998 button.colab-df-convert');\n",
              "        buttonEl.style.display =\n",
              "          google.colab.kernel.accessAllowed ? 'block' : 'none';\n",
              "\n",
              "        async function convertToInteractive(key) {\n",
              "          const element = document.querySelector('#df-6a5586a0-9055-42ea-90db-bd936280a998');\n",
              "          const dataTable =\n",
              "            await google.colab.kernel.invokeFunction('convertToInteractive',\n",
              "                                                     [key], {});\n",
              "          if (!dataTable) return;\n",
              "\n",
              "          const docLinkHtml = 'Like what you see? Visit the ' +\n",
              "            '<a target=\"_blank\" href=https://colab.research.google.com/notebooks/data_table.ipynb>data table notebook</a>'\n",
              "            + ' to learn more about interactive tables.';\n",
              "          element.innerHTML = '';\n",
              "          dataTable['output_type'] = 'display_data';\n",
              "          await google.colab.output.renderOutput(dataTable, element);\n",
              "          const docLink = document.createElement('div');\n",
              "          docLink.innerHTML = docLinkHtml;\n",
              "          element.appendChild(docLink);\n",
              "        }\n",
              "      </script>\n",
              "    </div>\n",
              "  </div>\n",
              "  "
            ],
            "text/plain": [
              "   id  bin_0  bin_1  bin_2 bin_3 bin_4 nom_0      nom_1    nom_2       nom_3  \\\n",
              "0   0    0.0    0.0    0.0     F     N   Red  Trapezoid  Hamster      Russia   \n",
              "1   1    1.0    1.0    0.0     F     Y   Red       Star  Axolotl         NaN   \n",
              "2   2    0.0    1.0    0.0     F     N   Red        NaN  Hamster      Canada   \n",
              "3   3    NaN    0.0    0.0     F     N   Red     Circle  Hamster     Finland   \n",
              "4   4    0.0    NaN    0.0     T     N   Red   Triangle  Hamster  Costa Rica   \n",
              "\n",
              "   ...      nom_9 ord_0        ord_1     ord_2 ord_3 ord_4  ord_5  day month  \\\n",
              "0  ...  02e7c8990   3.0  Contributor       Hot     c     U     Pw  6.0   3.0   \n",
              "1  ...  f37df64af   3.0  Grandmaster      Warm     e     X     pE  7.0   7.0   \n",
              "2  ...        NaN   3.0          NaN  Freezing     n     P     eN  5.0   9.0   \n",
              "3  ...  f9d456e57   1.0       Novice  Lava Hot     a     C    NaN  3.0   3.0   \n",
              "4  ...  c5361037c   3.0  Grandmaster      Cold     h     C     OZ  5.0  12.0   \n",
              "\n",
              "  target  \n",
              "0      0  \n",
              "1      0  \n",
              "2      0  \n",
              "3      0  \n",
              "4      0  \n",
              "\n",
              "[5 rows x 25 columns]"
            ]
          },
          "execution_count": 5,
          "metadata": {},
          "output_type": "execute_result"
        }
      ],
      "source": [
        "df_cat = pd.read_csv('/content/train.csv')\n",
        "df_cat.head()"
      ]
    },
    {
      "cell_type": "code",
      "execution_count": null,
      "metadata": {
        "colab": {
          "base_uri": "https://localhost:8080/",
          "height": 305
        },
        "id": "drMiFDGjKdsj",
        "outputId": "3e544d9d-00f9-42c0-cf88-5c114f586b2e"
      },
      "outputs": [
        {
          "data": {
            "text/plain": [
              "Text(0, 0.5, 'count')"
            ]
          },
          "execution_count": 11,
          "metadata": {},
          "output_type": "execute_result"
        },
        {
          "data": {
            "image/png": "[encoded data removed]",
            "text/plain": [
              "<Figure size 432x288 with 1 Axes>"
            ]
          },
          "metadata": {
            "needs_background": "light"
          },
          "output_type": "display_data"
        }
      ],
      "source": [
        "c = sns.countplot(x='target', data=df_cat)\n",
        "c.set_xlabel('label', fontsize=20)\n",
        "c.set_ylabel('count', fontsize=20)"
      ]
    },
    {
      "cell_type": "markdown",
      "metadata": {
        "id": "EsEMSqyWMvNo"
      },
      "source": [
        "###Label Encoding"
      ]
    },
    {
      "cell_type": "code",
      "execution_count": null,
      "metadata": {
        "id": "nZUt1Bn0LE0o"
      },
      "outputs": [],
      "source": [
        "mapping = {\n",
        "    'Freezing' : 0,\n",
        "    'Warm' : 1,\n",
        "    'Cold' : 2,\n",
        "    'Boiling Hot': 3,\n",
        "    'Hot' : 4,\n",
        "    'Lava Hot' : 5\n",
        "}\n",
        "\n",
        "df_cat.loc[:, 'ord_2'] = df_cat.ord_2.map(mapping)"
      ]
    },
    {
      "cell_type": "code",
      "execution_count": null,
      "metadata": {
        "colab": {
          "base_uri": "https://localhost:8080/"
        },
        "id": "sBPSD9jdLiLi",
        "outputId": "c7899e43-0f1a-435e-bf2b-80453c6ca864"
      },
      "outputs": [
        {
          "data": {
            "text/plain": [
              "0.0    142726\n",
              "1.0    124239\n",
              "2.0     97822\n",
              "3.0     84790\n",
              "4.0     67508\n",
              "5.0     64840\n",
              "Name: ord_2, dtype: int64"
            ]
          },
          "execution_count": 16,
          "metadata": {},
          "output_type": "execute_result"
        }
      ],
      "source": [
        "df_cat.ord_2.value_counts()"
      ]
    },
    {
      "cell_type": "code",
      "execution_count": null,
      "metadata": {
        "id": "N_tpcpmEM6CL"
      },
      "outputs": [],
      "source": [
        "from sklearn import preprocessing\n",
        "\n",
        "#fill NaN values in ord_2 column\n",
        "df_cat.loc[:, 'ord_2'] = df_cat.ord_2.fillna('NONE')\n",
        "\n",
        "#initilize LabelEncoder()\n",
        "lbl_enc = preprocessing.LabelEncoder()\n",
        "\n",
        "#fit label encoder and transform values in ord_2 column\n",
        "#do not use this directly, fit first, then transform\n",
        "df_cat.loc[:, \"ord_2\"] = lbl_enc.fit_transform(df_cat.ord_2.values)"
      ]
    },
    {
      "cell_type": "code",
      "execution_count": null,
      "metadata": {
        "colab": {
          "base_uri": "https://localhost:8080/"
        },
        "id": "P6NSARBYPGlH",
        "outputId": "c5b475b4-8d86-4a6c-bd2b-04ea6789972e"
      },
      "outputs": [
        {
          "name": "stdout",
          "output_type": "stream",
          "text": [
            "72\n",
            "32\n",
            "64\n"
          ]
        }
      ],
      "source": [
        "#create our example feature matrix\n",
        "example = np.array(\n",
        "    [ \n",
        "      [0, 0, 1],\n",
        "      [1, 0, 0],\n",
        "      [1, 0, 1]\n",
        "    ]\n",
        ")\n",
        "\n",
        "#print size in bytes\n",
        "print(example.nbytes)\n",
        "\n",
        "#convert numpy array to sparse CSR matrix\n",
        "sparse_example = sparse.csr_matrix(example)\n",
        "\n",
        "print(sparse_example.data.nbytes)\n",
        "\n",
        "#print size of this sparse matrix\n",
        "print(sparse_example.data.nbytes +\n",
        "      sparse_example.indptr.nbytes +\n",
        "      sparse_example.indices.nbytes\n",
        ")\n"
      ]
    },
    {
      "cell_type": "code",
      "execution_count": null,
      "metadata": {
        "colab": {
          "base_uri": "https://localhost:8080/"
        },
        "id": "1AB2DExBQ_cX",
        "outputId": "833ae7b0-e5f3-485a-a63b-3bda9690cb6b"
      },
      "outputs": [
        {
          "name": "stdout",
          "output_type": "stream",
          "text": [
            "Size of dense array: 800000000\n",
            "Size of sparse array: 40019024\n",
            "Full size of sparse array: 60068540\n"
          ]
        }
      ],
      "source": [
        "#number of rows\n",
        "n_rows = 10000\n",
        "\n",
        "#number of columns\n",
        "n_cols = 10000\n",
        "\n",
        "#create random binary matrix with only %5 values as 1s\n",
        "example = np.random.binomial(1, p=0.05, size=(n_rows, n_cols))\n",
        "\n",
        "#print size in bytes\n",
        "print(f'Size of dense array: {example.nbytes}')\n",
        "\n",
        "#convert numpy array to sparce CRS matrx\n",
        "sparse_example = sparse.csr_matrix(example)\n",
        "\n",
        "#print size of this sparse matrix\n",
        "print(f'Size of sparse array: {sparse_example.data.nbytes}')\n",
        "\n",
        "full_size = (sparse_example.data.nbytes +\n",
        "      sparse_example.indptr.nbytes +\n",
        "      sparse_example.indices.nbytes\n",
        ")\n",
        "\n",
        "#print full size of this sparse matrix\n",
        "print(f'Full size of sparse array: {full_size}')"
      ]
    },
    {
      "cell_type": "markdown",
      "metadata": {
        "id": "_FlStHxQazFS"
      },
      "source": [
        "####One Hot Encoding\n",
        "**One Hot Encoding** is a binary encoding in the sense that there are only two values, 0s and 1s. However, it must be noted that **it's not a binary representation**."
      ]
    },
    {
      "cell_type": "code",
      "execution_count": null,
      "metadata": {
        "colab": {
          "base_uri": "https://localhost:8080/"
        },
        "id": "RvJwyz3ma1R_",
        "outputId": "dc8b641c-73d4-4b5f-df84-6c8a5ee07fd1"
      },
      "outputs": [
        {
          "name": "stdout",
          "output_type": "stream",
          "text": [
            "Size of dense array: 144\n",
            "Size of sparse array: 24\n",
            "Full size of sparse array: 52\n"
          ]
        }
      ],
      "source": [
        "#create binary matrix\n",
        "example = np.array(\n",
        "    [\n",
        "        [0, 0, 0, 0, 1, 0],\n",
        "        [0, 1, 0, 0, 0, 0],\n",
        "        [1, 0, 0, 0, 0, 0]\n",
        "    ]\n",
        ")\n",
        "\n",
        "# print size in bytes\n",
        "print(f\"Size of dense array: {example.nbytes}\")\n",
        "\n",
        "# convert numpy array to sparse CSR matrix\n",
        "sparse_example = sparse.csr_matrix(example)\n",
        "\n",
        "# print size of this sparse matrix\n",
        "print(f\"Size of sparse array: {sparse_example.data.nbytes}\")\n",
        "\n",
        "full_size = (\n",
        "    sparse_example.data.nbytes +\n",
        "    sparse_example.indptr.nbytes +\n",
        "    sparse_example.indices.nbytes\n",
        ")\n",
        "\n",
        "# print full size of this sparse matrix\n",
        "print(f\"Full size of sparse array: {full_size}\")"
      ]
    },
    {
      "cell_type": "code",
      "execution_count": null,
      "metadata": {
        "colab": {
          "base_uri": "https://localhost:8080/"
        },
        "id": "WuNHx1b-zRUC",
        "outputId": "c33c12eb-0e9c-4b66-c4bf-f24a2a6b289b"
      },
      "outputs": [
        {
          "name": "stdout",
          "output_type": "stream",
          "text": [
            "Size of dense array: 8000000000\n",
            "Size of sparse array: 8000000\n",
            "Full size of Sparse array: 16000004\n"
          ]
        }
      ],
      "source": [
        "#create random 1-d array with 1001 different categories(int)\n",
        "example = np.random.randint(1000, size=1000000)\n",
        "\n",
        "#initialize OneHotEncoder from scikit-learn\n",
        "#keep sparse = False to get dense array\n",
        "ohe = preprocessing.OneHotEncoder(sparse=False)\n",
        "\n",
        "#fit and transform data with dense one hot encoder\n",
        "ohe_example = ohe.fit_transform(example.reshape(-1, 1))\n",
        "\n",
        "#print size in bytes for dense array\n",
        "print(f'Size of dense array: {ohe_example.nbytes}')\n",
        "\n",
        "#initialize OneHotEncoder from scikit-learn. Keep sparse = True to get sparse array\n",
        "ohe = preprocessing.OneHotEncoder(sparse=True)\n",
        "\n",
        "#fit and transform data with sparce one-hot encoder\n",
        "ohe_example = ohe.fit_transform(example.reshape(-1, 1))\n",
        "\n",
        "#print size of this sparce matrix\n",
        "print(f'Size of sparse array: {ohe_example.data.nbytes}')\n",
        "\n",
        "full_size = (ohe_example.data.nbytes + ohe_example.indptr.nbytes +\n",
        "             ohe_example.indices.nbytes\n",
        "            )\n",
        "#print full size of this sparse matrix\n",
        "print(f'Full size of Sparse array: {full_size}')"
      ]
    },
    {
      "cell_type": "code",
      "execution_count": null,
      "metadata": {
        "colab": {
          "base_uri": "https://localhost:8080/"
        },
        "id": "gm76DYOuzHVY",
        "outputId": "1fa2cef9-c9f4-4a01-b138-66b5135a210f"
      },
      "outputs": [
        {
          "data": {
            "text/plain": [
              "(84790, 25)"
            ]
          },
          "execution_count": 12,
          "metadata": {},
          "output_type": "execute_result"
        }
      ],
      "source": [
        "df_cat[df_cat.ord_2 == 'Boiling Hot'].shape"
      ]
    },
    {
      "cell_type": "code",
      "execution_count": null,
      "metadata": {
        "colab": {
          "base_uri": "https://localhost:8080/"
        },
        "id": "h45erv9n37cw",
        "outputId": "11563888-acb7-4f48-8491-035e212d992a"
      },
      "outputs": [
        {
          "data": {
            "text/plain": [
              "ord_2\n",
              "Boiling Hot     84790\n",
              "Cold            97822\n",
              "Freezing       142726\n",
              "Hot             67508\n",
              "Lava Hot        64840\n",
              "Warm           124239\n",
              "Name: id, dtype: int64"
            ]
          },
          "execution_count": 13,
          "metadata": {},
          "output_type": "execute_result"
        }
      ],
      "source": [
        "df_cat.groupby(['ord_2'])['id'].count()"
      ]
    },
    {
      "cell_type": "code",
      "execution_count": null,
      "metadata": {
        "colab": {
          "base_uri": "https://localhost:8080/"
        },
        "id": "p-xqmNks_6yX",
        "outputId": "61035be9-306b-4d6f-ae63-34eb66172928"
      },
      "outputs": [
        {
          "data": {
            "text/plain": [
              "0          67508.0\n",
              "1         124239.0\n",
              "2         142726.0\n",
              "3          64840.0\n",
              "4          97822.0\n",
              "            ...   \n",
              "599995    142726.0\n",
              "599996     84790.0\n",
              "599997    142726.0\n",
              "599998    124239.0\n",
              "599999     84790.0\n",
              "Name: id, Length: 600000, dtype: float64"
            ]
          },
          "execution_count": 14,
          "metadata": {},
          "output_type": "execute_result"
        }
      ],
      "source": [
        "df_cat.groupby(['ord_2'])['id'].transform('count')"
      ]
    },
    {
      "cell_type": "code",
      "execution_count": null,
      "metadata": {
        "colab": {
          "base_uri": "https://localhost:8080/",
          "height": 990
        },
        "id": "KCx5fGetAYNd",
        "outputId": "65def3e3-e32f-4315-bcd6-26daa04b0a0e"
      },
      "outputs": [
        {
          "data": {
            "text/html": [
              "\n",
              "  <div id=\"df-516302c4-a6dd-4827-9734-9b9ed6f91d34\">\n",
              "    <div class=\"colab-df-container\">\n",
              "      <div>\n",
              "<style scoped>\n",
              "    .dataframe tbody tr th:only-of-type {\n",
              "        vertical-align: middle;\n",
              "    }\n",
              "\n",
              "    .dataframe tbody tr th {\n",
              "        vertical-align: top;\n",
              "    }\n",
              "\n",
              "    .dataframe thead th {\n",
              "        text-align: right;\n",
              "    }\n",
              "</style>\n",
              "<table border=\"1\" class=\"dataframe\">\n",
              "  <thead>\n",
              "    <tr style=\"text-align: right;\">\n",
              "      <th></th>\n",
              "      <th>ord_1</th>\n",
              "      <th>ord_2</th>\n",
              "      <th>count</th>\n",
              "    </tr>\n",
              "  </thead>\n",
              "  <tbody>\n",
              "    <tr>\n",
              "      <th>0</th>\n",
              "      <td>Contributor</td>\n",
              "      <td>Boiling Hot</td>\n",
              "      <td>15634</td>\n",
              "    </tr>\n",
              "    <tr>\n",
              "      <th>1</th>\n",
              "      <td>Contributor</td>\n",
              "      <td>Cold</td>\n",
              "      <td>17734</td>\n",
              "    </tr>\n",
              "    <tr>\n",
              "      <th>2</th>\n",
              "      <td>Contributor</td>\n",
              "      <td>Freezing</td>\n",
              "      <td>26082</td>\n",
              "    </tr>\n",
              "    <tr>\n",
              "      <th>3</th>\n",
              "      <td>Contributor</td>\n",
              "      <td>Hot</td>\n",
              "      <td>12428</td>\n",
              "    </tr>\n",
              "    <tr>\n",
              "      <th>4</th>\n",
              "      <td>Contributor</td>\n",
              "      <td>Lava Hot</td>\n",
              "      <td>11919</td>\n",
              "    </tr>\n",
              "    <tr>\n",
              "      <th>5</th>\n",
              "      <td>Contributor</td>\n",
              "      <td>Warm</td>\n",
              "      <td>22774</td>\n",
              "    </tr>\n",
              "    <tr>\n",
              "      <th>6</th>\n",
              "      <td>Expert</td>\n",
              "      <td>Boiling Hot</td>\n",
              "      <td>19477</td>\n",
              "    </tr>\n",
              "    <tr>\n",
              "      <th>7</th>\n",
              "      <td>Expert</td>\n",
              "      <td>Cold</td>\n",
              "      <td>22956</td>\n",
              "    </tr>\n",
              "    <tr>\n",
              "      <th>8</th>\n",
              "      <td>Expert</td>\n",
              "      <td>Freezing</td>\n",
              "      <td>33249</td>\n",
              "    </tr>\n",
              "    <tr>\n",
              "      <th>9</th>\n",
              "      <td>Expert</td>\n",
              "      <td>Hot</td>\n",
              "      <td>15792</td>\n",
              "    </tr>\n",
              "    <tr>\n",
              "      <th>10</th>\n",
              "      <td>Expert</td>\n",
              "      <td>Lava Hot</td>\n",
              "      <td>15078</td>\n",
              "    </tr>\n",
              "    <tr>\n",
              "      <th>11</th>\n",
              "      <td>Expert</td>\n",
              "      <td>Warm</td>\n",
              "      <td>28900</td>\n",
              "    </tr>\n",
              "    <tr>\n",
              "      <th>12</th>\n",
              "      <td>Grandmaster</td>\n",
              "      <td>Boiling Hot</td>\n",
              "      <td>13623</td>\n",
              "    </tr>\n",
              "    <tr>\n",
              "      <th>13</th>\n",
              "      <td>Grandmaster</td>\n",
              "      <td>Cold</td>\n",
              "      <td>15464</td>\n",
              "    </tr>\n",
              "    <tr>\n",
              "      <th>14</th>\n",
              "      <td>Grandmaster</td>\n",
              "      <td>Freezing</td>\n",
              "      <td>22818</td>\n",
              "    </tr>\n",
              "    <tr>\n",
              "      <th>15</th>\n",
              "      <td>Grandmaster</td>\n",
              "      <td>Hot</td>\n",
              "      <td>10805</td>\n",
              "    </tr>\n",
              "    <tr>\n",
              "      <th>16</th>\n",
              "      <td>Grandmaster</td>\n",
              "      <td>Lava Hot</td>\n",
              "      <td>10363</td>\n",
              "    </tr>\n",
              "    <tr>\n",
              "      <th>17</th>\n",
              "      <td>Grandmaster</td>\n",
              "      <td>Warm</td>\n",
              "      <td>19899</td>\n",
              "    </tr>\n",
              "    <tr>\n",
              "      <th>18</th>\n",
              "      <td>Master</td>\n",
              "      <td>Boiling Hot</td>\n",
              "      <td>10800</td>\n",
              "    </tr>\n",
              "    <tr>\n",
              "      <th>19</th>\n",
              "      <td>Master</td>\n",
              "      <td>Cold</td>\n",
              "      <td>12364</td>\n",
              "    </tr>\n",
              "    <tr>\n",
              "      <th>20</th>\n",
              "      <td>Master</td>\n",
              "      <td>Freezing</td>\n",
              "      <td>18035</td>\n",
              "    </tr>\n",
              "    <tr>\n",
              "      <th>21</th>\n",
              "      <td>Master</td>\n",
              "      <td>Hot</td>\n",
              "      <td>8594</td>\n",
              "    </tr>\n",
              "    <tr>\n",
              "      <th>22</th>\n",
              "      <td>Master</td>\n",
              "      <td>Lava Hot</td>\n",
              "      <td>8209</td>\n",
              "    </tr>\n",
              "    <tr>\n",
              "      <th>23</th>\n",
              "      <td>Master</td>\n",
              "      <td>Warm</td>\n",
              "      <td>15734</td>\n",
              "    </tr>\n",
              "    <tr>\n",
              "      <th>24</th>\n",
              "      <td>Novice</td>\n",
              "      <td>Boiling Hot</td>\n",
              "      <td>22718</td>\n",
              "    </tr>\n",
              "    <tr>\n",
              "      <th>25</th>\n",
              "      <td>Novice</td>\n",
              "      <td>Cold</td>\n",
              "      <td>26271</td>\n",
              "    </tr>\n",
              "    <tr>\n",
              "      <th>26</th>\n",
              "      <td>Novice</td>\n",
              "      <td>Freezing</td>\n",
              "      <td>38233</td>\n",
              "    </tr>\n",
              "    <tr>\n",
              "      <th>27</th>\n",
              "      <td>Novice</td>\n",
              "      <td>Hot</td>\n",
              "      <td>17850</td>\n",
              "    </tr>\n",
              "    <tr>\n",
              "      <th>28</th>\n",
              "      <td>Novice</td>\n",
              "      <td>Lava Hot</td>\n",
              "      <td>17373</td>\n",
              "    </tr>\n",
              "    <tr>\n",
              "      <th>29</th>\n",
              "      <td>Novice</td>\n",
              "      <td>Warm</td>\n",
              "      <td>33263</td>\n",
              "    </tr>\n",
              "  </tbody>\n",
              "</table>\n",
              "</div>\n",
              "      <button class=\"colab-df-convert\" onclick=\"convertToInteractive('df-516302c4-a6dd-4827-9734-9b9ed6f91d34')\"\n",
              "              title=\"Convert this dataframe to an interactive table.\"\n",
              "              style=\"display:none;\">\n",
              "        \n",
              "  <svg xmlns=\"http://www.w3.org/2000/svg\" height=\"24px\"viewBox=\"0 0 24 24\"\n",
              "       width=\"24px\">\n",
              "    <path d=\"M0 0h24v24H0V0z\" fill=\"none\"/>\n",
              "    <path d=\"M18.56 5.44l.94 2.06.94-2.06 2.06-.94-2.06-.94-.94-2.06-.94 2.06-2.06.94zm-11 1L8.5 8.5l.94-2.06 2.06-.94-2.06-.94L8.5 2.5l-.94 2.06-2.06.94zm10 10l.94 2.06.94-2.06 2.06-.94-2.06-.94-.94-2.06-.94 2.06-2.06.94z\"/><path d=\"M17.41 7.96l-1.37-1.37c-.4-.4-.92-.59-1.43-.59-.52 0-1.04.2-1.43.59L10.3 9.45l-7.72 7.72c-.78.78-.78 2.05 0 2.83L4 21.41c.39.39.9.59 1.41.59.51 0 1.02-.2 1.41-.59l7.78-7.78 2.81-2.81c.8-.78.8-2.07 0-2.86zM5.41 20L4 18.59l7.72-7.72 1.47 1.35L5.41 20z\"/>\n",
              "  </svg>\n",
              "      </button>\n",
              "      \n",
              "  <style>\n",
              "    .colab-df-container {\n",
              "      display:flex;\n",
              "      flex-wrap:wrap;\n",
              "      gap: 12px;\n",
              "    }\n",
              "\n",
              "    .colab-df-convert {\n",
              "      background-color: #E8F0FE;\n",
              "      border: none;\n",
              "      border-radius: 50%;\n",
              "      cursor: pointer;\n",
              "      display: none;\n",
              "      fill: #1967D2;\n",
              "      height: 32px;\n",
              "      padding: 0 0 0 0;\n",
              "      width: 32px;\n",
              "    }\n",
              "\n",
              "    .colab-df-convert:hover {\n",
              "      background-color: #E2EBFA;\n",
              "      box-shadow: 0px 1px 2px rgba(60, 64, 67, 0.3), 0px 1px 3px 1px rgba(60, 64, 67, 0.15);\n",
              "      fill: #174EA6;\n",
              "    }\n",
              "\n",
              "    [theme=dark] .colab-df-convert {\n",
              "      background-color: #3B4455;\n",
              "      fill: #D2E3FC;\n",
              "    }\n",
              "\n",
              "    [theme=dark] .colab-df-convert:hover {\n",
              "      background-color: #434B5C;\n",
              "      box-shadow: 0px 1px 3px 1px rgba(0, 0, 0, 0.15);\n",
              "      filter: drop-shadow(0px 1px 2px rgba(0, 0, 0, 0.3));\n",
              "      fill: #FFFFFF;\n",
              "    }\n",
              "  </style>\n",
              "\n",
              "      <script>\n",
              "        const buttonEl =\n",
              "          document.querySelector('#df-516302c4-a6dd-4827-9734-9b9ed6f91d34 button.colab-df-convert');\n",
              "        buttonEl.style.display =\n",
              "          google.colab.kernel.accessAllowed ? 'block' : 'none';\n",
              "\n",
              "        async function convertToInteractive(key) {\n",
              "          const element = document.querySelector('#df-516302c4-a6dd-4827-9734-9b9ed6f91d34');\n",
              "          const dataTable =\n",
              "            await google.colab.kernel.invokeFunction('convertToInteractive',\n",
              "                                                     [key], {});\n",
              "          if (!dataTable) return;\n",
              "\n",
              "          const docLinkHtml = 'Like what you see? Visit the ' +\n",
              "            '<a target=\"_blank\" href=https://colab.research.google.com/notebooks/data_table.ipynb>data table notebook</a>'\n",
              "            + ' to learn more about interactive tables.';\n",
              "          element.innerHTML = '';\n",
              "          dataTable['output_type'] = 'display_data';\n",
              "          await google.colab.output.renderOutput(dataTable, element);\n",
              "          const docLink = document.createElement('div');\n",
              "          docLink.innerHTML = docLinkHtml;\n",
              "          element.appendChild(docLink);\n",
              "        }\n",
              "      </script>\n",
              "    </div>\n",
              "  </div>\n",
              "  "
            ],
            "text/plain": [
              "          ord_1        ord_2  count\n",
              "0   Contributor  Boiling Hot  15634\n",
              "1   Contributor         Cold  17734\n",
              "2   Contributor     Freezing  26082\n",
              "3   Contributor          Hot  12428\n",
              "4   Contributor     Lava Hot  11919\n",
              "5   Contributor         Warm  22774\n",
              "6        Expert  Boiling Hot  19477\n",
              "7        Expert         Cold  22956\n",
              "8        Expert     Freezing  33249\n",
              "9        Expert          Hot  15792\n",
              "10       Expert     Lava Hot  15078\n",
              "11       Expert         Warm  28900\n",
              "12  Grandmaster  Boiling Hot  13623\n",
              "13  Grandmaster         Cold  15464\n",
              "14  Grandmaster     Freezing  22818\n",
              "15  Grandmaster          Hot  10805\n",
              "16  Grandmaster     Lava Hot  10363\n",
              "17  Grandmaster         Warm  19899\n",
              "18       Master  Boiling Hot  10800\n",
              "19       Master         Cold  12364\n",
              "20       Master     Freezing  18035\n",
              "21       Master          Hot   8594\n",
              "22       Master     Lava Hot   8209\n",
              "23       Master         Warm  15734\n",
              "24       Novice  Boiling Hot  22718\n",
              "25       Novice         Cold  26271\n",
              "26       Novice     Freezing  38233\n",
              "27       Novice          Hot  17850\n",
              "28       Novice     Lava Hot  17373\n",
              "29       Novice         Warm  33263"
            ]
          },
          "execution_count": 16,
          "metadata": {},
          "output_type": "execute_result"
        }
      ],
      "source": [
        "df_cat.groupby(['ord_1', 'ord_2'])['id'].count().reset_index(name='count')"
      ]
    },
    {
      "cell_type": "code",
      "execution_count": null,
      "metadata": {
        "colab": {
          "base_uri": "https://localhost:8080/"
        },
        "id": "USZykpMfBU5S",
        "outputId": "b4211356-585c-4c11-9965-35d6a3a3911c"
      },
      "outputs": [
        {
          "data": {
            "text/plain": [
              "0                 Contributor_Hot\n",
              "1                Grandmaster_Warm\n",
              "2                    nan_Freezing\n",
              "3                 Novice_Lava Hot\n",
              "4                Grandmaster_Cold\n",
              "                   ...           \n",
              "599995            Novice_Freezing\n",
              "599996         Novice_Boiling Hot\n",
              "599997       Contributor_Freezing\n",
              "599998                Master_Warm\n",
              "599999    Contributor_Boiling Hot\n",
              "Name: new_feature, Length: 600000, dtype: object"
            ]
          },
          "execution_count": 17,
          "metadata": {},
          "output_type": "execute_result"
        }
      ],
      "source": [
        "df_cat['new_feature'] = (df_cat.ord_1.astype(str) + '_' + df_cat.ord_2.astype(str))\n",
        "df_cat.new_feature"
      ]
    },
    {
      "cell_type": "code",
      "execution_count": null,
      "metadata": {
        "colab": {
          "base_uri": "https://localhost:8080/"
        },
        "id": "hNaX1TnECfjF",
        "outputId": "1fa20f14-8a40-400a-b0f8-896f17387ead"
      },
      "outputs": [
        {
          "data": {
            "text/plain": [
              "0                 Contributor_Hot_c\n",
              "1                Grandmaster_Warm_e\n",
              "2                    nan_Freezing_n\n",
              "3                 Novice_Lava Hot_a\n",
              "4                Grandmaster_Cold_h\n",
              "                    ...            \n",
              "599995            Novice_Freezing_a\n",
              "599996         Novice_Boiling Hot_n\n",
              "599997       Contributor_Freezing_n\n",
              "599998                Master_Warm_m\n",
              "599999    Contributor_Boiling Hot_b\n",
              "Name: new_feature, Length: 600000, dtype: object"
            ]
          },
          "execution_count": 19,
          "metadata": {},
          "output_type": "execute_result"
        }
      ],
      "source": [
        "df_cat['new_feature'] = (df_cat.ord_1.astype(str) + '_' +\n",
        "                     df_cat.ord_2.astype(str) + '_' +\n",
        "                     df_cat.ord_3.astype(str))\n",
        "df_cat.new_feature"
      ]
    },
    {
      "cell_type": "markdown",
      "metadata": {
        "id": "T9FCwolZCxuv"
      },
      "source": [
        "Whenever you get categorical variables, follow these simple steps:\n",
        "* fill the NaN values (this is very important!)\n",
        "* convert them to integers by applying label encoding using LabelEncoder of scikit-learn or by using a mapping dictionary;\n",
        "* create one-hot encoding;\n",
        "* go for modelling."
      ]
    },
    {
      "cell_type": "code",
      "execution_count": null,
      "metadata": {
        "colab": {
          "base_uri": "https://localhost:8080/"
        },
        "id": "tKBkTRRmEKL2",
        "outputId": "223d42ea-4fd9-4fc4-8f17-badff0cf2d15"
      },
      "outputs": [
        {
          "data": {
            "text/plain": [
              "Freezing       142726\n",
              "Warm           124239\n",
              "Cold            97822\n",
              "Boiling Hot     84790\n",
              "Hot             67508\n",
              "Lava Hot        64840\n",
              "Name: ord_2, dtype: int64"
            ]
          },
          "execution_count": 21,
          "metadata": {},
          "output_type": "execute_result"
        }
      ],
      "source": [
        "df_cat.ord_2.value_counts()"
      ]
    },
    {
      "cell_type": "code",
      "execution_count": null,
      "metadata": {
        "colab": {
          "base_uri": "https://localhost:8080/"
        },
        "id": "Hm-1qycnEpCQ",
        "outputId": "d4b8f694-2cab-4b38-913a-8ceb3156b157"
      },
      "outputs": [
        {
          "data": {
            "text/plain": [
              "Freezing       142726\n",
              "Warm           124239\n",
              "Cold            97822\n",
              "Boiling Hot     84790\n",
              "Hot             67508\n",
              "Lava Hot        64840\n",
              "NONE            18075\n",
              "Name: ord_2, dtype: int64"
            ]
          },
          "execution_count": 22,
          "metadata": {},
          "output_type": "execute_result"
        }
      ],
      "source": [
        "df_cat.ord_2.fillna('NONE'). value_counts()"
      ]
    },
    {
      "cell_type": "code",
      "execution_count": 6,
      "metadata": {
        "id": "MY1b8m9kGjEj"
      },
      "outputs": [
        {
          "name": "stderr",
          "output_type": "stream",
          "text": [
            "C:\\Users\\rafel\\AppData\\Local\\Temp\\ipykernel_14288\\339629752.py:29: FutureWarning: In a future version, `df.iloc[:, i] = newvals` will attempt to set the values inplace instead of always setting a new array. To retain the old behavior, use either `df[df.columns[i]] = newvals` or, if columns are non-unique, `df.isetitem(i, newvals)`\n",
            "  data.loc[:, feat] = lbl_enc.fit_transform(temp_col)\n",
            "C:\\Users\\rafel\\AppData\\Local\\Temp\\ipykernel_14288\\339629752.py:29: FutureWarning: In a future version, `df.iloc[:, i] = newvals` will attempt to set the values inplace instead of always setting a new array. To retain the old behavior, use either `df[df.columns[i]] = newvals` or, if columns are non-unique, `df.isetitem(i, newvals)`\n",
            "  data.loc[:, feat] = lbl_enc.fit_transform(temp_col)\n",
            "C:\\Users\\rafel\\AppData\\Local\\Temp\\ipykernel_14288\\339629752.py:29: FutureWarning: In a future version, `df.iloc[:, i] = newvals` will attempt to set the values inplace instead of always setting a new array. To retain the old behavior, use either `df[df.columns[i]] = newvals` or, if columns are non-unique, `df.isetitem(i, newvals)`\n",
            "  data.loc[:, feat] = lbl_enc.fit_transform(temp_col)\n",
            "C:\\Users\\rafel\\AppData\\Local\\Temp\\ipykernel_14288\\339629752.py:29: FutureWarning: In a future version, `df.iloc[:, i] = newvals` will attempt to set the values inplace instead of always setting a new array. To retain the old behavior, use either `df[df.columns[i]] = newvals` or, if columns are non-unique, `df.isetitem(i, newvals)`\n",
            "  data.loc[:, feat] = lbl_enc.fit_transform(temp_col)\n",
            "C:\\Users\\rafel\\AppData\\Local\\Temp\\ipykernel_14288\\339629752.py:29: FutureWarning: In a future version, `df.iloc[:, i] = newvals` will attempt to set the values inplace instead of always setting a new array. To retain the old behavior, use either `df[df.columns[i]] = newvals` or, if columns are non-unique, `df.isetitem(i, newvals)`\n",
            "  data.loc[:, feat] = lbl_enc.fit_transform(temp_col)\n",
            "C:\\Users\\rafel\\AppData\\Local\\Temp\\ipykernel_14288\\339629752.py:29: FutureWarning: In a future version, `df.iloc[:, i] = newvals` will attempt to set the values inplace instead of always setting a new array. To retain the old behavior, use either `df[df.columns[i]] = newvals` or, if columns are non-unique, `df.isetitem(i, newvals)`\n",
            "  data.loc[:, feat] = lbl_enc.fit_transform(temp_col)\n",
            "C:\\Users\\rafel\\AppData\\Local\\Temp\\ipykernel_14288\\339629752.py:29: FutureWarning: In a future version, `df.iloc[:, i] = newvals` will attempt to set the values inplace instead of always setting a new array. To retain the old behavior, use either `df[df.columns[i]] = newvals` or, if columns are non-unique, `df.isetitem(i, newvals)`\n",
            "  data.loc[:, feat] = lbl_enc.fit_transform(temp_col)\n",
            "C:\\Users\\rafel\\AppData\\Local\\Temp\\ipykernel_14288\\339629752.py:29: FutureWarning: In a future version, `df.iloc[:, i] = newvals` will attempt to set the values inplace instead of always setting a new array. To retain the old behavior, use either `df[df.columns[i]] = newvals` or, if columns are non-unique, `df.isetitem(i, newvals)`\n",
            "  data.loc[:, feat] = lbl_enc.fit_transform(temp_col)\n",
            "C:\\Users\\rafel\\AppData\\Local\\Temp\\ipykernel_14288\\339629752.py:29: FutureWarning: In a future version, `df.iloc[:, i] = newvals` will attempt to set the values inplace instead of always setting a new array. To retain the old behavior, use either `df[df.columns[i]] = newvals` or, if columns are non-unique, `df.isetitem(i, newvals)`\n",
            "  data.loc[:, feat] = lbl_enc.fit_transform(temp_col)\n",
            "C:\\Users\\rafel\\AppData\\Local\\Temp\\ipykernel_14288\\339629752.py:29: FutureWarning: In a future version, `df.iloc[:, i] = newvals` will attempt to set the values inplace instead of always setting a new array. To retain the old behavior, use either `df[df.columns[i]] = newvals` or, if columns are non-unique, `df.isetitem(i, newvals)`\n",
            "  data.loc[:, feat] = lbl_enc.fit_transform(temp_col)\n",
            "C:\\Users\\rafel\\AppData\\Local\\Temp\\ipykernel_14288\\339629752.py:29: FutureWarning: In a future version, `df.iloc[:, i] = newvals` will attempt to set the values inplace instead of always setting a new array. To retain the old behavior, use either `df[df.columns[i]] = newvals` or, if columns are non-unique, `df.isetitem(i, newvals)`\n",
            "  data.loc[:, feat] = lbl_enc.fit_transform(temp_col)\n",
            "C:\\Users\\rafel\\AppData\\Local\\Temp\\ipykernel_14288\\339629752.py:29: FutureWarning: In a future version, `df.iloc[:, i] = newvals` will attempt to set the values inplace instead of always setting a new array. To retain the old behavior, use either `df[df.columns[i]] = newvals` or, if columns are non-unique, `df.isetitem(i, newvals)`\n",
            "  data.loc[:, feat] = lbl_enc.fit_transform(temp_col)\n",
            "C:\\Users\\rafel\\AppData\\Local\\Temp\\ipykernel_14288\\339629752.py:29: FutureWarning: In a future version, `df.iloc[:, i] = newvals` will attempt to set the values inplace instead of always setting a new array. To retain the old behavior, use either `df[df.columns[i]] = newvals` or, if columns are non-unique, `df.isetitem(i, newvals)`\n",
            "  data.loc[:, feat] = lbl_enc.fit_transform(temp_col)\n",
            "C:\\Users\\rafel\\AppData\\Local\\Temp\\ipykernel_14288\\339629752.py:29: FutureWarning: In a future version, `df.iloc[:, i] = newvals` will attempt to set the values inplace instead of always setting a new array. To retain the old behavior, use either `df[df.columns[i]] = newvals` or, if columns are non-unique, `df.isetitem(i, newvals)`\n",
            "  data.loc[:, feat] = lbl_enc.fit_transform(temp_col)\n",
            "C:\\Users\\rafel\\AppData\\Local\\Temp\\ipykernel_14288\\339629752.py:29: FutureWarning: In a future version, `df.iloc[:, i] = newvals` will attempt to set the values inplace instead of always setting a new array. To retain the old behavior, use either `df[df.columns[i]] = newvals` or, if columns are non-unique, `df.isetitem(i, newvals)`\n",
            "  data.loc[:, feat] = lbl_enc.fit_transform(temp_col)\n",
            "C:\\Users\\rafel\\AppData\\Local\\Temp\\ipykernel_14288\\339629752.py:29: FutureWarning: In a future version, `df.iloc[:, i] = newvals` will attempt to set the values inplace instead of always setting a new array. To retain the old behavior, use either `df[df.columns[i]] = newvals` or, if columns are non-unique, `df.isetitem(i, newvals)`\n",
            "  data.loc[:, feat] = lbl_enc.fit_transform(temp_col)\n",
            "C:\\Users\\rafel\\AppData\\Local\\Temp\\ipykernel_14288\\339629752.py:29: FutureWarning: In a future version, `df.iloc[:, i] = newvals` will attempt to set the values inplace instead of always setting a new array. To retain the old behavior, use either `df[df.columns[i]] = newvals` or, if columns are non-unique, `df.isetitem(i, newvals)`\n",
            "  data.loc[:, feat] = lbl_enc.fit_transform(temp_col)\n",
            "C:\\Users\\rafel\\AppData\\Local\\Temp\\ipykernel_14288\\339629752.py:29: FutureWarning: In a future version, `df.iloc[:, i] = newvals` will attempt to set the values inplace instead of always setting a new array. To retain the old behavior, use either `df[df.columns[i]] = newvals` or, if columns are non-unique, `df.isetitem(i, newvals)`\n",
            "  data.loc[:, feat] = lbl_enc.fit_transform(temp_col)\n",
            "C:\\Users\\rafel\\AppData\\Local\\Temp\\ipykernel_14288\\339629752.py:29: FutureWarning: In a future version, `df.iloc[:, i] = newvals` will attempt to set the values inplace instead of always setting a new array. To retain the old behavior, use either `df[df.columns[i]] = newvals` or, if columns are non-unique, `df.isetitem(i, newvals)`\n",
            "  data.loc[:, feat] = lbl_enc.fit_transform(temp_col)\n",
            "C:\\Users\\rafel\\AppData\\Local\\Temp\\ipykernel_14288\\339629752.py:29: FutureWarning: In a future version, `df.iloc[:, i] = newvals` will attempt to set the values inplace instead of always setting a new array. To retain the old behavior, use either `df[df.columns[i]] = newvals` or, if columns are non-unique, `df.isetitem(i, newvals)`\n",
            "  data.loc[:, feat] = lbl_enc.fit_transform(temp_col)\n",
            "C:\\Users\\rafel\\AppData\\Local\\Temp\\ipykernel_14288\\339629752.py:29: FutureWarning: In a future version, `df.iloc[:, i] = newvals` will attempt to set the values inplace instead of always setting a new array. To retain the old behavior, use either `df[df.columns[i]] = newvals` or, if columns are non-unique, `df.isetitem(i, newvals)`\n",
            "  data.loc[:, feat] = lbl_enc.fit_transform(temp_col)\n",
            "C:\\Users\\rafel\\AppData\\Local\\Temp\\ipykernel_14288\\339629752.py:29: FutureWarning: In a future version, `df.iloc[:, i] = newvals` will attempt to set the values inplace instead of always setting a new array. To retain the old behavior, use either `df[df.columns[i]] = newvals` or, if columns are non-unique, `df.isetitem(i, newvals)`\n",
            "  data.loc[:, feat] = lbl_enc.fit_transform(temp_col)\n",
            "C:\\Users\\rafel\\AppData\\Local\\Temp\\ipykernel_14288\\339629752.py:29: FutureWarning: In a future version, `df.iloc[:, i] = newvals` will attempt to set the values inplace instead of always setting a new array. To retain the old behavior, use either `df[df.columns[i]] = newvals` or, if columns are non-unique, `df.isetitem(i, newvals)`\n",
            "  data.loc[:, feat] = lbl_enc.fit_transform(temp_col)\n",
            "C:\\Users\\rafel\\AppData\\Local\\Temp\\ipykernel_14288\\339629752.py:29: FutureWarning: In a future version, `df.iloc[:, i] = newvals` will attempt to set the values inplace instead of always setting a new array. To retain the old behavior, use either `df[df.columns[i]] = newvals` or, if columns are non-unique, `df.isetitem(i, newvals)`\n",
            "  data.loc[:, feat] = lbl_enc.fit_transform(temp_col)\n",
            "C:\\Users\\rafel\\AppData\\Local\\Temp\\ipykernel_14288\\339629752.py:29: FutureWarning: In a future version, `df.iloc[:, i] = newvals` will attempt to set the values inplace instead of always setting a new array. To retain the old behavior, use either `df[df.columns[i]] = newvals` or, if columns are non-unique, `df.isetitem(i, newvals)`\n",
            "  data.loc[:, feat] = lbl_enc.fit_transform(temp_col)\n"
          ]
        }
      ],
      "source": [
        "#read train data\n",
        "train = pd.read_csv('train.csv')\n",
        "\n",
        "#read test data\n",
        "test = pd.read_csv('test.csv')\n",
        "\n",
        "#create a fake target column for test data. Since this column doesn't exist\n",
        "test.loc[:, 'target'] = -1\n",
        "\n",
        "#concatenate both training and test data\n",
        "data = pd.concat([train, test]).reset_index(drop=True)\n",
        "\n",
        "#make a list of features we are interested in.\n",
        "#id and target is something we should not encode\n",
        "features = [x for x in train.columns if x not in ['id, target']]\n",
        "\n",
        "#loop over the features list\n",
        "for feat in features:\n",
        "    #create a new instace of LabelEncoder for each feature\n",
        "    lbl_enc = preprocessing.LabelEncoder()\n",
        "\n",
        "    #note the trick here: since its categorical data, we fillna with a string and\n",
        "    #we convert all the data to string type so, no matter its int or float, its\n",
        "    #converted to string int/float but categorical!!!\n",
        "    temp_col = data[feat].fillna('NONE').astype(str).values\n",
        "\n",
        "    #we can use fit_transform here as we do not have any extra test data that we\n",
        "    #need to transform on separately\n",
        "    data.loc[:, feat] = lbl_enc.fit_transform(temp_col)\n",
        "\n",
        "#split the training and test data again\n",
        "train = data[data.target != -1].reset_index(drop=True)\n",
        "test = data[data.target == -1].reset_index(drop=True)"
      ]
    },
    {
      "cell_type": "code",
      "execution_count": null,
      "metadata": {
        "colab": {
          "base_uri": "https://localhost:8080/"
        },
        "id": "yKjBdFTp-iNs",
        "outputId": "feca8f90-1242-4948-c1bb-55fb89ccf7bb"
      },
      "outputs": [
        {
          "data": {
            "text/plain": [
              "N       39978\n",
              "P       37890\n",
              "Y       36657\n",
              "A       36633\n",
              "R       33045\n",
              "U       32897\n",
              "M       32504\n",
              "X       32347\n",
              "C       32112\n",
              "H       31189\n",
              "Q       30145\n",
              "T       29723\n",
              "O       25610\n",
              "B       25212\n",
              "E       21871\n",
              "K       21676\n",
              "I       19805\n",
              "None    17930\n",
              "D       17284\n",
              "F       16721\n",
              "W        8268\n",
              "Z        5790\n",
              "S        4595\n",
              "G        3404\n",
              "V        3107\n",
              "J        1950\n",
              "L        1657\n",
              "Name: ord_4, dtype: int64"
            ]
          },
          "execution_count": 21,
          "metadata": {},
          "output_type": "execute_result"
        }
      ],
      "source": [
        "df_cat.ord_4.fillna('None').value_counts()"
      ]
    },
    {
      "cell_type": "code",
      "execution_count": null,
      "metadata": {
        "colab": {
          "base_uri": "https://localhost:8080/"
        },
        "id": "QbOOm_sSBoNT",
        "outputId": "68ad9943-6e45-4678-8761-d114757c4035"
      },
      "outputs": [
        {
          "data": {
            "text/plain": [
              "N       39978\n",
              "P       37890\n",
              "Y       36657\n",
              "A       36633\n",
              "R       33045\n",
              "U       32897\n",
              "M       32504\n",
              "X       32347\n",
              "C       32112\n",
              "H       31189\n",
              "Q       30145\n",
              "T       29723\n",
              "O       25610\n",
              "B       25212\n",
              "E       21871\n",
              "K       21676\n",
              "I       19805\n",
              "NONE    17930\n",
              "D       17284\n",
              "F       16721\n",
              "W        8268\n",
              "Z        5790\n",
              "S        4595\n",
              "RARE     3607\n",
              "G        3404\n",
              "V        3107\n",
              "Name: ord_4, dtype: int64"
            ]
          },
          "execution_count": 23,
          "metadata": {},
          "output_type": "execute_result"
        }
      ],
      "source": [
        "df_cat.ord_4 = df_cat.ord_4.fillna('NONE')\n",
        "\n",
        "df_cat.loc[\n",
        "    df_cat['ord_4'].value_counts()[df_cat['ord_4']].values < 2000, 'ord_4'\n",
        "] = 'RARE'\n",
        "\n",
        "df_cat.ord_4.value_counts()"
      ]
    },
    {
      "cell_type": "code",
      "execution_count": null,
      "metadata": {
        "id": "YvFfwNBbC1Nd"
      },
      "outputs": [],
      "source": [
        "#read training data\n",
        "df = pd.read_csv('train.csv')\n",
        "\n",
        "# we create a new column called kfold and fill it with -1\n",
        "df['kfold'] = -1\n",
        "\n",
        "#the next step is to randomize the rows of the data\n",
        "df = df.sample(frac=1).reset_index(drop=True)\n",
        "\n",
        "#fetch labels\n",
        "y = df.target.values\n",
        "\n",
        "#initiate the kfold class from model_selection module\n",
        "kf = model_selection.StratifiedKFold(n_splits=5)\n",
        "\n",
        "#fill the new kfold column\n",
        "for f, (t_, v_) in enumerate(kf.split(X=df, y=y)):\n",
        "    df.loc[v_, 'kfold'] = f\n",
        "\n",
        "#save the new csv with kfold column\n",
        "df.to_csv('cat_train_folds.csv', index=False)"
      ]
    },
    {
      "cell_type": "code",
      "execution_count": null,
      "metadata": {
        "colab": {
          "base_uri": "https://localhost:8080/"
        },
        "id": "Z63nS-kcdvfM",
        "outputId": "945eda0c-7240-4762-aa97-1eb1632cd5f8"
      },
      "outputs": [
        {
          "data": {
            "text/plain": [
              "0    120000\n",
              "1    120000\n",
              "2    120000\n",
              "3    120000\n",
              "4    120000\n",
              "Name: kfold, dtype: int64"
            ]
          },
          "execution_count": 23,
          "metadata": {},
          "output_type": "execute_result"
        }
      ],
      "source": [
        "teste_df = pd.read_csv('cat_train_folds.csv')\n",
        "teste_df.kfold.value_counts()"
      ]
    },
    {
      "cell_type": "code",
      "execution_count": null,
      "metadata": {
        "colab": {
          "base_uri": "https://localhost:8080/",
          "height": 279
        },
        "id": "AR8axIz7Uos5",
        "outputId": "7939294c-4ca4-4cf0-d54c-cdfffcf58cba"
      },
      "outputs": [
        {
          "data": {
            "image/png": "[encoded data removed]",
            "text/plain": [
              "<Figure size 432x288 with 1 Axes>"
            ]
          },
          "metadata": {
            "needs_background": "light"
          },
          "output_type": "display_data"
        }
      ],
      "source": [
        "sns.countplot(x='kfold', data=teste_df, palette='magma')\n",
        "plt.show()"
      ]
    },
    {
      "cell_type": "code",
      "execution_count": null,
      "metadata": {
        "colab": {
          "base_uri": "https://localhost:8080/"
        },
        "id": "T5BG5wDAeBNc",
        "outputId": "4b5ef798-4464-438e-d191-75c78e00ca15"
      },
      "outputs": [
        {
          "name": "stdout",
          "output_type": "stream",
          "text": [
            "fold 0:\n",
            "0    97536\n",
            "1    22464\n",
            "Name: target, dtype: int64\n",
            "fold 1:\n",
            "0    97536\n",
            "1    22464\n",
            "Name: target, dtype: int64\n",
            "fold 2:\n",
            "0    97535\n",
            "1    22465\n",
            "Name: target, dtype: int64\n",
            "fold 3:\n",
            "0    97535\n",
            "1    22465\n",
            "Name: target, dtype: int64\n",
            "fold 4:\n",
            "0    97535\n",
            "1    22465\n",
            "Name: target, dtype: int64\n"
          ]
        }
      ],
      "source": [
        "for i in range(5):\n",
        "    print(f'fold {i}:\\n{teste_df[df.kfold == i].target.value_counts()}')"
      ]
    },
    {
      "cell_type": "code",
      "execution_count": null,
      "metadata": {
        "colab": {
          "base_uri": "https://localhost:8080/",
          "height": 279
        },
        "id": "HqFhYFbZCXp5",
        "outputId": "1ceb9aaf-c9ac-40e6-9c1b-87c8bbb8c240"
      },
      "outputs": [
        {
          "data": {
            "image/png": "[encoded data removed]",
            "text/plain": [
              "<Figure size 432x288 with 1 Axes>"
            ]
          },
          "metadata": {
            "needs_background": "light"
          },
          "output_type": "display_data"
        }
      ],
      "source": [
        "sns.countplot(x='kfold', hue='target', data=teste_df, palette='magma')\n",
        "plt.show()"
      ]
    },
    {
      "cell_type": "code",
      "execution_count": null,
      "metadata": {
        "id": "U_8oMpNKfyq_"
      },
      "outputs": [],
      "source": [
        "def run(fold):\n",
        "    #load the full training data with folds\n",
        "    df = pd.read_csv('cat_train_folds.csv')\n",
        "\n",
        "    #all columns are features except id, target and kfold columns\n",
        "    features = [f for f in df.columns if f not in ('id', 'target', 'kfold')]\n",
        "\n",
        "    #fill all NaN values with NONE. Note that I am converting all columns to\n",
        "    # 'strings' it doesn't matter becouse all are categories\n",
        "    for col in features:\n",
        "        df.loc[:, col] = df[col].astype(str).fillna('NONE')\n",
        "\n",
        "    # get training data using folds\n",
        "    df_train = df[df.kfold != fold].reset_index(drop=True)\n",
        "\n",
        "    # get validation data using folds\n",
        "    df_valid = df[df.kfold == fold].reset_index(drop=True)\n",
        "\n",
        "    # initialize OneHotEncoder from sk-learn\n",
        "    ohe = preprocessing.OneHotEncoder()\n",
        "    \n",
        "    # fit ohe on training + validation features\n",
        "    full_data = pd.concat([df_train[features], df_valid[features]], axis=0)\n",
        "    ohe.fit(full_data[features])\n",
        "\n",
        "    # transform training data\n",
        "    x_train = ohe.transform(df_train[features])\n",
        "    \n",
        "    # transform validation data\n",
        "    x_valid = ohe.transform(df_valid[features])\n",
        "\n",
        "    # initialize Logistic Regression model\n",
        "    model = linear_model.LogisticRegression()\n",
        "\n",
        "    # fit model on training data (ohe)\n",
        "    model.fit(x_train, df_train.target.values)\n",
        "\n",
        "    # predict on validation data. We need the probability values as we are\n",
        "    # calculating AUC we will use the probability of 1s\n",
        "    valid_preds = model.predict_proba(x_valid)[:, 1]\n",
        "\n",
        "    # get ROC AUC score\n",
        "    auc = metrics.roc_auc_score(df_valid.target.values, valid_preds)\n",
        "\n",
        "    # print auc\n",
        "    print(f'Fold = {fold}, AUC = {auc}')"
      ]
    },
    {
      "cell_type": "code",
      "execution_count": null,
      "metadata": {
        "colab": {
          "base_uri": "https://localhost:8080/"
        },
        "id": "V5Kjnom2nrHt",
        "outputId": "92538e02-3ce5-426f-e25b-a3b6d3cfbf13"
      },
      "outputs": [
        {
          "name": "stderr",
          "output_type": "stream",
          "text": [
            "/usr/local/lib/python3.8/dist-packages/sklearn/linear_model/_logistic.py:814: ConvergenceWarning: lbfgs failed to converge (status=1):\n",
            "STOP: TOTAL NO. of ITERATIONS REACHED LIMIT.\n",
            "\n",
            "Increase the number of iterations (max_iter) or scale the data as shown in:\n",
            "    https://scikit-learn.org/stable/modules/preprocessing.html\n",
            "Please also refer to the documentation for alternative solver options:\n",
            "    https://scikit-learn.org/stable/modules/linear_model.html#logistic-regression\n",
            "  n_iter_i = _check_optimize_result(\n"
          ]
        },
        {
          "name": "stdout",
          "output_type": "stream",
          "text": [
            "0.7867289781615006\n"
          ]
        },
        {
          "name": "stderr",
          "output_type": "stream",
          "text": [
            "/usr/local/lib/python3.8/dist-packages/sklearn/linear_model/_logistic.py:814: ConvergenceWarning: lbfgs failed to converge (status=1):\n",
            "STOP: TOTAL NO. of ITERATIONS REACHED LIMIT.\n",
            "\n",
            "Increase the number of iterations (max_iter) or scale the data as shown in:\n",
            "    https://scikit-learn.org/stable/modules/preprocessing.html\n",
            "Please also refer to the documentation for alternative solver options:\n",
            "    https://scikit-learn.org/stable/modules/linear_model.html#logistic-regression\n",
            "  n_iter_i = _check_optimize_result(\n"
          ]
        },
        {
          "name": "stdout",
          "output_type": "stream",
          "text": [
            "0.7849130637125262\n"
          ]
        },
        {
          "name": "stderr",
          "output_type": "stream",
          "text": [
            "/usr/local/lib/python3.8/dist-packages/sklearn/linear_model/_logistic.py:814: ConvergenceWarning: lbfgs failed to converge (status=1):\n",
            "STOP: TOTAL NO. of ITERATIONS REACHED LIMIT.\n",
            "\n",
            "Increase the number of iterations (max_iter) or scale the data as shown in:\n",
            "    https://scikit-learn.org/stable/modules/preprocessing.html\n",
            "Please also refer to the documentation for alternative solver options:\n",
            "    https://scikit-learn.org/stable/modules/linear_model.html#logistic-regression\n",
            "  n_iter_i = _check_optimize_result(\n"
          ]
        },
        {
          "name": "stdout",
          "output_type": "stream",
          "text": [
            "0.7858448475828346\n"
          ]
        },
        {
          "name": "stderr",
          "output_type": "stream",
          "text": [
            "/usr/local/lib/python3.8/dist-packages/sklearn/linear_model/_logistic.py:814: ConvergenceWarning: lbfgs failed to converge (status=1):\n",
            "STOP: TOTAL NO. of ITERATIONS REACHED LIMIT.\n",
            "\n",
            "Increase the number of iterations (max_iter) or scale the data as shown in:\n",
            "    https://scikit-learn.org/stable/modules/preprocessing.html\n",
            "Please also refer to the documentation for alternative solver options:\n",
            "    https://scikit-learn.org/stable/modules/linear_model.html#logistic-regression\n",
            "  n_iter_i = _check_optimize_result(\n"
          ]
        },
        {
          "name": "stdout",
          "output_type": "stream",
          "text": [
            "0.7860020299400933\n"
          ]
        },
        {
          "name": "stderr",
          "output_type": "stream",
          "text": [
            "/usr/local/lib/python3.8/dist-packages/sklearn/linear_model/_logistic.py:814: ConvergenceWarning: lbfgs failed to converge (status=1):\n",
            "STOP: TOTAL NO. of ITERATIONS REACHED LIMIT.\n",
            "\n",
            "Increase the number of iterations (max_iter) or scale the data as shown in:\n",
            "    https://scikit-learn.org/stable/modules/preprocessing.html\n",
            "Please also refer to the documentation for alternative solver options:\n",
            "    https://scikit-learn.org/stable/modules/linear_model.html#logistic-regression\n",
            "  n_iter_i = _check_optimize_result(\n"
          ]
        },
        {
          "name": "stdout",
          "output_type": "stream",
          "text": [
            "0.7861940305038222\n"
          ]
        }
      ],
      "source": [
        "for fold_ in range(5):\n",
        "    run(fold_)"
      ]
    },
    {
      "cell_type": "code",
      "execution_count": null,
      "metadata": {
        "id": "C6OTfn95oNfE"
      },
      "outputs": [],
      "source": [
        "def run(fold):\n",
        "    # load the full training data with folds\n",
        "    df = pd.read_csv('cat_train_folds.csv')\n",
        "\n",
        "    # all columns are features except id, targed and kfold columns\n",
        "    features = [f for f in df.columns if f not in ('id', 'target', 'kfold')]\n",
        "\n",
        "    # fill all NaN values with NONE. Note that I'm converting all columns to \n",
        "    # 'strings'. It doesn't matter because all are categories\n",
        "    for col in features:\n",
        "        df.loc[:, col] = df[col].astype(str).fillna('NONE')\n",
        "    \n",
        "    # now its time to label encode the features\n",
        "    for col in features:\n",
        "        # initialize LabelEncoder for each feature column\n",
        "        lbl = preprocessing.LabelEncoder()\n",
        "\n",
        "        # fit label encoder on all data\n",
        "        lbl.fit(df[col])\n",
        "\n",
        "        # transform all data\n",
        "        df.loc[:, col] = lbl.transform(df[col])\n",
        "    \n",
        "    # get training data using folds\n",
        "    df_train = df[df.kfold != fold].reset_index(drop=True)\n",
        "\n",
        "    # get validation data using folds\n",
        "    df_valid = df[df.kfold == fold].reset_index(drop=True)\n",
        "\n",
        "    # get training data\n",
        "    x_train = df_train[features].values\n",
        "\n",
        "    # get validation data\n",
        "    x_valid = df_valid[features].values\n",
        "\n",
        "    #initialize random forest model\n",
        "    model = ensemble.RandomForestClassifier(n_jobs=-1)\n",
        "\n",
        "    #fit model on training data (ohe)\n",
        "    model.fit(x_train, df_train.target.values)\n",
        "\n",
        "    # predict on validation data. We need the probability values as we are\n",
        "    # calculatin AUC. We will use probability of 1s\n",
        "    valid_preds = model.predict_proba(x_valid)[:, 1]\n",
        "\n",
        "    # get roc auc score\n",
        "    auc = metrics.roc_auc_score(df_valid.target.values, valid_preds)\n",
        "\n",
        "    # print auc\n",
        "    print(f'Fold = {fold}, AUC = {auc}')"
      ]
    },
    {
      "cell_type": "code",
      "execution_count": null,
      "metadata": {
        "colab": {
          "base_uri": "https://localhost:8080/"
        },
        "id": "rJcmTI5pz-Xu",
        "outputId": "8f0226e6-6a86-4c0e-cb3c-ab85f5a30621"
      },
      "outputs": [
        {
          "name": "stdout",
          "output_type": "stream",
          "text": [
            "Fold = 0, AUC = 0.7178963980254819\n",
            "Fold = 1, AUC = 0.7165300625832186\n",
            "Fold = 2, AUC = 0.7168569623594176\n",
            "Fold = 3, AUC = 0.7156983737716962\n",
            "Fold = 4, AUC = 0.7159167368351886\n"
          ]
        }
      ],
      "source": [
        "for fold_ in range(5):\n",
        "    run(fold_) "
      ]
    },
    {
      "cell_type": "code",
      "execution_count": null,
      "metadata": {
        "id": "dO1ClQyM0FZe"
      },
      "outputs": [],
      "source": [
        "def run(fold):\n",
        "    # load the full training data with folds\n",
        "    df = pd.read_csv('cat_train_folds.csv')\n",
        "\n",
        "    # all columns are features except id, target, and kfold columns\n",
        "    features = [f for f in df.columns if f not in ('id', 'target', 'kfold')]\n",
        "\n",
        "    # fill all NaN values with NONE. Note that I'm converting all columns to\n",
        "    # 'strings'. It doesn't matter because all are categories\n",
        "    for col in features:\n",
        "        df.loc[:, col] = df[col].astype(str).fillna('NONE')\n",
        "\n",
        "    # get training data using folds\n",
        "    df_train = df[df.kfold != fold].reset_index(drop=True)\n",
        "\n",
        "    # get validation data using folds\n",
        "    df_valid = df[df.kfold == fold].reset_index(drop=True)\n",
        "\n",
        "    # initialize OneHotEncoder from scikit-learn\n",
        "    ohe = preprocessing.OneHotEncoder()\n",
        "\n",
        "    # fit ohe on training + validation features\n",
        "    full_data = pd.concat([df_train[features], df_valid[features]], axis=0)\n",
        "    ohe.fit(full_data[features])\n",
        "\n",
        "    # transform training data\n",
        "    x_train = ohe.transform(df_train[features])\n",
        "    print(f'Shape do conjunto de treino:{x_train.shape}')\n",
        "    # transform validation data\n",
        "    x_valid = ohe.transform(df_valid[features])\n",
        "\n",
        "    # initialize Truncated SVD. We are reducing the data to 120 components\n",
        "    svd = decomposition.TruncatedSVD(n_components=120)\n",
        "\n",
        "    # fit svd on full sparse training data\n",
        "    full_sparse = sparse.vstack((x_train, x_train))\n",
        "    svd.fit(full_sparse)\n",
        "\n",
        "    # transform sparse training data\n",
        "    x_train = svd.transform(x_train)\n",
        "    print(f'Shape do conjunto de treino:{x_train.shape}')\n",
        "    # transform sparse validation data\n",
        "    x_valid = svd.transform(x_valid)\n",
        "\n",
        "    # initialize random forest model\n",
        "    model = ensemble.RandomForestClassifier(n_jobs=-1)\n",
        "\n",
        "    # fit model on training data (ohe)\n",
        "    model.fit(x_train, df_train.target.values)\n",
        "\n",
        "    # predict on validation data. We need the probability values as we are\n",
        "    # calculating AUC. We will use the probability of 1s\n",
        "    valid_preds = model.predict_proba(x_valid)[:, 1]\n",
        "\n",
        "    # get roc auc score\n",
        "    auc = metrics. roc_auc_score(df_valid.target.values, valid_preds)\n",
        "\n",
        "    # print AUC\n",
        "    print(f'Fold = {fold}, AUC:{auc}')\n"
      ]
    },
    {
      "cell_type": "code",
      "execution_count": null,
      "metadata": {
        "colab": {
          "base_uri": "https://localhost:8080/"
        },
        "id": "TPdpUIdheSz0",
        "outputId": "2a4bc40b-0736-4a81-c94b-49b658ce97d6"
      },
      "outputs": [
        {
          "name": "stdout",
          "output_type": "stream",
          "text": [
            "Shape do conjunto de treino:(480000, 5723)\n",
            "Shape do conjunto de treino:(480000, 120)\n",
            "Fold = 0, AUC:0.7083552598199113\n",
            "Shape do conjunto de treino:(480000, 5723)\n",
            "Shape do conjunto de treino:(480000, 120)\n",
            "Fold = 1, AUC:0.7066197618854938\n",
            "Shape do conjunto de treino:(480000, 5723)\n",
            "Shape do conjunto de treino:(480000, 120)\n",
            "Fold = 2, AUC:0.7063384020831959\n",
            "Shape do conjunto de treino:(480000, 5723)\n",
            "Shape do conjunto de treino:(480000, 120)\n",
            "Fold = 3, AUC:0.7060884910529531\n",
            "Shape do conjunto de treino:(480000, 5723)\n",
            "Shape do conjunto de treino:(480000, 120)\n",
            "Fold = 4, AUC:0.7040569166385865\n"
          ]
        }
      ],
      "source": [
        "for fold_ in range(5):\n",
        "    run(fold_)"
      ]
    },
    {
      "cell_type": "code",
      "execution_count": null,
      "metadata": {
        "id": "Wu_w4EnDjfd1"
      },
      "outputs": [],
      "source": [
        "def run(fold):\n",
        "    # load the full training data with folds\n",
        "    df = pd.read_csv('cat_train_folds.csv')\n",
        "\n",
        "    # all collumns are features except id, target and kfold columns\n",
        "    features = [f for f in df.columns if f not in ('id', 'target', 'kfold')]\n",
        "\n",
        "    # fill all NaN values with NONE. Note that I am converting all columns to \n",
        "    # 'strings'. It doesn't matter because all are categories\n",
        "    for col in features:\n",
        "        df.loc[:, col] = df[col].astype(str).fillna('NONE')\n",
        "\n",
        "    # now it's time to label encode the features\n",
        "    for col in features:\n",
        "\n",
        "        # initialize LabelEncoder for each feature column\n",
        "        lbl = preprocessing.LabelEncoder()\n",
        "\n",
        "        # fit label encoder on all data\n",
        "        lbl.fit(df[col])\n",
        "\n",
        "        # transform all the data\n",
        "        df.loc[:, col] = lbl.transform(df[col])\n",
        "    \n",
        "    # get training data using folds\n",
        "    df_train = df[df.kfold != fold].reset_index(drop=True)\n",
        "\n",
        "    # get validation data using folds\n",
        "    df_valid = df[df.kfold == fold].reset_index(drop=True)\n",
        "\n",
        "    # get training data\n",
        "    x_train = df_train[features].values\n",
        "\n",
        "    # get validation data\n",
        "    x_valid = df_valid[features].values\n",
        "\n",
        "    # initialize xgboost model\n",
        "    model = xgb.XGBClassifier(\n",
        "        n_jobs=-1,\n",
        "        max_depth=7,\n",
        "        n_estimators=200\n",
        "    )\n",
        "\n",
        "    # fit model on training data (ohe)\n",
        "    model.fit(x_train, df_train.target.values)\n",
        "\n",
        "    # predict on validation data. We need the probability values as we are\n",
        "    # calculating AUC we will use the probality of 1s\n",
        "    valid_preds = model.predict_proba(x_valid)[:, 1]\n",
        "\n",
        "    # get roc auc score\n",
        "    auc = metrics.roc_auc_score(df_valid.target.values, valid_preds)\n",
        "\n",
        "    # print auc\n",
        "    print(f'Fold = {fold}, AUC = {auc}')"
      ]
    },
    {
      "cell_type": "code",
      "execution_count": null,
      "metadata": {
        "colab": {
          "base_uri": "https://localhost:8080/"
        },
        "id": "DMfaDS3w07Mh",
        "outputId": "15a6d824-8284-4f30-f078-7d7bd35096c8"
      },
      "outputs": [
        {
          "name": "stdout",
          "output_type": "stream",
          "text": [
            "Fold = 0, AUC = 0.7665627605327754\n",
            "Fold = 1, AUC = 0.7638472654417088\n",
            "Fold = 2, AUC = 0.7645713449026859\n",
            "Fold = 3, AUC = 0.765239702627023\n",
            "Fold = 4, AUC = 0.7643385330890311\n"
          ]
        }
      ],
      "source": [
        "for fold_ in range(5):\n",
        "    run(fold_) 0,7665627605327754 + 0,7638472654417088 + 0,7645713449026859 + 0,765239702627023 + 0,7643385330890311"
      ]
    },
    {
      "cell_type": "markdown",
      "metadata": {
        "id": "T4m18hH4keU0"
      },
      "source": [
        "#### US adult census data"
      ]
    },
    {
      "cell_type": "code",
      "execution_count": 1,
      "metadata": {
        "colab": {
          "base_uri": "https://localhost:8080/"
        },
        "id": "5g0l7B48kpIe",
        "outputId": "bf0886c3-304d-4696-bbb7-f9519caee308"
      },
      "outputs": [
        {
          "name": "stderr",
          "output_type": "stream",
          "text": [
            "'kaggle' n�o � reconhecido como um comando interno\n",
            "ou externo, um programa oper�vel ou um arquivo em lotes.\n",
            "'unzip' n�o � reconhecido como um comando interno\n",
            "ou externo, um programa oper�vel ou um arquivo em lotes.\n"
          ]
        }
      ],
      "source": [
        "! kaggle datasets download -d uciml/adult-census-income\n",
        "! unzip adult-census-income.zip"
      ]
    },
    {
      "cell_type": "code",
      "execution_count": 3,
      "metadata": {
        "colab": {
          "base_uri": "https://localhost:8080/"
        },
        "id": "EEI8Ir69luJc",
        "outputId": "1eae374e-ce8d-4b4b-db60-5a6022ac4a11"
      },
      "outputs": [
        {
          "data": {
            "text/plain": [
              "<=50K    24720\n",
              ">50K      7841\n",
              "Name: income, dtype: int64"
            ]
          },
          "execution_count": 3,
          "metadata": {},
          "output_type": "execute_result"
        }
      ],
      "source": [
        "df = pd.read_csv('adult.csv')\n",
        "df.income.value_counts()"
      ]
    },
    {
      "cell_type": "markdown",
      "metadata": {
        "id": "xISPykxkmRbA"
      },
      "source": [
        "Cross-Validation:"
      ]
    },
    {
      "cell_type": "code",
      "execution_count": 4,
      "metadata": {
        "colab": {
          "base_uri": "https://localhost:8080/",
          "height": 206
        },
        "id": "-5L4bblGl2m6",
        "outputId": "a3d431da-ab09-48f3-f9ee-c640027bd446"
      },
      "outputs": [
        {
          "data": {
            "text/html": [
              "<div>\n",
              "<style scoped>\n",
              "    .dataframe tbody tr th:only-of-type {\n",
              "        vertical-align: middle;\n",
              "    }\n",
              "\n",
              "    .dataframe tbody tr th {\n",
              "        vertical-align: top;\n",
              "    }\n",
              "\n",
              "    .dataframe thead th {\n",
              "        text-align: right;\n",
              "    }\n",
              "</style>\n",
              "<table border=\"1\" class=\"dataframe\">\n",
              "  <thead>\n",
              "    <tr style=\"text-align: right;\">\n",
              "      <th></th>\n",
              "      <th>age</th>\n",
              "      <th>workclass</th>\n",
              "      <th>fnlwgt</th>\n",
              "      <th>education</th>\n",
              "      <th>education.num</th>\n",
              "      <th>marital.status</th>\n",
              "      <th>occupation</th>\n",
              "      <th>relationship</th>\n",
              "      <th>race</th>\n",
              "      <th>sex</th>\n",
              "      <th>capital.gain</th>\n",
              "      <th>capital.loss</th>\n",
              "      <th>hours.per.week</th>\n",
              "      <th>native.country</th>\n",
              "      <th>income</th>\n",
              "      <th>kfold</th>\n",
              "    </tr>\n",
              "  </thead>\n",
              "  <tbody>\n",
              "    <tr>\n",
              "      <th>0</th>\n",
              "      <td>33</td>\n",
              "      <td>Private</td>\n",
              "      <td>143582</td>\n",
              "      <td>HS-grad</td>\n",
              "      <td>9</td>\n",
              "      <td>Separated</td>\n",
              "      <td>Other-service</td>\n",
              "      <td>Unmarried</td>\n",
              "      <td>Asian-Pac-Islander</td>\n",
              "      <td>Female</td>\n",
              "      <td>0</td>\n",
              "      <td>0</td>\n",
              "      <td>48</td>\n",
              "      <td>China</td>\n",
              "      <td>&lt;=50K</td>\n",
              "      <td>0</td>\n",
              "    </tr>\n",
              "    <tr>\n",
              "      <th>1</th>\n",
              "      <td>24</td>\n",
              "      <td>Local-gov</td>\n",
              "      <td>193416</td>\n",
              "      <td>Some-college</td>\n",
              "      <td>10</td>\n",
              "      <td>Never-married</td>\n",
              "      <td>Protective-serv</td>\n",
              "      <td>Own-child</td>\n",
              "      <td>White</td>\n",
              "      <td>Female</td>\n",
              "      <td>0</td>\n",
              "      <td>0</td>\n",
              "      <td>40</td>\n",
              "      <td>United-States</td>\n",
              "      <td>&lt;=50K</td>\n",
              "      <td>0</td>\n",
              "    </tr>\n",
              "    <tr>\n",
              "      <th>2</th>\n",
              "      <td>35</td>\n",
              "      <td>Private</td>\n",
              "      <td>30381</td>\n",
              "      <td>Bachelors</td>\n",
              "      <td>13</td>\n",
              "      <td>Married-civ-spouse</td>\n",
              "      <td>Sales</td>\n",
              "      <td>Husband</td>\n",
              "      <td>White</td>\n",
              "      <td>Male</td>\n",
              "      <td>0</td>\n",
              "      <td>0</td>\n",
              "      <td>45</td>\n",
              "      <td>United-States</td>\n",
              "      <td>&gt;50K</td>\n",
              "      <td>0</td>\n",
              "    </tr>\n",
              "    <tr>\n",
              "      <th>3</th>\n",
              "      <td>46</td>\n",
              "      <td>State-gov</td>\n",
              "      <td>72506</td>\n",
              "      <td>HS-grad</td>\n",
              "      <td>9</td>\n",
              "      <td>Married-civ-spouse</td>\n",
              "      <td>Other-service</td>\n",
              "      <td>Wife</td>\n",
              "      <td>Black</td>\n",
              "      <td>Female</td>\n",
              "      <td>0</td>\n",
              "      <td>0</td>\n",
              "      <td>40</td>\n",
              "      <td>United-States</td>\n",
              "      <td>&lt;=50K</td>\n",
              "      <td>0</td>\n",
              "    </tr>\n",
              "    <tr>\n",
              "      <th>4</th>\n",
              "      <td>44</td>\n",
              "      <td>State-gov</td>\n",
              "      <td>244974</td>\n",
              "      <td>Bachelors</td>\n",
              "      <td>13</td>\n",
              "      <td>Married-civ-spouse</td>\n",
              "      <td>Protective-serv</td>\n",
              "      <td>Husband</td>\n",
              "      <td>White</td>\n",
              "      <td>Male</td>\n",
              "      <td>0</td>\n",
              "      <td>0</td>\n",
              "      <td>44</td>\n",
              "      <td>United-States</td>\n",
              "      <td>&gt;50K</td>\n",
              "      <td>0</td>\n",
              "    </tr>\n",
              "  </tbody>\n",
              "</table>\n",
              "</div>"
            ],
            "text/plain": [
              "   age  workclass  fnlwgt     education  education.num      marital.status  \\\n",
              "0   33    Private  143582       HS-grad              9           Separated   \n",
              "1   24  Local-gov  193416  Some-college             10       Never-married   \n",
              "2   35    Private   30381     Bachelors             13  Married-civ-spouse   \n",
              "3   46  State-gov   72506       HS-grad              9  Married-civ-spouse   \n",
              "4   44  State-gov  244974     Bachelors             13  Married-civ-spouse   \n",
              "\n",
              "        occupation relationship                race     sex  capital.gain  \\\n",
              "0    Other-service    Unmarried  Asian-Pac-Islander  Female             0   \n",
              "1  Protective-serv    Own-child               White  Female             0   \n",
              "2            Sales      Husband               White    Male             0   \n",
              "3    Other-service         Wife               Black  Female             0   \n",
              "4  Protective-serv      Husband               White    Male             0   \n",
              "\n",
              "   capital.loss  hours.per.week native.country income  kfold  \n",
              "0             0              48          China  <=50K      0  \n",
              "1             0              40  United-States  <=50K      0  \n",
              "2             0              45  United-States   >50K      0  \n",
              "3             0              40  United-States  <=50K      0  \n",
              "4             0              44  United-States   >50K      0  "
            ]
          },
          "execution_count": 4,
          "metadata": {},
          "output_type": "execute_result"
        }
      ],
      "source": [
        "# we create a new column called kfold and fill it with -1\n",
        "df['kfold'] = -1\n",
        "\n",
        "# the next step is to randomize the rows of the data\n",
        "df = df.sample(frac=1).reset_index(drop=True)\n",
        "\n",
        "# fetch labels\n",
        "y = df.income.values\n",
        "\n",
        "# initiate the kfold class from model_selection module\n",
        "kf = model_selection.StratifiedKFold(n_splits=5)\n",
        "\n",
        "# fill the new kfold column\n",
        "for f, (t_,v_) in enumerate(kf.split(X=df, y=y)):\n",
        "    df.loc[v_, 'kfold'] = f\n",
        "\n",
        "df.to_csv('adult_folds.csv', index=False)\n",
        "\n",
        "df = pd.read_csv('adult_folds.csv')\n",
        "df.head()"
      ]
    },
    {
      "cell_type": "code",
      "execution_count": 5,
      "metadata": {
        "colab": {
          "base_uri": "https://localhost:8080/"
        },
        "id": "pFR9yQMOn9fh",
        "outputId": "fc4dc37a-67ba-471a-fb0c-705b6183c8a7"
      },
      "outputs": [
        {
          "data": {
            "text/plain": [
              "0    6513\n",
              "1    6512\n",
              "2    6512\n",
              "3    6512\n",
              "4    6512\n",
              "Name: kfold, dtype: int64"
            ]
          },
          "execution_count": 5,
          "metadata": {},
          "output_type": "execute_result"
        }
      ],
      "source": [
        "df.kfold.value_counts()"
      ]
    },
    {
      "cell_type": "code",
      "execution_count": null,
      "metadata": {
        "colab": {
          "base_uri": "https://localhost:8080/"
        },
        "id": "v9sDUxvMorNi",
        "outputId": "c76c3807-178a-48fc-a897-309e708009b0"
      },
      "outputs": [
        {
          "name": "stderr",
          "output_type": "stream",
          "text": [
            "/usr/local/lib/python3.9/dist-packages/sklearn/linear_model/_logistic.py:458: ConvergenceWarning: lbfgs failed to converge (status=1):\n",
            "STOP: TOTAL NO. of ITERATIONS REACHED LIMIT.\n",
            "\n",
            "Increase the number of iterations (max_iter) or scale the data as shown in:\n",
            "    https://scikit-learn.org/stable/modules/preprocessing.html\n",
            "Please also refer to the documentation for alternative solver options:\n",
            "    https://scikit-learn.org/stable/modules/linear_model.html#logistic-regression\n",
            "  n_iter_i = _check_optimize_result(\n"
          ]
        },
        {
          "name": "stdout",
          "output_type": "stream",
          "text": [
            "Fold = 0, AUC = 0.8822209640258982\n"
          ]
        },
        {
          "name": "stderr",
          "output_type": "stream",
          "text": [
            "/usr/local/lib/python3.9/dist-packages/sklearn/linear_model/_logistic.py:458: ConvergenceWarning: lbfgs failed to converge (status=1):\n",
            "STOP: TOTAL NO. of ITERATIONS REACHED LIMIT.\n",
            "\n",
            "Increase the number of iterations (max_iter) or scale the data as shown in:\n",
            "    https://scikit-learn.org/stable/modules/preprocessing.html\n",
            "Please also refer to the documentation for alternative solver options:\n",
            "    https://scikit-learn.org/stable/modules/linear_model.html#logistic-regression\n",
            "  n_iter_i = _check_optimize_result(\n"
          ]
        },
        {
          "name": "stdout",
          "output_type": "stream",
          "text": [
            "Fold = 1, AUC = 0.8763158213831649\n"
          ]
        },
        {
          "name": "stderr",
          "output_type": "stream",
          "text": [
            "/usr/local/lib/python3.9/dist-packages/sklearn/linear_model/_logistic.py:458: ConvergenceWarning: lbfgs failed to converge (status=1):\n",
            "STOP: TOTAL NO. of ITERATIONS REACHED LIMIT.\n",
            "\n",
            "Increase the number of iterations (max_iter) or scale the data as shown in:\n",
            "    https://scikit-learn.org/stable/modules/preprocessing.html\n",
            "Please also refer to the documentation for alternative solver options:\n",
            "    https://scikit-learn.org/stable/modules/linear_model.html#logistic-regression\n",
            "  n_iter_i = _check_optimize_result(\n"
          ]
        },
        {
          "name": "stdout",
          "output_type": "stream",
          "text": [
            "Fold = 2, AUC = 0.87539163116703\n"
          ]
        },
        {
          "name": "stderr",
          "output_type": "stream",
          "text": [
            "/usr/local/lib/python3.9/dist-packages/sklearn/linear_model/_logistic.py:458: ConvergenceWarning: lbfgs failed to converge (status=1):\n",
            "STOP: TOTAL NO. of ITERATIONS REACHED LIMIT.\n",
            "\n",
            "Increase the number of iterations (max_iter) or scale the data as shown in:\n",
            "    https://scikit-learn.org/stable/modules/preprocessing.html\n",
            "Please also refer to the documentation for alternative solver options:\n",
            "    https://scikit-learn.org/stable/modules/linear_model.html#logistic-regression\n",
            "  n_iter_i = _check_optimize_result(\n"
          ]
        },
        {
          "name": "stdout",
          "output_type": "stream",
          "text": [
            "Fold = 3, AUC = 0.8886724554809787\n",
            "Fold = 4, AUC = 0.8714622264257644\n"
          ]
        },
        {
          "name": "stderr",
          "output_type": "stream",
          "text": [
            "/usr/local/lib/python3.9/dist-packages/sklearn/linear_model/_logistic.py:458: ConvergenceWarning: lbfgs failed to converge (status=1):\n",
            "STOP: TOTAL NO. of ITERATIONS REACHED LIMIT.\n",
            "\n",
            "Increase the number of iterations (max_iter) or scale the data as shown in:\n",
            "    https://scikit-learn.org/stable/modules/preprocessing.html\n",
            "Please also refer to the documentation for alternative solver options:\n",
            "    https://scikit-learn.org/stable/modules/linear_model.html#logistic-regression\n",
            "  n_iter_i = _check_optimize_result(\n"
          ]
        }
      ],
      "source": [
        "# ohe_logres.py\n",
        "\n",
        "def run(fold):\n",
        "    df = pd.read_csv('adult_folds.csv')\n",
        "\n",
        "    # list of numerical columns\n",
        "    num_cols = [\n",
        "        'fnlwgt',\n",
        "        'age',\n",
        "        'capital.gain',\n",
        "        'capital.loss',\n",
        "        'hours.per.week'\n",
        "    ]\n",
        "\n",
        "    # drop numerical columns\n",
        "    df = df.drop(num_cols, axis=1)\n",
        "\n",
        "    # map targets to 0s and 1s\n",
        "    target_mapping = {\n",
        "        '<=50K': 0,\n",
        "        '>50K': 1\n",
        "    }\n",
        "    df.loc[:, 'income'] = df.income.map(target_mapping)\n",
        "\n",
        "    # all comuns are features except income and kfold columns\n",
        "    features = [f for f in df.columns if f not in ('kfold', 'income')]\n",
        "\n",
        "    # fill all NaN values with NONE\n",
        "    # note that I am converting all columns to 'strings'\n",
        "    # it doesnt matter because all are categories\n",
        "    for col in features:\n",
        "        df.loc[:, col] = df[col].astype(str).fillna('NONE')\n",
        "\n",
        "    # get training data using folds\n",
        "    df_train = df[df.kfold != fold].reset_index(drop=True)\n",
        "\n",
        "    #get validation data using folds\n",
        "    df_valid = df[df.kfold == fold].reset_index(drop=True)\n",
        "\n",
        "    # initialize OneHotEncoder from scikit-learn\n",
        "    ohe = preprocessing.OneHotEncoder()\n",
        "\n",
        "    # fit ohe on training + validation features\n",
        "    full_data = pd.concat([df_train[features], df_valid[features]], axis=0)\n",
        "    ohe.fit(full_data[features])\n",
        "\n",
        "    # transform training data\n",
        "    x_train = ohe.transform(df_train[features])\n",
        "\n",
        "    # transform validation data\n",
        "    x_valid = ohe.transform(df_valid[features])\n",
        "\n",
        "    # initialize Logistic Regression model\n",
        "    model = linear_model.LogisticRegression()\n",
        "\n",
        "    # fit model on training data (ohe)\n",
        "    model.fit(x_train, df_train.income.values)\n",
        "\n",
        "    # predict on validation data\n",
        "    # we need the probability values as we are calculating AUC\n",
        "    # we will use the probability of 1s\n",
        "    valid_pred = model.predict_proba(x_valid)[:, 1]\n",
        "\n",
        "    # get roc auc score\n",
        "    auc = metrics.roc_auc_score(df_valid.income.values, valid_pred)\n",
        "\n",
        "    # print auc\n",
        "    print(f'Fold = {fold}, AUC = {auc}')\n",
        "\n",
        "for fold_ in range(5):\n",
        "    run(fold_)"
      ]
    },
    {
      "cell_type": "code",
      "execution_count": null,
      "metadata": {
        "colab": {
          "base_uri": "https://localhost:8080/"
        },
        "id": "U8_9TwKbxCHu",
        "outputId": "139b7b74-0a37-40e1-ea39-14734f8d2e6e"
      },
      "outputs": [
        {
          "name": "stdout",
          "output_type": "stream",
          "text": [
            "Fold = 0, AUC = 0.8685257033008059\n",
            "Fold = 1, AUC = 0.8663042014439271\n",
            "Fold = 2, AUC = 0.8592791561406116\n",
            "Fold = 3, AUC = 0.8717267967563238\n",
            "Fold = 4, AUC = 0.86157147552589\n"
          ]
        }
      ],
      "source": [
        "# lbl_xgb.py\n",
        "\n",
        "def run(fold):\n",
        "    # load the full training data with folds\n",
        "    df = pd.read_csv(\"adult_folds.csv\")\n",
        "    \n",
        "    # list of numerical columns\n",
        "    num_cols = [\n",
        "        \"fnlwgt\",\n",
        "        \"age\",\n",
        "        \"capital.gain\",\n",
        "        \"capital.loss\",\n",
        "        \"hours.per.week\"\n",
        "    ]\n",
        "    \n",
        "    # drop numerical columns\n",
        "    df = df.drop(num_cols, axis=1)\n",
        "\n",
        "    # map targets to 0s and 1s\n",
        "    target_mapping = {\n",
        "        \"<=50K\": 0,\n",
        "        \">50K\": 1\n",
        "    }\n",
        "    df.loc[:, \"income\"] = df.income.map(target_mapping)\n",
        "\n",
        "    # all columns are features except kfold & income columns\n",
        "    features = [\n",
        "        f for f in df.columns if f not in (\"kfold\", \"income\")\n",
        "    ]\n",
        "\n",
        "    # fill all NaN values with NONE\n",
        "    # note that I am converting all columns to \"strings\"\n",
        "    # it doesnt matter because all are categories\n",
        "    for col in features:\n",
        "        df.loc[:, col] = df[col].astype(str).fillna(\"NONE\")\n",
        "    \n",
        "    # now its time to label encode the features\n",
        "    for col in features:\n",
        "        # initialize LabelEncoder for each feature column\n",
        "        lbl = preprocessing.LabelEncoder()\n",
        "\n",
        "        # fit label econder on all data\n",
        "        lbl.fit(df[col])\n",
        "\n",
        "        # transform all the data\n",
        "        df.loc[:, col] = lbl.transform(df[col])\n",
        "    \n",
        "    # get training data using folds\n",
        "    df_train = df[df.kfold != fold].reset_index(drop=True)\n",
        "\n",
        "    # get validation data using folds\n",
        "    df_valid = df[df.kfold == fold].reset_index(drop=True)\n",
        "\n",
        "    # get training data\n",
        "    x_train = df_train[features].values\n",
        "\n",
        "    # get validation data\n",
        "    x_valid = df_valid[features].values\n",
        "\n",
        "    # initialize xgboost model\n",
        "    model = xgb.XGBClassifier(n_jobs=-1, max_depth=7, n_estimators=200)\n",
        "\n",
        "    # fit model on training data (ohe)\n",
        "    model.fit(x_train, df_train.income.values)\n",
        "\n",
        "    # predict on validation data\n",
        "    # we need the probality values as we are calculating AUC\n",
        "    # we will use the probability of 1s\n",
        "    valid_preds = model.predict_proba(x_valid)[:, 1]\n",
        "\n",
        "    # get roc auc score\n",
        "    auc = metrics.roc_auc_score(df_valid.income.values, valid_preds)\n",
        "\n",
        "    # print auc\n",
        "    print(f\"Fold = {fold}, AUC = {auc}\")\n",
        "\n",
        "for fold_ in range(5):\n",
        "    run(fold_)"
      ]
    },
    {
      "cell_type": "code",
      "execution_count": null,
      "metadata": {
        "colab": {
          "base_uri": "https://localhost:8080/"
        },
        "id": "DLNu7pgl09NO",
        "outputId": "eff7977e-f262-484d-aea3-8a7dc8518df4"
      },
      "outputs": [
        {
          "name": "stdout",
          "output_type": "stream",
          "text": [
            "Fold = 0, AUC = 0.9249964162030935\n",
            "Fold = 1, AUC = 0.9207368057963476\n",
            "Fold = 2, AUC = 0.9241582896811639\n",
            "Fold = 3, AUC = 0.9346637054397001\n",
            "Fold = 4, AUC = 0.9223273881761443\n"
          ]
        }
      ],
      "source": [
        "# lbl_xgb_num.py\n",
        "\n",
        "def run(fold):\n",
        "    # load the full training data with folds\n",
        "    df = pd.read_csv(\"adult_folds.csv\")\n",
        "    \n",
        "    # list of numerical columns\n",
        "    num_cols = [\n",
        "        \"fnlwgt\",\n",
        "        \"age\",\n",
        "        \"capital.gain\",\n",
        "        \"capital.loss\",\n",
        "        \"hours.per.week\"\n",
        "    ]\n",
        "\n",
        "    # map targets to 0s and 1s\n",
        "    target_mapping = {\n",
        "        \"<=50K\": 0,\n",
        "        \">50K\": 1\n",
        "    }\n",
        "    df.loc[:, \"income\"] = df.income.map(target_mapping)\n",
        "\n",
        "    # all columns are features except kfold & income columns\n",
        "    features = [\n",
        "        f for f in df.columns if f not in (\"kfold\", \"income\")\n",
        "    ]\n",
        "\n",
        "    # fill all NaN values with NONE\n",
        "    # note that I am converting all columns to \"strings\"\n",
        "    # it doesnt matter because all are categories\n",
        "    for col in features:\n",
        "        # do not encode the numerical columns\n",
        "        if col not in num_cols:\n",
        "            df.loc[:, col] = df[col].astype(str).fillna(\"NONE\")\n",
        "    \n",
        "    # now its time to label encode the features\n",
        "    for col in features:\n",
        "        if col not in num_cols:\n",
        "            # initialize LabelEncoder for each feature column\n",
        "            lbl = preprocessing.LabelEncoder()\n",
        "\n",
        "            # fit label econder on all data\n",
        "            lbl.fit(df[col])\n",
        "\n",
        "            # transform all the data\n",
        "            df.loc[:, col] = lbl.transform(df[col])\n",
        "    \n",
        "    # get training data using folds\n",
        "    df_train = df[df.kfold != fold].reset_index(drop=True)\n",
        "\n",
        "    # get validation data using folds\n",
        "    df_valid = df[df.kfold == fold].reset_index(drop=True)\n",
        "\n",
        "    # get training data\n",
        "    x_train = df_train[features].values\n",
        "\n",
        "    # get validation data\n",
        "    x_valid = df_valid[features].values\n",
        "\n",
        "    # initialize xgboost model\n",
        "    model = xgb.XGBClassifier(n_jobs=-1)\n",
        "\n",
        "    # fit model on training data (ohe)\n",
        "    model.fit(x_train, df_train.income.values)\n",
        "\n",
        "    # predict on validation data\n",
        "    # we need the probality values as we are calculating AUC\n",
        "    # we will use the probability of 1s\n",
        "    valid_preds = model.predict_proba(x_valid)[:, 1]\n",
        "\n",
        "    # get roc auc score\n",
        "    auc = metrics.roc_auc_score(df_valid.income.values, valid_preds)\n",
        "\n",
        "    # print auc\n",
        "    print(f\"Fold = {fold}, AUC = {auc}\")\n",
        "\n",
        "for fold_ in range(5):\n",
        "    run(fold_)"
      ]
    },
    {
      "cell_type": "code",
      "execution_count": null,
      "metadata": {
        "colab": {
          "base_uri": "https://localhost:8080/"
        },
        "id": "hqBLsV9226zk",
        "outputId": "bd5c9ee1-8a6a-4428-d27b-518459f096a8"
      },
      "outputs": [
        {
          "name": "stdout",
          "output_type": "stream",
          "text": [
            "Fold = 0, AUC = 0.9205887972055666\n",
            "Fold = 1, AUC = 0.9193905414107391\n",
            "Fold = 2, AUC = 0.9197497301408426\n",
            "Fold = 3, AUC = 0.9301711696511129\n",
            "Fold = 4, AUC = 0.9206904963138167\n"
          ]
        }
      ],
      "source": [
        "# lbl_xgb_num_feat.py\n",
        "\n",
        "def feature_engineering(df, cat_cols):\n",
        "    \"\"\"\n",
        "    This function is used for feature engineering\n",
        "    :param df: the pandas dataframe with train/test data\n",
        "    :param cat_cols: list of categorical columns\n",
        "    :return: dataframe with new features\n",
        "    \"\"\"\n",
        "    # this will create all 2-combinations of values in this list\n",
        "    # for example: list(itertools.combinations([1,2,3], 2)) will return\n",
        "    # [(1, 2), (1,3), (2, 3)]\n",
        "    combi = list(itertools.combinations(cat_cols, 2))\n",
        "    for c1, c2 in combi:\n",
        "        df.loc[:, c1 + '_' + c2] = df[c1].astype(str) + df[c2].astype(str)\n",
        "    return df\n",
        "\n",
        "def run(fold):\n",
        "    # load the full training data with folds\n",
        "    df = pd.read_csv(\"adult_folds.csv\")\n",
        "    \n",
        "    # list of numerical columns\n",
        "    num_cols = [\n",
        "        \"fnlwgt\",\n",
        "        \"age\",\n",
        "        \"capital.gain\",\n",
        "        \"capital.loss\",\n",
        "        \"hours.per.week\"\n",
        "    ]\n",
        "\n",
        "    # map targets to 0s and 1s\n",
        "    target_mapping = {\n",
        "        \"<=50K\": 0,\n",
        "        \">50K\": 1\n",
        "    }\n",
        "    df.loc[:, \"income\"] = df.income.map(target_mapping)\n",
        "\n",
        "    # list of categorical columns for feature engineering\n",
        "    cat_cols = [\n",
        "        c for c in df.columns if c not in num_cols\n",
        "        and c not in ('kfold', 'income')\n",
        "    ]\n",
        "\n",
        "    # add new features\n",
        "    df = feature_engineering(df, cat_cols)\n",
        "\n",
        "    # all columns are features except kfold & income columns\n",
        "    features = [\n",
        "        f for f in df.columns if f not in (\"kfold\", \"income\")\n",
        "    ]\n",
        "\n",
        "    # fill all NaN values with NONE\n",
        "    # note that I am converting all columns to \"strings\"\n",
        "    # it doesnt matter because all are categories\n",
        "    for col in features:\n",
        "        # do not encode the numerical columns\n",
        "        if col not in num_cols:\n",
        "            df.loc[:, col] = df[col].astype(str).fillna(\"NONE\")\n",
        "    \n",
        "    # now its time to label encode the features\n",
        "    for col in features:\n",
        "        if col not in num_cols:\n",
        "            # initialize LabelEncoder for each feature column\n",
        "            lbl = preprocessing.LabelEncoder()\n",
        "\n",
        "            # fit label econder on all data\n",
        "            lbl.fit(df[col])\n",
        "\n",
        "            # transform all the data\n",
        "            df.loc[:, col] = lbl.transform(df[col])\n",
        "    \n",
        "    # get training data using folds\n",
        "    df_train = df[df.kfold != fold].reset_index(drop=True)\n",
        "\n",
        "    # get validation data using folds\n",
        "    df_valid = df[df.kfold == fold].reset_index(drop=True)\n",
        "\n",
        "    # get training data\n",
        "    x_train = df_train[features].values\n",
        "\n",
        "    # get validation data\n",
        "    x_valid = df_valid[features].values\n",
        "\n",
        "    # initialize xgboost model\n",
        "    model = xgb.XGBClassifier(n_jobs=-1, max_depth=7)\n",
        "\n",
        "    # fit model on training data (ohe)\n",
        "    model.fit(x_train, df_train.income.values)\n",
        "\n",
        "    # predict on validation data\n",
        "    # we need the probality values as we are calculating AUC\n",
        "    # we will use the probability of 1s\n",
        "    valid_preds = model.predict_proba(x_valid)[:, 1]\n",
        "\n",
        "    # get roc auc score\n",
        "    auc = metrics.roc_auc_score(df_valid.income.values, valid_preds)\n",
        "\n",
        "    # print auc\n",
        "    print(f\"Fold = {fold}, AUC = {auc}\")\n",
        "\n",
        "for fold_ in range(5):\n",
        "    run(fold_)"
      ]
    },
    {
      "cell_type": "code",
      "execution_count": null,
      "metadata": {
        "colab": {
          "base_uri": "https://localhost:8080/"
        },
        "id": "Xow_iZ0V-UCH",
        "outputId": "d44c08b3-23cc-4b4c-d37c-a8a1a2858113"
      },
      "outputs": [
        {
          "name": "stdout",
          "output_type": "stream",
          "text": [
            "Fold = 0, AUC = 0.9250316740611483\n",
            "Fold = 1, AUC = 0.9216887946015786\n",
            "Fold = 2, AUC = 0.9212883272240934\n",
            "Fold = 3, AUC = 0.9327199971311338\n",
            "Fold = 4, AUC = 0.9242093075094115\n"
          ]
        }
      ],
      "source": [
        "# target_encoding.py\n",
        "\n",
        "def mean_target_encoding(data):\n",
        "    # make a copy of dataframe\n",
        "    df = copy.deepcopy(data)\n",
        "    \n",
        "    # list of numerical columns\n",
        "    num_cols = [\n",
        "        \"fnlwgt\",\n",
        "        \"age\",\n",
        "        \"capital.gain\",\n",
        "        \"capital.loss\",\n",
        "        \"hours.per.week\"\n",
        "    ]\n",
        "\n",
        "    # map targets to 0s and 1s\n",
        "    target_mapping = {\n",
        "        \"<=50K\": 0,\n",
        "        \">50K\": 1\n",
        "    }\n",
        "    df.loc[:, \"income\"] = df.income.map(target_mapping)\n",
        "\n",
        "    # all columns are features except income and kfold columns\n",
        "    features = [\n",
        "        f for f in df.columns if f not in (\"kfold\", \"income\")\n",
        "        and f not in num_cols\n",
        "    ]\n",
        "    \n",
        "    # fill all NaN values with NONE\n",
        "    # note that I am converting all columns to \"strings\"\n",
        "    # it doesnt matter because all are categories\n",
        "    for col in features:\n",
        "        # do not encode the numerical columns\n",
        "        if col not in num_cols:\n",
        "            df.loc[:, col] = df[col].astype(str).fillna(\"NONE\")\n",
        "    \n",
        "    # now its time to label encode the features\n",
        "    for col in features:\n",
        "        if col not in num_cols:\n",
        "            # initialize LabelEncoder for each feature column\n",
        "            lbl = preprocessing.LabelEncoder()\n",
        "            # fit label encoder on all data\n",
        "            lbl.fit(df[col])\n",
        "            # transform all the data\n",
        "            df.loc[:, col] = lbl.transform(df[col])\n",
        "\n",
        "    # a list to store 5 validation dataframes\n",
        "    encoded_dfs = []\n",
        "    # go over all folds\n",
        "    for fold in range(5):\n",
        "        # fetch training and validation data\n",
        "        df_train = df[df.kfold != fold].reset_index(drop=True)\n",
        "        df_valid = df[df.kfold == fold].reset_index(drop=True)\n",
        "        # for all feature columns, i.e. categorical columns\n",
        "        for column in features:\n",
        "            # create dict of category:mean target\n",
        "            mapping_dict = dict(\n",
        "                df_train.groupby(column)[\"income\"].mean()\n",
        "            )\n",
        "            # column_enc is the new column we have with mean encoding\n",
        "            df_valid.loc[\n",
        "                :, column + \"_enc\"\n",
        "            ] = df_valid[column].map(mapping_dict)\n",
        "        # append to our list of encoded validation dataframes\n",
        "        encoded_dfs.append(df_valid)\n",
        "    # create full data frame again and return\n",
        "    encoded_df = pd.concat(encoded_dfs, axis=0)\n",
        "    return encoded_df\n",
        "\n",
        "def run(df, fold):\n",
        "    # note that folds are same as before\n",
        "    # get training data using folds\n",
        "    df_train = df[df.kfold != fold].reset_index(drop=True)\n",
        "\n",
        "    # get validation data using folds\n",
        "    df_valid = df[df.kfold == fold].reset_index(drop=True)\n",
        "\n",
        "    # all columns are features except income and kfold columns\n",
        "    features = [\n",
        "        f for f in df.columns if f not in (\"kfold\", \"income\")\n",
        "    ]\n",
        "\n",
        "    # scale training data\n",
        "    x_train = df_train[features].values\n",
        "\n",
        "    # scale validation data\n",
        "    x_valid = df_valid[features].values\n",
        "\n",
        "    # initialize xgboost model\n",
        "    model = xgb.XGBClassifier(\n",
        "        n_jobs=-1,\n",
        "        max_depth=7\n",
        "    )\n",
        "\n",
        "    # fit model on training data (ohe)\n",
        "    model.fit(x_train, df_train.income.values)\n",
        "    \n",
        "    # predict on validation data\n",
        "    # we need the probability values as we are calculating AUC\n",
        "    # we will use the probability of 1s\n",
        "    valid_preds = model.predict_proba(x_valid)[:, 1]\n",
        "    \n",
        "    # get roc auc score\n",
        "    auc = metrics.roc_auc_score(df_valid.income.values, valid_preds)\n",
        "    \n",
        "    # print auc\n",
        "    print(f\"Fold = {fold}, AUC = {auc}\")\n",
        "\n",
        "# read data\n",
        "df = pd.read_csv(\"adult_folds.csv\")\n",
        "# create mean target encoded categories and\n",
        "# munge data\n",
        "df = mean_target_encoding(df)\n",
        "# run training and validation for 5 folds\n",
        "for fold_ in range(5):\n",
        "    run(df, fold_)"
      ]
    },
    {
      "cell_type": "code",
      "execution_count": null,
      "metadata": {
        "id": "8rUWpar2FwzY"
      },
      "outputs": [],
      "source": [
        "# entity_embeddings.py\n",
        "\n",
        "def create_model(data, catcols):\n",
        "    \"\"\"\n",
        "    This function returns a compiled tf.keras model\n",
        "    for entity embeddings\n",
        "    :param data: this is a pandas dataframe\n",
        "    :param catcols: list of categorical column names\n",
        "    :return: compiled tf.keral model\n",
        "    \"\"\"\n",
        "    # init list of inputs for embeddings\n",
        "    inputs = []\n",
        "\n",
        "    # init list of outputs for embeddings\n",
        "    outputs = []\n",
        "\n",
        "    # loop ober all categorical columns\n",
        "    for c in catcols:\n",
        "        # find the number of unique values in the clumns\n",
        "        num_unique_values = int(data[c].nunique())\n",
        "        # simple dimension of embedding calculator\n",
        "        # min size is half of number of unique values\n",
        "        # max size is 50. max size depends of the number of unique\n",
        "        # categories too. 50 is quate sufficient most of the times\n",
        "        # but if you have millions of unique values, you might need\n",
        "        # a larger dimension\n",
        "        embed_dim = int(min(np.ceil((num_unique_values) /2), 50))\n",
        "\n",
        "        # simple keras input layer with size 1\n",
        "        inp = layers.Input(shape=(1,))\n",
        "\n",
        "        # add embedding layer to raw input\n",
        "        # embedding size is always 1 more then unique values in input\n",
        "        out = layers.Embedding(\n",
        "            num_unique_values + 1, embed_dim, name=c\n",
        "        )(inp)\n",
        "\n",
        "        # 1-d spatial dropout is the standard for embedding layers\n",
        "        # you can use it in NLP tasks too\n",
        "        out = layers.SpatialDropout1D(0.3)(out)\n",
        "\n",
        "        # reshape the input to the dimenson of embedding\n",
        "        # this becomes our output layer for current feature\n",
        "        out = layers.Reshape(target_shape=(embed_dim, ))(out)\n",
        "\n",
        "        #add input to input list\n",
        "        inputs.append(inp)\n",
        "\n",
        "        # add output to output list\n",
        "        outputs.append(out)\n",
        "\n",
        "    #concatenate all output layers\n",
        "    x = layers.Concatenate()(outputs)\n",
        "\n",
        "    # add a batchnorm layer.\n",
        "    # from here, everything is up to you\n",
        "    # you can try different archtectures\n",
        "    # this is the architecture I like to use\n",
        "    # if you have numerical features, you should add\n",
        "    # them here or in cocatenate layer\n",
        "    x = layers.BatchNormalization()(x)\n",
        "\n",
        "    # a bunch of dense layers with dropout.\n",
        "    # start with 1 or two layers only\n",
        "    x = layers.Dense(300, activation='relu')(x)\n",
        "    x = layers.Dropout(0.3)(x)\n",
        "    x = layers.BatchNormalization()(x)\n",
        "\n",
        "    x = layers.Dense(300, activation='relu')(x)\n",
        "    x = layers.Dropout(0.3)(x)\n",
        "    x = layers.BatchNormalization()(x)\n",
        "\n",
        "    # using softmax and treating it as a two class problem\n",
        "    # you can also use sigmoid, then you need to use only one\n",
        "    # output class\n",
        "    y = layers.Dense(2, activation='softmax')(x)\n",
        "\n",
        "    # create final model\n",
        "    model = Model(inputs=inputs, outputs=y)\n",
        "\n",
        "    # compile the model\n",
        "    # we use adam and binary cross entropy\n",
        "    # feel free to use something else and see how model behaves\n",
        "    model.compile(loss='binary_crossentropy', optimizer='adam')\n",
        "    return model\n",
        "\n",
        "def run(fold):\n",
        "    # load the full training data with folds\n",
        "    df = pd.read_csv('')        "
      ]
    },
    {
      "attachments": {},
      "cell_type": "markdown",
      "metadata": {},
      "source": [
        "## Feature engineering"
      ]
    },
    {
      "cell_type": "code",
      "execution_count": 3,
      "metadata": {},
      "outputs": [
        {
          "name": "stderr",
          "output_type": "stream",
          "text": [
            "C:\\Users\\rafel\\AppData\\Local\\Temp\\ipykernel_17040\\924909225.py:13: FutureWarning: Series.dt.weekofyear and Series.dt.week have been deprecated. Please use Series.dt.isocalendar().week instead.\n",
            "  'weekofyear': s.dt.weekofyear.values,\n"
          ]
        },
        {
          "data": {
            "text/html": [
              "<div>\n",
              "<style scoped>\n",
              "    .dataframe tbody tr th:only-of-type {\n",
              "        vertical-align: middle;\n",
              "    }\n",
              "\n",
              "    .dataframe tbody tr th {\n",
              "        vertical-align: top;\n",
              "    }\n",
              "\n",
              "    .dataframe thead th {\n",
              "        text-align: right;\n",
              "    }\n",
              "</style>\n",
              "<table border=\"1\" class=\"dataframe\">\n",
              "  <thead>\n",
              "    <tr style=\"text-align: right;\">\n",
              "      <th></th>\n",
              "      <th>dayofweek</th>\n",
              "      <th>dayofyear</th>\n",
              "      <th>hour</th>\n",
              "      <th>is_leap_year</th>\n",
              "      <th>quarter</th>\n",
              "      <th>weekofyear</th>\n",
              "    </tr>\n",
              "  </thead>\n",
              "  <tbody>\n",
              "    <tr>\n",
              "      <th>0</th>\n",
              "      <td>0</td>\n",
              "      <td>6</td>\n",
              "      <td>0</td>\n",
              "      <td>True</td>\n",
              "      <td>1</td>\n",
              "      <td>2</td>\n",
              "    </tr>\n",
              "    <tr>\n",
              "      <th>1</th>\n",
              "      <td>0</td>\n",
              "      <td>6</td>\n",
              "      <td>10</td>\n",
              "      <td>True</td>\n",
              "      <td>1</td>\n",
              "      <td>2</td>\n",
              "    </tr>\n",
              "    <tr>\n",
              "      <th>2</th>\n",
              "      <td>0</td>\n",
              "      <td>6</td>\n",
              "      <td>20</td>\n",
              "      <td>True</td>\n",
              "      <td>1</td>\n",
              "      <td>2</td>\n",
              "    </tr>\n",
              "    <tr>\n",
              "      <th>3</th>\n",
              "      <td>1</td>\n",
              "      <td>7</td>\n",
              "      <td>6</td>\n",
              "      <td>True</td>\n",
              "      <td>1</td>\n",
              "      <td>2</td>\n",
              "    </tr>\n",
              "    <tr>\n",
              "      <th>4</th>\n",
              "      <td>1</td>\n",
              "      <td>7</td>\n",
              "      <td>16</td>\n",
              "      <td>True</td>\n",
              "      <td>1</td>\n",
              "      <td>2</td>\n",
              "    </tr>\n",
              "  </tbody>\n",
              "</table>\n",
              "</div>"
            ],
            "text/plain": [
              "   dayofweek  dayofyear  hour  is_leap_year  quarter  weekofyear\n",
              "0          0          6     0          True        1           2\n",
              "1          0          6    10          True        1           2\n",
              "2          0          6    20          True        1           2\n",
              "3          1          7     6          True        1           2\n",
              "4          1          7    16          True        1           2"
            ]
          },
          "execution_count": 3,
          "metadata": {},
          "output_type": "execute_result"
        }
      ],
      "source": [
        "import pandas as pd\n",
        "\n",
        "# create a series of datetime with a frequency of 10 hours\n",
        "s = pd.date_range('2020-01-06', '2020-01-10', freq='10H').to_series()\n",
        "\n",
        "# create some features based on datetime\n",
        "features = {\n",
        "    'dayofweek': s.dt.dayofweek.values,\n",
        "    'dayofyear': s.dt.dayofyear.values,\n",
        "    'hour': s.dt.hour.values,\n",
        "    'is_leap_year': s.dt.is_leap_year.values,\n",
        "    'quarter': s.dt.quarter.values,\n",
        "    'weekofyear': s.dt.weekofyear.values,\n",
        "}\n",
        "\n",
        "# create a dataframe from the features\n",
        "df = pd.DataFrame(features)\n",
        "df.head()"
      ]
    },
    {
      "cell_type": "code",
      "execution_count": 1,
      "metadata": {},
      "outputs": [],
      "source": [
        "def generate_features(df):\n",
        "    # create a bunch of features using the date column\n",
        "    df.loc[:, 'year'] = df['date'].dt.year\n",
        "    df.loc[:, 'weekofyear'] = df['date'].dt.weekofyear\n",
        "    df.loc[:, 'month'] = df['date'].dt.month\n",
        "    df.loc[:, 'dayofweek'] = df['date'].dt.dayofweek\n",
        "    df.loc[:, 'weekend'] = (df['date'].dt.weekday >=5).astype(int)\n",
        "\n",
        "    # create an aggregate dictionary\n",
        "    aggs = {}\n",
        "    # for aggregation by month, we calculate the \n",
        "    # number of unique month values and also the mean\n",
        "    aggs['month'] = ['nunique', 'mean']\n",
        "    aggs['weekofyear'] = ['nunique', 'mean']\n",
        "    # we aggregate by num1 and calculate sum, max, min\n",
        "    # and mean values of this column\n",
        "    aggs['num1'] = ['sum', 'max', 'min', 'mean']\n",
        "    # for costumer_id, we calculate the total unique\n",
        "    aggs['costumer_id'] = ['nunique']\n",
        "\n",
        "    # we group by costumer_id and calculate the aggregates\n",
        "    agg_df = df.groupby('costumer_id').agg(aggs)\n",
        "    agg_df = agg_df.reset_index()\n",
        "    return agg_df"
      ]
    }
  ],
  "metadata": {
    "colab": {
      "provenance": []
    },
    "gpuClass": "standard",
    "kernelspec": {
      "display_name": "Python 3",
      "language": "python",
      "name": "python3"
    },
    "language_info": {
      "codemirror_mode": {
        "name": "ipython",
        "version": 3
      },
      "file_extension": ".py",
      "mimetype": "text/x-python",
      "name": "python",
      "nbconvert_exporter": "python",
      "pygments_lexer": "ipython3",
      "version": "3.10.7"
    },
    "vscode": {
      "interpreter": {
        "hash": "bf058145f3dc01f8d03d71b59620bfe64ad48af94d27f590843dac83f702520b"
      }
    }
  },
  "nbformat": 4,
  "nbformat_minor": 0
}
